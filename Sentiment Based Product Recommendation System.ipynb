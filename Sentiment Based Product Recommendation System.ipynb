{
 "cells": [
  {
   "cell_type": "markdown",
   "id": "bb695d71",
   "metadata": {},
   "source": [
    "# Problem Statement"
   ]
  },
  {
   "cell_type": "markdown",
   "id": "b83516e3",
   "metadata": {},
   "source": [
    "Build a **sentiment-based product recommendation system** for '*Ebuss*', an e-commerce company, to improve the recommendations given to the users given their past reviews and ratings.\n",
    "\n",
    "Perform the following:\n",
    " - **Data sourcing and sentiment analysis**\n",
    "    - Exploratory data analysis\n",
    "    - Data cleaning\n",
    "    - Text preprocessing\n",
    "    - Feature extraction\n",
    "    - Training a text classification model (select the best model)\n",
    "       1. Logistic regression\n",
    "       2. Random forest\n",
    "       3. XGBoost\n",
    "       4. Naive Bayes\n",
    " - **Building a recommendation system**  \n",
    "    - Select the one that is best suited: \n",
    "        1. User-based recommendation system\n",
    "        2. Item-based recommendation system\n",
    "    - Determine the top 20 products that a user is most likely to purchase based on the ratings\n",
    " - **Improving the recommendations using the sentiment analysis model**\n",
    "    - Use both the recommendation system and the sentiment analysis model to further filter out the top 5 products (based on both ratings and sentiments).\n",
    " - **Deploying the end-to-end project with a user interface**\n",
    "    - Use Flask framework and Heroku:\n",
    "        1. Enter any of the existing username.\n",
    "        2. Click [Submit] to see the top 5 recommended products for that user."
   ]
  },
  {
   "cell_type": "markdown",
   "id": "f99e376c",
   "metadata": {},
   "source": [
    "# Importing libraries"
   ]
  },
  {
   "cell_type": "code",
   "execution_count": 1,
   "id": "1c945e04",
   "metadata": {},
   "outputs": [
    {
     "name": "stderr",
     "output_type": "stream",
     "text": [
      "[nltk_data] Downloading package punkt to\n",
      "[nltk_data]     C:\\Users\\dipin\\AppData\\Roaming\\nltk_data...\n",
      "[nltk_data]   Package punkt is already up-to-date!\n",
      "[nltk_data] Downloading package averaged_perceptron_tagger to\n",
      "[nltk_data]     C:\\Users\\dipin\\AppData\\Roaming\\nltk_data...\n",
      "[nltk_data]   Package averaged_perceptron_tagger is already up-to-\n",
      "[nltk_data]       date!\n"
     ]
    }
   ],
   "source": [
    "import json \n",
    "import numpy as np\n",
    "import pandas as pd\n",
    "\n",
    "import seaborn as sns\n",
    "import matplotlib.pyplot as plt\n",
    "%matplotlib inline\n",
    "import warnings\n",
    "warnings.filterwarnings('ignore')\n",
    "\n",
    "from plotly.offline import plot\n",
    "import plotly.graph_objects as go\n",
    "import plotly.express as px\n",
    "\n",
    "from sklearn.feature_extraction.text import CountVectorizer, TfidfVectorizer, TfidfTransformer\n",
    "from sklearn.metrics import accuracy_score\n",
    "from sklearn.model_selection import train_test_split, cross_val_score\n",
    "from sklearn.model_selection import RandomizedSearchCV, GridSearchCV\n",
    "from sklearn.model_selection import RepeatedStratifiedKFold\n",
    "from sklearn.metrics import confusion_matrix, classification_report, roc_auc_score\n",
    "from sklearn.metrics import precision_score, recall_score, f1_score\n",
    "# from sklearn.metrics import plot_roc_curve\n",
    "from scikitplot.metrics import plot_roc_curve\n",
    "\n",
    "from sklearn.linear_model import LogisticRegression\n",
    "from sklearn.ensemble import RandomForestClassifier\n",
    "import xgboost as xgb\n",
    "from xgboost import XGBClassifier\n",
    "from sklearn.preprocessing import LabelEncoder\n",
    "\n",
    "import nltk\n",
    "nltk.download('punkt')\n",
    "nltk.download('averaged_perceptron_tagger')\n",
    "from nltk.corpus import stopwords\n",
    "from nltk.tokenize import word_tokenize\n",
    "from collections import Counter\n",
    "import string\n",
    "from nltk.stem.porter import PorterStemmer\n",
    "from nltk.stem import WordNetLemmatizer\n",
    "\n",
    "from textblob import TextBlob\n",
    "from wordcloud import WordCloud, STOPWORDS, ImageColorGenerator\n",
    "from imblearn.over_sampling import SMOTE\n",
    "\n",
    "import re, nltk, spacy, string\n",
    "import spacy\n",
    "import en_core_web_sm\n",
    "# nlp = en_core_web_sm.load()\n",
    "nlp = spacy.load('en_core_web_sm',  disable=[\"parser\", \"ner\"])\n",
    "\n",
    "from sklearn.preprocessing import MinMaxScaler\n",
    "from numpy import *\n",
    "\n",
    "# Import pickle\n",
    "import pickle\n",
    "\n",
    "from sklearn.metrics.pairwise import pairwise_distances, cosine_similarity\n",
    "from sklearn.preprocessing import MinMaxScaler\n",
    "\n",
    "from pprint import pprint"
   ]
  },
  {
   "cell_type": "markdown",
   "id": "8c386f4e",
   "metadata": {},
   "source": [
    "# Data sourcing and sentiment analysis"
   ]
  },
  {
   "cell_type": "markdown",
   "id": "7334dab3",
   "metadata": {},
   "source": [
    "## Exploratory data analysis"
   ]
  },
  {
   "cell_type": "code",
   "execution_count": 2,
   "id": "6b5ca57f",
   "metadata": {},
   "outputs": [
    {
     "data": {
      "text/html": [
       "<div>\n",
       "<style scoped>\n",
       "    .dataframe tbody tr th:only-of-type {\n",
       "        vertical-align: middle;\n",
       "    }\n",
       "\n",
       "    .dataframe tbody tr th {\n",
       "        vertical-align: top;\n",
       "    }\n",
       "\n",
       "    .dataframe thead th {\n",
       "        text-align: right;\n",
       "    }\n",
       "</style>\n",
       "<table border=\"1\" class=\"dataframe\">\n",
       "  <thead>\n",
       "    <tr style=\"text-align: right;\">\n",
       "      <th></th>\n",
       "      <th>id</th>\n",
       "      <th>brand</th>\n",
       "      <th>categories</th>\n",
       "      <th>manufacturer</th>\n",
       "      <th>name</th>\n",
       "      <th>reviews_date</th>\n",
       "      <th>reviews_didPurchase</th>\n",
       "      <th>reviews_doRecommend</th>\n",
       "      <th>reviews_rating</th>\n",
       "      <th>reviews_text</th>\n",
       "      <th>reviews_title</th>\n",
       "      <th>reviews_userCity</th>\n",
       "      <th>reviews_userProvince</th>\n",
       "      <th>reviews_username</th>\n",
       "      <th>user_sentiment</th>\n",
       "    </tr>\n",
       "  </thead>\n",
       "  <tbody>\n",
       "    <tr>\n",
       "      <th>0</th>\n",
       "      <td>AV13O1A8GV-KLJ3akUyj</td>\n",
       "      <td>Universal Music</td>\n",
       "      <td>Movies, Music &amp; Books,Music,R&amp;b,Movies &amp; TV,Mo...</td>\n",
       "      <td>Universal Music Group / Cash Money</td>\n",
       "      <td>Pink Friday: Roman Reloaded Re-Up (w/dvd)</td>\n",
       "      <td>2012-11-30T06:21:45.000Z</td>\n",
       "      <td>NaN</td>\n",
       "      <td>NaN</td>\n",
       "      <td>5</td>\n",
       "      <td>i love this album. it's very good. more to the...</td>\n",
       "      <td>Just Awesome</td>\n",
       "      <td>Los Angeles</td>\n",
       "      <td>NaN</td>\n",
       "      <td>joshua</td>\n",
       "      <td>Positive</td>\n",
       "    </tr>\n",
       "    <tr>\n",
       "      <th>1</th>\n",
       "      <td>AV14LG0R-jtxr-f38QfS</td>\n",
       "      <td>Lundberg</td>\n",
       "      <td>Food,Packaged Foods,Snacks,Crackers,Snacks, Co...</td>\n",
       "      <td>Lundberg</td>\n",
       "      <td>Lundberg Organic Cinnamon Toast Rice Cakes</td>\n",
       "      <td>2017-07-09T00:00:00.000Z</td>\n",
       "      <td>True</td>\n",
       "      <td>NaN</td>\n",
       "      <td>5</td>\n",
       "      <td>Good flavor. This review was collected as part...</td>\n",
       "      <td>Good</td>\n",
       "      <td>NaN</td>\n",
       "      <td>NaN</td>\n",
       "      <td>dorothy w</td>\n",
       "      <td>Positive</td>\n",
       "    </tr>\n",
       "    <tr>\n",
       "      <th>2</th>\n",
       "      <td>AV14LG0R-jtxr-f38QfS</td>\n",
       "      <td>Lundberg</td>\n",
       "      <td>Food,Packaged Foods,Snacks,Crackers,Snacks, Co...</td>\n",
       "      <td>Lundberg</td>\n",
       "      <td>Lundberg Organic Cinnamon Toast Rice Cakes</td>\n",
       "      <td>2017-07-09T00:00:00.000Z</td>\n",
       "      <td>True</td>\n",
       "      <td>NaN</td>\n",
       "      <td>5</td>\n",
       "      <td>Good flavor.</td>\n",
       "      <td>Good</td>\n",
       "      <td>NaN</td>\n",
       "      <td>NaN</td>\n",
       "      <td>dorothy w</td>\n",
       "      <td>Positive</td>\n",
       "    </tr>\n",
       "    <tr>\n",
       "      <th>3</th>\n",
       "      <td>AV16khLE-jtxr-f38VFn</td>\n",
       "      <td>K-Y</td>\n",
       "      <td>Personal Care,Medicine Cabinet,Lubricant/Sperm...</td>\n",
       "      <td>K-Y</td>\n",
       "      <td>K-Y Love Sensuality Pleasure Gel</td>\n",
       "      <td>2016-01-06T00:00:00.000Z</td>\n",
       "      <td>False</td>\n",
       "      <td>False</td>\n",
       "      <td>1</td>\n",
       "      <td>I read through the reviews on here before look...</td>\n",
       "      <td>Disappointed</td>\n",
       "      <td>NaN</td>\n",
       "      <td>NaN</td>\n",
       "      <td>rebecca</td>\n",
       "      <td>Negative</td>\n",
       "    </tr>\n",
       "    <tr>\n",
       "      <th>4</th>\n",
       "      <td>AV16khLE-jtxr-f38VFn</td>\n",
       "      <td>K-Y</td>\n",
       "      <td>Personal Care,Medicine Cabinet,Lubricant/Sperm...</td>\n",
       "      <td>K-Y</td>\n",
       "      <td>K-Y Love Sensuality Pleasure Gel</td>\n",
       "      <td>2016-12-21T00:00:00.000Z</td>\n",
       "      <td>False</td>\n",
       "      <td>False</td>\n",
       "      <td>1</td>\n",
       "      <td>My husband bought this gel for us. The gel cau...</td>\n",
       "      <td>Irritation</td>\n",
       "      <td>NaN</td>\n",
       "      <td>NaN</td>\n",
       "      <td>walker557</td>\n",
       "      <td>Negative</td>\n",
       "    </tr>\n",
       "  </tbody>\n",
       "</table>\n",
       "</div>"
      ],
      "text/plain": [
       "                     id            brand   \n",
       "0  AV13O1A8GV-KLJ3akUyj  Universal Music  \\\n",
       "1  AV14LG0R-jtxr-f38QfS         Lundberg   \n",
       "2  AV14LG0R-jtxr-f38QfS         Lundberg   \n",
       "3  AV16khLE-jtxr-f38VFn              K-Y   \n",
       "4  AV16khLE-jtxr-f38VFn              K-Y   \n",
       "\n",
       "                                          categories   \n",
       "0  Movies, Music & Books,Music,R&b,Movies & TV,Mo...  \\\n",
       "1  Food,Packaged Foods,Snacks,Crackers,Snacks, Co...   \n",
       "2  Food,Packaged Foods,Snacks,Crackers,Snacks, Co...   \n",
       "3  Personal Care,Medicine Cabinet,Lubricant/Sperm...   \n",
       "4  Personal Care,Medicine Cabinet,Lubricant/Sperm...   \n",
       "\n",
       "                         manufacturer   \n",
       "0  Universal Music Group / Cash Money  \\\n",
       "1                            Lundberg   \n",
       "2                            Lundberg   \n",
       "3                                 K-Y   \n",
       "4                                 K-Y   \n",
       "\n",
       "                                         name              reviews_date   \n",
       "0   Pink Friday: Roman Reloaded Re-Up (w/dvd)  2012-11-30T06:21:45.000Z  \\\n",
       "1  Lundberg Organic Cinnamon Toast Rice Cakes  2017-07-09T00:00:00.000Z   \n",
       "2  Lundberg Organic Cinnamon Toast Rice Cakes  2017-07-09T00:00:00.000Z   \n",
       "3            K-Y Love Sensuality Pleasure Gel  2016-01-06T00:00:00.000Z   \n",
       "4            K-Y Love Sensuality Pleasure Gel  2016-12-21T00:00:00.000Z   \n",
       "\n",
       "  reviews_didPurchase reviews_doRecommend  reviews_rating   \n",
       "0                 NaN                 NaN               5  \\\n",
       "1                True                 NaN               5   \n",
       "2                True                 NaN               5   \n",
       "3               False               False               1   \n",
       "4               False               False               1   \n",
       "\n",
       "                                        reviews_text reviews_title   \n",
       "0  i love this album. it's very good. more to the...  Just Awesome  \\\n",
       "1  Good flavor. This review was collected as part...          Good   \n",
       "2                                       Good flavor.          Good   \n",
       "3  I read through the reviews on here before look...  Disappointed   \n",
       "4  My husband bought this gel for us. The gel cau...    Irritation   \n",
       "\n",
       "  reviews_userCity reviews_userProvince reviews_username user_sentiment  \n",
       "0      Los Angeles                  NaN           joshua       Positive  \n",
       "1              NaN                  NaN        dorothy w       Positive  \n",
       "2              NaN                  NaN        dorothy w       Positive  \n",
       "3              NaN                  NaN          rebecca       Negative  \n",
       "4              NaN                  NaN        walker557       Negative  "
      ]
     },
     "execution_count": 2,
     "metadata": {},
     "output_type": "execute_result"
    }
   ],
   "source": [
    "df = pd.read_csv(\"sample30.csv\")\n",
    "df.head()"
   ]
  },
  {
   "cell_type": "code",
   "execution_count": 3,
   "id": "a396769a",
   "metadata": {},
   "outputs": [
    {
     "data": {
      "text/plain": [
       "(30000, 15)"
      ]
     },
     "execution_count": 3,
     "metadata": {},
     "output_type": "execute_result"
    }
   ],
   "source": [
    "df.shape"
   ]
  },
  {
   "cell_type": "code",
   "execution_count": 4,
   "id": "2f0e2568",
   "metadata": {},
   "outputs": [
    {
     "name": "stdout",
     "output_type": "stream",
     "text": [
      "<class 'pandas.core.frame.DataFrame'>\n",
      "RangeIndex: 30000 entries, 0 to 29999\n",
      "Data columns (total 15 columns):\n",
      " #   Column                Non-Null Count  Dtype \n",
      "---  ------                --------------  ----- \n",
      " 0   id                    30000 non-null  object\n",
      " 1   brand                 30000 non-null  object\n",
      " 2   categories            30000 non-null  object\n",
      " 3   manufacturer          29859 non-null  object\n",
      " 4   name                  30000 non-null  object\n",
      " 5   reviews_date          29954 non-null  object\n",
      " 6   reviews_didPurchase   15932 non-null  object\n",
      " 7   reviews_doRecommend   27430 non-null  object\n",
      " 8   reviews_rating        30000 non-null  int64 \n",
      " 9   reviews_text          30000 non-null  object\n",
      " 10  reviews_title         29810 non-null  object\n",
      " 11  reviews_userCity      1929 non-null   object\n",
      " 12  reviews_userProvince  170 non-null    object\n",
      " 13  reviews_username      29937 non-null  object\n",
      " 14  user_sentiment        29999 non-null  object\n",
      "dtypes: int64(1), object(14)\n",
      "memory usage: 3.4+ MB\n"
     ]
    }
   ],
   "source": [
    "df.info()"
   ]
  },
  {
   "cell_type": "markdown",
   "id": "be7ac8cf",
   "metadata": {},
   "source": [
    "## Data Cleaning"
   ]
  },
  {
   "cell_type": "code",
   "execution_count": 5,
   "id": "886d3aca",
   "metadata": {},
   "outputs": [
    {
     "data": {
      "text/plain": [
       "reviews_userProvince    99.43\n",
       "reviews_userCity        93.57\n",
       "reviews_didPurchase     46.89\n",
       "reviews_doRecommend      8.57\n",
       "reviews_title            0.63\n",
       "manufacturer             0.47\n",
       "reviews_username         0.21\n",
       "reviews_date             0.15\n",
       "id                       0.00\n",
       "brand                    0.00\n",
       "categories               0.00\n",
       "name                     0.00\n",
       "reviews_rating           0.00\n",
       "reviews_text             0.00\n",
       "user_sentiment           0.00\n",
       "dtype: float64"
      ]
     },
     "execution_count": 5,
     "metadata": {},
     "output_type": "execute_result"
    }
   ],
   "source": [
    "df.isna().mean().round(4).mul(100).sort_values(ascending=False)"
   ]
  },
  {
   "cell_type": "markdown",
   "id": "9421ec95",
   "metadata": {},
   "source": [
    "Observations:\n",
    "\n",
    "- As reviews_userProvince and reviews_userCity have over 93% missing values, let's remove these columns (as imputation could lead to high noise in the data).\n",
    "- Also, reviews_didPurchase column has over 46% NULL values. As this doesn't help in calulating the sentiment, let's drop this column too."
   ]
  },
  {
   "cell_type": "code",
   "execution_count": 6,
   "id": "986198bb",
   "metadata": {},
   "outputs": [
    {
     "data": {
      "text/plain": [
       "(30000, 12)"
      ]
     },
     "execution_count": 6,
     "metadata": {},
     "output_type": "execute_result"
    }
   ],
   "source": [
    "df_clean = df.drop(columns=['reviews_userProvince','reviews_userCity','reviews_didPurchase'])\n",
    "df_clean.shape"
   ]
  },
  {
   "cell_type": "markdown",
   "id": "85178d2f",
   "metadata": {},
   "source": [
    "Change the type of reviews_date column from object to date"
   ]
  },
  {
   "cell_type": "code",
   "execution_count": 7,
   "id": "0fb7dc3d",
   "metadata": {},
   "outputs": [],
   "source": [
    "df_clean['reviews_date'] = pd.to_datetime(df_clean['reviews_date'], errors='coerce')"
   ]
  },
  {
   "cell_type": "code",
   "execution_count": 8,
   "id": "c6aacf0b",
   "metadata": {},
   "outputs": [
    {
     "data": {
      "text/html": [
       "<div>\n",
       "<style scoped>\n",
       "    .dataframe tbody tr th:only-of-type {\n",
       "        vertical-align: middle;\n",
       "    }\n",
       "\n",
       "    .dataframe tbody tr th {\n",
       "        vertical-align: top;\n",
       "    }\n",
       "\n",
       "    .dataframe thead th {\n",
       "        text-align: right;\n",
       "    }\n",
       "</style>\n",
       "<table border=\"1\" class=\"dataframe\">\n",
       "  <thead>\n",
       "    <tr style=\"text-align: right;\">\n",
       "      <th></th>\n",
       "      <th>id</th>\n",
       "      <th>brand</th>\n",
       "      <th>categories</th>\n",
       "      <th>manufacturer</th>\n",
       "      <th>name</th>\n",
       "      <th>reviews_date</th>\n",
       "      <th>reviews_doRecommend</th>\n",
       "      <th>reviews_rating</th>\n",
       "      <th>reviews_text</th>\n",
       "      <th>reviews_title</th>\n",
       "      <th>reviews_username</th>\n",
       "      <th>user_sentiment</th>\n",
       "    </tr>\n",
       "  </thead>\n",
       "  <tbody>\n",
       "    <tr>\n",
       "      <th>0</th>\n",
       "      <td>AV13O1A8GV-KLJ3akUyj</td>\n",
       "      <td>Universal Music</td>\n",
       "      <td>Movies, Music &amp; Books,Music,R&amp;b,Movies &amp; TV,Mo...</td>\n",
       "      <td>Universal Music Group / Cash Money</td>\n",
       "      <td>Pink Friday: Roman Reloaded Re-Up (w/dvd)</td>\n",
       "      <td>2012-11-30 06:21:45+00:00</td>\n",
       "      <td>NaN</td>\n",
       "      <td>5</td>\n",
       "      <td>i love this album. it's very good. more to the...</td>\n",
       "      <td>Just Awesome</td>\n",
       "      <td>joshua</td>\n",
       "      <td>Positive</td>\n",
       "    </tr>\n",
       "    <tr>\n",
       "      <th>1</th>\n",
       "      <td>AV14LG0R-jtxr-f38QfS</td>\n",
       "      <td>Lundberg</td>\n",
       "      <td>Food,Packaged Foods,Snacks,Crackers,Snacks, Co...</td>\n",
       "      <td>Lundberg</td>\n",
       "      <td>Lundberg Organic Cinnamon Toast Rice Cakes</td>\n",
       "      <td>2017-07-09 00:00:00+00:00</td>\n",
       "      <td>NaN</td>\n",
       "      <td>5</td>\n",
       "      <td>Good flavor. This review was collected as part...</td>\n",
       "      <td>Good</td>\n",
       "      <td>dorothy w</td>\n",
       "      <td>Positive</td>\n",
       "    </tr>\n",
       "    <tr>\n",
       "      <th>2</th>\n",
       "      <td>AV14LG0R-jtxr-f38QfS</td>\n",
       "      <td>Lundberg</td>\n",
       "      <td>Food,Packaged Foods,Snacks,Crackers,Snacks, Co...</td>\n",
       "      <td>Lundberg</td>\n",
       "      <td>Lundberg Organic Cinnamon Toast Rice Cakes</td>\n",
       "      <td>2017-07-09 00:00:00+00:00</td>\n",
       "      <td>NaN</td>\n",
       "      <td>5</td>\n",
       "      <td>Good flavor.</td>\n",
       "      <td>Good</td>\n",
       "      <td>dorothy w</td>\n",
       "      <td>Positive</td>\n",
       "    </tr>\n",
       "    <tr>\n",
       "      <th>3</th>\n",
       "      <td>AV16khLE-jtxr-f38VFn</td>\n",
       "      <td>K-Y</td>\n",
       "      <td>Personal Care,Medicine Cabinet,Lubricant/Sperm...</td>\n",
       "      <td>K-Y</td>\n",
       "      <td>K-Y Love Sensuality Pleasure Gel</td>\n",
       "      <td>2016-01-06 00:00:00+00:00</td>\n",
       "      <td>False</td>\n",
       "      <td>1</td>\n",
       "      <td>I read through the reviews on here before look...</td>\n",
       "      <td>Disappointed</td>\n",
       "      <td>rebecca</td>\n",
       "      <td>Negative</td>\n",
       "    </tr>\n",
       "    <tr>\n",
       "      <th>4</th>\n",
       "      <td>AV16khLE-jtxr-f38VFn</td>\n",
       "      <td>K-Y</td>\n",
       "      <td>Personal Care,Medicine Cabinet,Lubricant/Sperm...</td>\n",
       "      <td>K-Y</td>\n",
       "      <td>K-Y Love Sensuality Pleasure Gel</td>\n",
       "      <td>2016-12-21 00:00:00+00:00</td>\n",
       "      <td>False</td>\n",
       "      <td>1</td>\n",
       "      <td>My husband bought this gel for us. The gel cau...</td>\n",
       "      <td>Irritation</td>\n",
       "      <td>walker557</td>\n",
       "      <td>Negative</td>\n",
       "    </tr>\n",
       "    <tr>\n",
       "      <th>...</th>\n",
       "      <td>...</td>\n",
       "      <td>...</td>\n",
       "      <td>...</td>\n",
       "      <td>...</td>\n",
       "      <td>...</td>\n",
       "      <td>...</td>\n",
       "      <td>...</td>\n",
       "      <td>...</td>\n",
       "      <td>...</td>\n",
       "      <td>...</td>\n",
       "      <td>...</td>\n",
       "      <td>...</td>\n",
       "    </tr>\n",
       "    <tr>\n",
       "      <th>29995</th>\n",
       "      <td>AVpfW8y_LJeJML437ySW</td>\n",
       "      <td>L'oreal Paris</td>\n",
       "      <td>Beauty,Hair Care,Shampoo &amp; Conditioner,Holiday...</td>\n",
       "      <td>L'oreal Paris</td>\n",
       "      <td>L'or233al Paris Elvive Extraordinary Clay Reba...</td>\n",
       "      <td>2017-01-23 00:00:00+00:00</td>\n",
       "      <td>True</td>\n",
       "      <td>5</td>\n",
       "      <td>I got this conditioner with Influenster to try...</td>\n",
       "      <td>Softness!!</td>\n",
       "      <td>laurasnchz</td>\n",
       "      <td>Positive</td>\n",
       "    </tr>\n",
       "    <tr>\n",
       "      <th>29996</th>\n",
       "      <td>AVpfW8y_LJeJML437ySW</td>\n",
       "      <td>L'oreal Paris</td>\n",
       "      <td>Beauty,Hair Care,Shampoo &amp; Conditioner,Holiday...</td>\n",
       "      <td>L'oreal Paris</td>\n",
       "      <td>L'or233al Paris Elvive Extraordinary Clay Reba...</td>\n",
       "      <td>2017-01-27 00:00:00+00:00</td>\n",
       "      <td>True</td>\n",
       "      <td>5</td>\n",
       "      <td>I love it , I received this for review purpose...</td>\n",
       "      <td>I love it</td>\n",
       "      <td>scarlepadilla</td>\n",
       "      <td>Positive</td>\n",
       "    </tr>\n",
       "    <tr>\n",
       "      <th>29997</th>\n",
       "      <td>AVpfW8y_LJeJML437ySW</td>\n",
       "      <td>L'oreal Paris</td>\n",
       "      <td>Beauty,Hair Care,Shampoo &amp; Conditioner,Holiday...</td>\n",
       "      <td>L'oreal Paris</td>\n",
       "      <td>L'or233al Paris Elvive Extraordinary Clay Reba...</td>\n",
       "      <td>2017-01-21 00:00:00+00:00</td>\n",
       "      <td>True</td>\n",
       "      <td>5</td>\n",
       "      <td>First of all I love the smell of this product....</td>\n",
       "      <td>Hair is so smooth after use</td>\n",
       "      <td>liviasuexo</td>\n",
       "      <td>Positive</td>\n",
       "    </tr>\n",
       "    <tr>\n",
       "      <th>29998</th>\n",
       "      <td>AVpfW8y_LJeJML437ySW</td>\n",
       "      <td>L'oreal Paris</td>\n",
       "      <td>Beauty,Hair Care,Shampoo &amp; Conditioner,Holiday...</td>\n",
       "      <td>L'oreal Paris</td>\n",
       "      <td>L'or233al Paris Elvive Extraordinary Clay Reba...</td>\n",
       "      <td>2017-01-11 00:00:00+00:00</td>\n",
       "      <td>True</td>\n",
       "      <td>5</td>\n",
       "      <td>I received this through Influenster and will n...</td>\n",
       "      <td>Perfect for my oily hair!</td>\n",
       "      <td>ktreed95</td>\n",
       "      <td>Positive</td>\n",
       "    </tr>\n",
       "    <tr>\n",
       "      <th>29999</th>\n",
       "      <td>AVpfW8y_LJeJML437ySW</td>\n",
       "      <td>L'oreal Paris</td>\n",
       "      <td>Beauty,Hair Care,Shampoo &amp; Conditioner,Holiday...</td>\n",
       "      <td>L'oreal Paris</td>\n",
       "      <td>L'or233al Paris Elvive Extraordinary Clay Reba...</td>\n",
       "      <td>2017-01-19 00:00:00+00:00</td>\n",
       "      <td>True</td>\n",
       "      <td>5</td>\n",
       "      <td>I received this product complimentary from inf...</td>\n",
       "      <td>Conditioned into healthy</td>\n",
       "      <td>kcoopxoxo</td>\n",
       "      <td>Positive</td>\n",
       "    </tr>\n",
       "  </tbody>\n",
       "</table>\n",
       "<p>29985 rows × 12 columns</p>\n",
       "</div>"
      ],
      "text/plain": [
       "                         id            brand   \n",
       "0      AV13O1A8GV-KLJ3akUyj  Universal Music  \\\n",
       "1      AV14LG0R-jtxr-f38QfS         Lundberg   \n",
       "2      AV14LG0R-jtxr-f38QfS         Lundberg   \n",
       "3      AV16khLE-jtxr-f38VFn              K-Y   \n",
       "4      AV16khLE-jtxr-f38VFn              K-Y   \n",
       "...                     ...              ...   \n",
       "29995  AVpfW8y_LJeJML437ySW    L'oreal Paris   \n",
       "29996  AVpfW8y_LJeJML437ySW    L'oreal Paris   \n",
       "29997  AVpfW8y_LJeJML437ySW    L'oreal Paris   \n",
       "29998  AVpfW8y_LJeJML437ySW    L'oreal Paris   \n",
       "29999  AVpfW8y_LJeJML437ySW    L'oreal Paris   \n",
       "\n",
       "                                              categories   \n",
       "0      Movies, Music & Books,Music,R&b,Movies & TV,Mo...  \\\n",
       "1      Food,Packaged Foods,Snacks,Crackers,Snacks, Co...   \n",
       "2      Food,Packaged Foods,Snacks,Crackers,Snacks, Co...   \n",
       "3      Personal Care,Medicine Cabinet,Lubricant/Sperm...   \n",
       "4      Personal Care,Medicine Cabinet,Lubricant/Sperm...   \n",
       "...                                                  ...   \n",
       "29995  Beauty,Hair Care,Shampoo & Conditioner,Holiday...   \n",
       "29996  Beauty,Hair Care,Shampoo & Conditioner,Holiday...   \n",
       "29997  Beauty,Hair Care,Shampoo & Conditioner,Holiday...   \n",
       "29998  Beauty,Hair Care,Shampoo & Conditioner,Holiday...   \n",
       "29999  Beauty,Hair Care,Shampoo & Conditioner,Holiday...   \n",
       "\n",
       "                             manufacturer   \n",
       "0      Universal Music Group / Cash Money  \\\n",
       "1                                Lundberg   \n",
       "2                                Lundberg   \n",
       "3                                     K-Y   \n",
       "4                                     K-Y   \n",
       "...                                   ...   \n",
       "29995                       L'oreal Paris   \n",
       "29996                       L'oreal Paris   \n",
       "29997                       L'oreal Paris   \n",
       "29998                       L'oreal Paris   \n",
       "29999                       L'oreal Paris   \n",
       "\n",
       "                                                    name   \n",
       "0              Pink Friday: Roman Reloaded Re-Up (w/dvd)  \\\n",
       "1             Lundberg Organic Cinnamon Toast Rice Cakes   \n",
       "2             Lundberg Organic Cinnamon Toast Rice Cakes   \n",
       "3                       K-Y Love Sensuality Pleasure Gel   \n",
       "4                       K-Y Love Sensuality Pleasure Gel   \n",
       "...                                                  ...   \n",
       "29995  L'or233al Paris Elvive Extraordinary Clay Reba...   \n",
       "29996  L'or233al Paris Elvive Extraordinary Clay Reba...   \n",
       "29997  L'or233al Paris Elvive Extraordinary Clay Reba...   \n",
       "29998  L'or233al Paris Elvive Extraordinary Clay Reba...   \n",
       "29999  L'or233al Paris Elvive Extraordinary Clay Reba...   \n",
       "\n",
       "                   reviews_date reviews_doRecommend  reviews_rating   \n",
       "0     2012-11-30 06:21:45+00:00                 NaN               5  \\\n",
       "1     2017-07-09 00:00:00+00:00                 NaN               5   \n",
       "2     2017-07-09 00:00:00+00:00                 NaN               5   \n",
       "3     2016-01-06 00:00:00+00:00               False               1   \n",
       "4     2016-12-21 00:00:00+00:00               False               1   \n",
       "...                         ...                 ...             ...   \n",
       "29995 2017-01-23 00:00:00+00:00                True               5   \n",
       "29996 2017-01-27 00:00:00+00:00                True               5   \n",
       "29997 2017-01-21 00:00:00+00:00                True               5   \n",
       "29998 2017-01-11 00:00:00+00:00                True               5   \n",
       "29999 2017-01-19 00:00:00+00:00                True               5   \n",
       "\n",
       "                                            reviews_text   \n",
       "0      i love this album. it's very good. more to the...  \\\n",
       "1      Good flavor. This review was collected as part...   \n",
       "2                                           Good flavor.   \n",
       "3      I read through the reviews on here before look...   \n",
       "4      My husband bought this gel for us. The gel cau...   \n",
       "...                                                  ...   \n",
       "29995  I got this conditioner with Influenster to try...   \n",
       "29996  I love it , I received this for review purpose...   \n",
       "29997  First of all I love the smell of this product....   \n",
       "29998  I received this through Influenster and will n...   \n",
       "29999  I received this product complimentary from inf...   \n",
       "\n",
       "                     reviews_title reviews_username user_sentiment  \n",
       "0                     Just Awesome           joshua       Positive  \n",
       "1                             Good        dorothy w       Positive  \n",
       "2                             Good        dorothy w       Positive  \n",
       "3                     Disappointed          rebecca       Negative  \n",
       "4                       Irritation        walker557       Negative  \n",
       "...                            ...              ...            ...  \n",
       "29995                   Softness!!       laurasnchz       Positive  \n",
       "29996                    I love it    scarlepadilla       Positive  \n",
       "29997  Hair is so smooth after use       liviasuexo       Positive  \n",
       "29998    Perfect for my oily hair!         ktreed95       Positive  \n",
       "29999     Conditioned into healthy        kcoopxoxo       Positive  \n",
       "\n",
       "[29985 rows x 12 columns]"
      ]
     },
     "execution_count": 8,
     "metadata": {},
     "output_type": "execute_result"
    }
   ],
   "source": [
    "# Check for duplicate records\n",
    "df_clean[df_clean.duplicated()]\n",
    "df_clean.drop_duplicates()"
   ]
  },
  {
   "cell_type": "markdown",
   "id": "3adba779",
   "metadata": {},
   "source": [
    "### Handle Missing Values"
   ]
  },
  {
   "cell_type": "markdown",
   "id": "8325159e",
   "metadata": {},
   "source": [
    "#### reviews_doRecommend column"
   ]
  },
  {
   "cell_type": "code",
   "execution_count": 9,
   "id": "e7938f04",
   "metadata": {},
   "outputs": [
    {
     "data": {
      "text/plain": [
       "reviews_doRecommend\n",
       "True     0.943493\n",
       "False    0.056507\n",
       "Name: proportion, dtype: float64"
      ]
     },
     "execution_count": 9,
     "metadata": {},
     "output_type": "execute_result"
    }
   ],
   "source": [
    "df_clean.reviews_doRecommend.value_counts(normalize=True)"
   ]
  },
  {
   "cell_type": "code",
   "execution_count": 10,
   "id": "2a488854",
   "metadata": {},
   "outputs": [
    {
     "data": {
      "image/png": "[encoded data removed]",
      "text/plain": [
       "<Figure size 432x288 with 1 Axes>"
      ]
     },
     "metadata": {
      "needs_background": "light"
     },
     "output_type": "display_data"
    }
   ],
   "source": [
    "sns.countplot(x = 'reviews_doRecommend', data = df_clean)\n",
    "plt.show()"
   ]
  },
  {
   "cell_type": "markdown",
   "id": "214caba0",
   "metadata": {},
   "source": [
    "Observation:\n",
    "- 'reviews_doRecommend' has more than 94% of the values as True. \n",
    "- This column has a very low variance. Let's drop it as it does not help in predicting the target variable."
   ]
  },
  {
   "cell_type": "code",
   "execution_count": 11,
   "id": "8181e162",
   "metadata": {},
   "outputs": [],
   "source": [
    "df_clean.drop(columns=['reviews_doRecommend'], inplace=True)"
   ]
  },
  {
   "cell_type": "markdown",
   "id": "d7c54367",
   "metadata": {},
   "source": [
    "#### reviews_title column"
   ]
  },
  {
   "cell_type": "markdown",
   "id": "eaf3c60c",
   "metadata": {},
   "source": [
    "reviews_title column has only 0.63% of missing values. As this is a very small percentage of records, let's remove only those records with null values."
   ]
  },
  {
   "cell_type": "code",
   "execution_count": 12,
   "id": "107cfce1",
   "metadata": {},
   "outputs": [],
   "source": [
    "df_clean = df_clean[~df_clean.reviews_title.isna()]"
   ]
  },
  {
   "cell_type": "markdown",
   "id": "f72b62b9",
   "metadata": {},
   "source": [
    "#### reviews_username column"
   ]
  },
  {
   "cell_type": "markdown",
   "id": "69619915",
   "metadata": {},
   "source": [
    "reviews_username column has only 0.2% of missing values. So let's remove only those records with null values."
   ]
  },
  {
   "cell_type": "code",
   "execution_count": 13,
   "id": "ff396b1c",
   "metadata": {},
   "outputs": [],
   "source": [
    "df_clean = df_clean[~df_clean.reviews_username.isna()]"
   ]
  },
  {
   "cell_type": "markdown",
   "id": "ac40b778",
   "metadata": {},
   "source": [
    "#### user_sentiment column"
   ]
  },
  {
   "cell_type": "code",
   "execution_count": 14,
   "id": "dc035eaa",
   "metadata": {},
   "outputs": [
    {
     "data": {
      "text/html": [
       "<div>\n",
       "<style scoped>\n",
       "    .dataframe tbody tr th:only-of-type {\n",
       "        vertical-align: middle;\n",
       "    }\n",
       "\n",
       "    .dataframe tbody tr th {\n",
       "        vertical-align: top;\n",
       "    }\n",
       "\n",
       "    .dataframe thead th {\n",
       "        text-align: right;\n",
       "    }\n",
       "</style>\n",
       "<table border=\"1\" class=\"dataframe\">\n",
       "  <thead>\n",
       "    <tr style=\"text-align: right;\">\n",
       "      <th></th>\n",
       "      <th>id</th>\n",
       "      <th>brand</th>\n",
       "      <th>categories</th>\n",
       "      <th>manufacturer</th>\n",
       "      <th>name</th>\n",
       "      <th>reviews_date</th>\n",
       "      <th>reviews_rating</th>\n",
       "      <th>reviews_text</th>\n",
       "      <th>reviews_title</th>\n",
       "      <th>reviews_username</th>\n",
       "      <th>user_sentiment</th>\n",
       "    </tr>\n",
       "  </thead>\n",
       "  <tbody>\n",
       "    <tr>\n",
       "      <th>28354</th>\n",
       "      <td>AVpfRTh1ilAPnD_xYic2</td>\n",
       "      <td>Disney</td>\n",
       "      <td>Movies, Music &amp; Books,Movies,Kids' &amp; Family,Wa...</td>\n",
       "      <td>Walt Disney</td>\n",
       "      <td>Planes: Fire Rescue (2 Discs) (includes Digita...</td>\n",
       "      <td>2014-11-07 00:00:00+00:00</td>\n",
       "      <td>5</td>\n",
       "      <td>my kids absolutely loved this film so much tha...</td>\n",
       "      <td>a super hit with my children. they loved it!!??</td>\n",
       "      <td>7.87E+11</td>\n",
       "      <td>NaN</td>\n",
       "    </tr>\n",
       "  </tbody>\n",
       "</table>\n",
       "</div>"
      ],
      "text/plain": [
       "                         id   brand   \n",
       "28354  AVpfRTh1ilAPnD_xYic2  Disney  \\\n",
       "\n",
       "                                              categories manufacturer   \n",
       "28354  Movies, Music & Books,Movies,Kids' & Family,Wa...  Walt Disney  \\\n",
       "\n",
       "                                                    name   \n",
       "28354  Planes: Fire Rescue (2 Discs) (includes Digita...  \\\n",
       "\n",
       "                   reviews_date  reviews_rating   \n",
       "28354 2014-11-07 00:00:00+00:00               5  \\\n",
       "\n",
       "                                            reviews_text   \n",
       "28354  my kids absolutely loved this film so much tha...  \\\n",
       "\n",
       "                                         reviews_title reviews_username   \n",
       "28354  a super hit with my children. they loved it!!??         7.87E+11  \\\n",
       "\n",
       "      user_sentiment  \n",
       "28354            NaN  "
      ]
     },
     "execution_count": 14,
     "metadata": {},
     "output_type": "execute_result"
    }
   ],
   "source": [
    "df_clean[df_clean.user_sentiment.isna()]"
   ]
  },
  {
   "cell_type": "markdown",
   "id": "278f09a8",
   "metadata": {},
   "source": [
    "Only one record has a missing value in 'user_sentiment' column.\n",
    "\n",
    "As the review title reveals a positive sentiment, let's hardcode the value of 'user_sentiment' for this record to 'Positive'."
   ]
  },
  {
   "cell_type": "code",
   "execution_count": 15,
   "id": "88e44745",
   "metadata": {},
   "outputs": [],
   "source": [
    "df_clean.user_sentiment.fillna('Positive', inplace=True)"
   ]
  },
  {
   "cell_type": "code",
   "execution_count": 16,
   "id": "b03bf974",
   "metadata": {},
   "outputs": [],
   "source": [
    "#map the categorical user_sentiment to numerical 1 or 0 for modelling\n",
    "df_clean['user_sentiment'] = df_clean['user_sentiment'].map({'Positive':1,'Negative':0})"
   ]
  },
  {
   "cell_type": "markdown",
   "id": "3d224009",
   "metadata": {},
   "source": [
    "### Univariate Analysis"
   ]
  },
  {
   "cell_type": "markdown",
   "id": "96a7b353",
   "metadata": {},
   "source": [
    "#### reviews_rating column"
   ]
  },
  {
   "cell_type": "code",
   "execution_count": 17,
   "id": "00cd62f6",
   "metadata": {},
   "outputs": [
    {
     "data": {
      "image/png": "[encoded data removed]",
      "text/plain": [
       "<Figure size 432x288 with 1 Axes>"
      ]
     },
     "metadata": {
      "needs_background": "light"
     },
     "output_type": "display_data"
    }
   ],
   "source": [
    "sns.countplot(data = df_clean, x = 'reviews_rating').set(title=\"Distribution of rating\", xlabel=\"rating\", ylabel=\"reviews count\")\n",
    "plt.show()"
   ]
  },
  {
   "cell_type": "markdown",
   "id": "499376f3",
   "metadata": {},
   "source": [
    "Observation:\n",
    "- Rating of 5 has the majority count of all. This may lead to data imbalance."
   ]
  },
  {
   "cell_type": "markdown",
   "id": "77d18bb3",
   "metadata": {},
   "source": [
    "#### Top 5 Brands with positive reviews"
   ]
  },
  {
   "cell_type": "code",
   "execution_count": 18,
   "id": "b5108d82",
   "metadata": {},
   "outputs": [
    {
     "data": {
      "image/png": "[encoded data removed]",
      "text/plain": [
       "<Figure size 432x288 with 1 Axes>"
      ]
     },
     "metadata": {
      "needs_background": "light"
     },
     "output_type": "display_data"
    }
   ],
   "source": [
    "df_clean[df_clean.user_sentiment == 1].brand.value_counts(\n",
    "    normalize=True, ascending=False).head(5).plot(kind='bar')\n",
    "plt.title(\"Top 5 Brands with positive reviews\")\n",
    "plt.xlabel(\"Brands\")\n",
    "plt.ylabel(\"% of positive reviews\")\n",
    "plt.show()"
   ]
  },
  {
   "cell_type": "code",
   "execution_count": 19,
   "id": "f930dcc0",
   "metadata": {},
   "outputs": [
    {
     "data": {
      "text/plain": [
       "brand\n",
       "Clorox               0.355116\n",
       "Warner Home Video    0.111739\n",
       "Disney               0.040238\n",
       "L'oreal Paris        0.039868\n",
       "FOX                  0.029817\n",
       "Name: proportion, dtype: float64"
      ]
     },
     "execution_count": 19,
     "metadata": {},
     "output_type": "execute_result"
    }
   ],
   "source": [
    "df_clean.brand.value_counts(normalize=True).head(5)"
   ]
  },
  {
   "cell_type": "markdown",
   "id": "abcd1696",
   "metadata": {},
   "source": [
    "Observation:\n",
    "- Clorox is the brand with the most positive reviews (more than 35% of the positive reviews were for Clorox).\n",
    "- Of all the brands in our dataset Clorox occupies more than 35% share which explains why Colorox has most of the top positive reviews."
   ]
  },
  {
   "cell_type": "markdown",
   "id": "cc58c327",
   "metadata": {},
   "source": [
    "#### Top 5 Brands with negative reviews"
   ]
  },
  {
   "cell_type": "code",
   "execution_count": 20,
   "id": "3af63f6e",
   "metadata": {},
   "outputs": [
    {
     "data": {
      "image/png": "[encoded data removed]",
      "text/plain": [
       "<Figure size 432x288 with 1 Axes>"
      ]
     },
     "metadata": {
      "needs_background": "light"
     },
     "output_type": "display_data"
    }
   ],
   "source": [
    "df_clean[df_clean.user_sentiment == 0].brand.value_counts(\n",
    "    normalize=True, ascending=False).head(5).plot(kind='bar')\n",
    "plt.title(\"Top 5 Brands with negative reviews\")\n",
    "plt.xlabel(\"Brands\")\n",
    "plt.ylabel(\"% of negative reviews\")\n",
    "plt.show()"
   ]
  },
  {
   "cell_type": "markdown",
   "id": "cbd9fe3d",
   "metadata": {},
   "source": [
    "Observation:\n",
    "- Clorox is the brand with the highest negative reviews (more than 30% were for Clorox)."
   ]
  },
  {
   "cell_type": "markdown",
   "id": "26ac2558",
   "metadata": {},
   "source": [
    "#### Reviews by Year"
   ]
  },
  {
   "cell_type": "code",
   "execution_count": 21,
   "id": "a7761245",
   "metadata": {},
   "outputs": [
    {
     "data": {
      "image/png": "[encoded data removed]",
      "text/plain": [
       "<Figure size 360x360 with 1 Axes>"
      ]
     },
     "metadata": {
      "needs_background": "light"
     },
     "output_type": "display_data"
    }
   ],
   "source": [
    "# Creating a distribution plot based on reviews year\n",
    "sns.displot(data=df_clean, x=df_clean.reviews_date.dt.year).set(\n",
    "    title=\"Reviews by year\", xlabel=\"Year\", ylabel=\"count of reviews\")\n",
    "plt.show()"
   ]
  },
  {
   "cell_type": "markdown",
   "id": "5ebb2ca7",
   "metadata": {},
   "source": [
    "Observation:\n",
    "- Of all the years, year 2014 contains the most number of reviews."
   ]
  },
  {
   "cell_type": "markdown",
   "id": "5ace5de4",
   "metadata": {},
   "source": [
    "#### Sentiment by Ratings"
   ]
  },
  {
   "cell_type": "code",
   "execution_count": 22,
   "id": "d2b20acf",
   "metadata": {},
   "outputs": [
    {
     "data": {
      "image/png": "[encoded data removed]",
      "text/plain": [
       "<Figure size 432x288 with 1 Axes>"
      ]
     },
     "metadata": {
      "needs_background": "light"
     },
     "output_type": "display_data"
    }
   ],
   "source": [
    "sns.boxplot(data=df_clean, x='user_sentiment', y='reviews_rating')\n",
    "plt.show()"
   ]
  },
  {
   "cell_type": "code",
   "execution_count": 23,
   "id": "89f6f552",
   "metadata": {},
   "outputs": [
    {
     "data": {
      "text/plain": [
       "reviews_rating\n",
       "4     548\n",
       "5    1848\n",
       "Name: user_sentiment, dtype: int64"
      ]
     },
     "execution_count": 23,
     "metadata": {},
     "output_type": "execute_result"
    }
   ],
   "source": [
    "df_clean[(df_clean.user_sentiment == 0) & (\n",
    "    df_clean.reviews_rating >= 4)].groupby(['reviews_rating']).count().user_sentiment"
   ]
  },
  {
   "cell_type": "markdown",
   "id": "da4d53f6",
   "metadata": {},
   "source": [
    "Observation:\n",
    "- Over 2,000 records with 4 & 5 ratings show Negative sentiment which might indicate that these ratings were provided much earlier before using the product."
   ]
  },
  {
   "cell_type": "code",
   "execution_count": 24,
   "id": "c2665c0e",
   "metadata": {},
   "outputs": [
    {
     "data": {
      "text/plain": [
       "(29748, 11)"
      ]
     },
     "execution_count": 24,
     "metadata": {},
     "output_type": "execute_result"
    }
   ],
   "source": [
    "df_clean.shape"
   ]
  },
  {
   "cell_type": "markdown",
   "id": "d7a6877a",
   "metadata": {},
   "source": [
    "## Text Pre-processing"
   ]
  },
  {
   "cell_type": "markdown",
   "id": "4c911a49",
   "metadata": {},
   "source": [
    "#### Convert all the text columns to string"
   ]
  },
  {
   "cell_type": "code",
   "execution_count": 25,
   "id": "2295b242",
   "metadata": {},
   "outputs": [],
   "source": [
    "# Convert all the text columns to string\n",
    "df_clean['brand'] = df_clean['brand'].astype(str)\n",
    "df_clean['categories'] = df_clean['categories'].astype(str)\n",
    "df_clean['manufacturer'] = df_clean['manufacturer'].astype(str)\n",
    "df_clean['name'] = df_clean['name'].astype(str)\n",
    "df_clean['reviews_text'] = df_clean['reviews_text'].astype(str)\n",
    "df_clean['reviews_title'] = df_clean['reviews_title'].astype(str)\n",
    "df_clean['reviews_username'] = df_clean['reviews_username'].astype(str)"
   ]
  },
  {
   "cell_type": "code",
   "execution_count": 26,
   "id": "8c24f815",
   "metadata": {},
   "outputs": [],
   "source": [
    "df_prep = df_clean.copy()"
   ]
  },
  {
   "cell_type": "markdown",
   "id": "dc979b1b",
   "metadata": {},
   "source": [
    "Drop columns, 'categories', 'manufacturer', 'reviews_date' as that do not add any value to predicting the sentiment"
   ]
  },
  {
   "cell_type": "code",
   "execution_count": 27,
   "id": "95a3e41f",
   "metadata": {},
   "outputs": [],
   "source": [
    "df_prep.drop(columns=['categories', 'manufacturer', 'reviews_date'], inplace=True)"
   ]
  },
  {
   "cell_type": "markdown",
   "id": "25e3dc9d",
   "metadata": {},
   "source": [
    "#### Combine reviews_title and reviews_text as they both reflect the same sentiment"
   ]
  },
  {
   "cell_type": "code",
   "execution_count": 28,
   "id": "760e5dc3",
   "metadata": {},
   "outputs": [],
   "source": [
    "df_prep['reviews_combined'] = df_prep['reviews_title'] + \" \" + df_prep['reviews_text']\n",
    "df_prep.drop(columns=[ 'reviews_title', 'reviews_text'], inplace=True)"
   ]
  },
  {
   "cell_type": "code",
   "execution_count": 29,
   "id": "e8e83ef4",
   "metadata": {},
   "outputs": [
    {
     "data": {
      "text/html": [
       "<div>\n",
       "<style scoped>\n",
       "    .dataframe tbody tr th:only-of-type {\n",
       "        vertical-align: middle;\n",
       "    }\n",
       "\n",
       "    .dataframe tbody tr th {\n",
       "        vertical-align: top;\n",
       "    }\n",
       "\n",
       "    .dataframe thead th {\n",
       "        text-align: right;\n",
       "    }\n",
       "</style>\n",
       "<table border=\"1\" class=\"dataframe\">\n",
       "  <thead>\n",
       "    <tr style=\"text-align: right;\">\n",
       "      <th></th>\n",
       "      <th>id</th>\n",
       "      <th>brand</th>\n",
       "      <th>name</th>\n",
       "      <th>reviews_rating</th>\n",
       "      <th>reviews_username</th>\n",
       "      <th>user_sentiment</th>\n",
       "      <th>reviews_combined</th>\n",
       "    </tr>\n",
       "  </thead>\n",
       "  <tbody>\n",
       "    <tr>\n",
       "      <th>18084</th>\n",
       "      <td>AVpfD9xTLJeJML431ig2</td>\n",
       "      <td>FOX</td>\n",
       "      <td>There's Something About Mary (dvd)</td>\n",
       "      <td>4</td>\n",
       "      <td>slouchycowman</td>\n",
       "      <td>1</td>\n",
       "      <td>There's Something About Mary is very funny Thi...</td>\n",
       "    </tr>\n",
       "  </tbody>\n",
       "</table>\n",
       "</div>"
      ],
      "text/plain": [
       "                         id brand                                name   \n",
       "18084  AVpfD9xTLJeJML431ig2   FOX  There's Something About Mary (dvd)  \\\n",
       "\n",
       "       reviews_rating reviews_username  user_sentiment   \n",
       "18084               4    slouchycowman               1  \\\n",
       "\n",
       "                                        reviews_combined  \n",
       "18084  There's Something About Mary is very funny Thi...  "
      ]
     },
     "execution_count": 29,
     "metadata": {},
     "output_type": "execute_result"
    }
   ],
   "source": [
    "df_prep.sample(1)"
   ]
  },
  {
   "cell_type": "code",
   "execution_count": 30,
   "id": "de872b4e",
   "metadata": {},
   "outputs": [
    {
     "data": {
      "text/html": [
       "<div>\n",
       "<style scoped>\n",
       "    .dataframe tbody tr th:only-of-type {\n",
       "        vertical-align: middle;\n",
       "    }\n",
       "\n",
       "    .dataframe tbody tr th {\n",
       "        vertical-align: top;\n",
       "    }\n",
       "\n",
       "    .dataframe thead th {\n",
       "        text-align: right;\n",
       "    }\n",
       "</style>\n",
       "<table border=\"1\" class=\"dataframe\">\n",
       "  <thead>\n",
       "    <tr style=\"text-align: right;\">\n",
       "      <th></th>\n",
       "      <th>id</th>\n",
       "      <th>name</th>\n",
       "      <th>reviews_combined</th>\n",
       "      <th>user_sentiment</th>\n",
       "    </tr>\n",
       "  </thead>\n",
       "  <tbody>\n",
       "    <tr>\n",
       "      <th>1601</th>\n",
       "      <td>AVpe31o71cnluZ0-YrSD</td>\n",
       "      <td>Dark Shadows (includes Digital Copy) (ultravio...</td>\n",
       "      <td>good movie if you like Johnny depp vampire &amp; w...</td>\n",
       "      <td>0</td>\n",
       "    </tr>\n",
       "    <tr>\n",
       "      <th>9991</th>\n",
       "      <td>AVpf3VOfilAPnD_xjpun</td>\n",
       "      <td>Clorox Disinfecting Wipes Value Pack Scented 1...</td>\n",
       "      <td>Easily accessible My mother is wheelchair boun...</td>\n",
       "      <td>1</td>\n",
       "    </tr>\n",
       "    <tr>\n",
       "      <th>28259</th>\n",
       "      <td>AVpfRTh1ilAPnD_xYic2</td>\n",
       "      <td>Planes: Fire Rescue (2 Discs) (includes Digita...</td>\n",
       "      <td>Great movie Disney does it again. A great stor...</td>\n",
       "      <td>1</td>\n",
       "    </tr>\n",
       "    <tr>\n",
       "      <th>24315</th>\n",
       "      <td>AVpfPaoqLJeJML435Xk9</td>\n",
       "      <td>Godzilla 3d Includes Digital Copy Ultraviolet ...</td>\n",
       "      <td>Entertaining Glad they did a good job in makin...</td>\n",
       "      <td>1</td>\n",
       "    </tr>\n",
       "    <tr>\n",
       "      <th>2498</th>\n",
       "      <td>AVpe41TqilAPnD_xQH3d</td>\n",
       "      <td>Mike Dave Need Wedding Dates (dvd + Digital)</td>\n",
       "      <td>Funny Made us laugh quite a lot... I'm always ...</td>\n",
       "      <td>1</td>\n",
       "    </tr>\n",
       "  </tbody>\n",
       "</table>\n",
       "</div>"
      ],
      "text/plain": [
       "                         id   \n",
       "1601   AVpe31o71cnluZ0-YrSD  \\\n",
       "9991   AVpf3VOfilAPnD_xjpun   \n",
       "28259  AVpfRTh1ilAPnD_xYic2   \n",
       "24315  AVpfPaoqLJeJML435Xk9   \n",
       "2498   AVpe41TqilAPnD_xQH3d   \n",
       "\n",
       "                                                    name   \n",
       "1601   Dark Shadows (includes Digital Copy) (ultravio...  \\\n",
       "9991   Clorox Disinfecting Wipes Value Pack Scented 1...   \n",
       "28259  Planes: Fire Rescue (2 Discs) (includes Digita...   \n",
       "24315  Godzilla 3d Includes Digital Copy Ultraviolet ...   \n",
       "2498        Mike Dave Need Wedding Dates (dvd + Digital)   \n",
       "\n",
       "                                        reviews_combined  user_sentiment  \n",
       "1601   good movie if you like Johnny depp vampire & w...               0  \n",
       "9991   Easily accessible My mother is wheelchair boun...               1  \n",
       "28259  Great movie Disney does it again. A great stor...               1  \n",
       "24315  Entertaining Glad they did a good job in makin...               1  \n",
       "2498   Funny Made us laugh quite a lot... I'm always ...               1  "
      ]
     },
     "execution_count": 30,
     "metadata": {},
     "output_type": "execute_result"
    }
   ],
   "source": [
    "# Create dataframe for Sentiment analysis with only these required columns\n",
    "df_sent = df_prep[['id','name','reviews_combined', 'user_sentiment']]\n",
    "df_sent.sample(5)"
   ]
  },
  {
   "cell_type": "code",
   "execution_count": 31,
   "id": "c0574685",
   "metadata": {},
   "outputs": [
    {
     "data": {
      "text/plain": [
       "(29748, 4)"
      ]
     },
     "execution_count": 31,
     "metadata": {},
     "output_type": "execute_result"
    }
   ],
   "source": [
    "df_sent.shape"
   ]
  },
  {
   "cell_type": "markdown",
   "id": "9f427175",
   "metadata": {},
   "source": [
    "### Basic Pre-processing"
   ]
  },
  {
   "cell_type": "markdown",
   "id": "a8c9937a",
   "metadata": {},
   "source": [
    "Do the following operations:\n",
    "- Make the text lowercase\n",
    "- Remove text in square brackets\n",
    "- Remove punctuation\n",
    "- Remove words containing numbers"
   ]
  },
  {
   "cell_type": "code",
   "execution_count": 32,
   "id": "c1301ce3",
   "metadata": {},
   "outputs": [],
   "source": [
    "# Function to clean the text and remove all the unnecessary elements.\n",
    "def clean_text(text):\n",
    "    # Convert to lowercase\n",
    "    text = text.lower()\n",
    "    # Remove text in square brackets\n",
    "    text = re.sub(r'\\[\\w+\\]', '', text)\n",
    "    # Remove punctuation\n",
    "    text = re.sub(r'[^\\w\\s]', '', text) # replace any non-word char with empty string\n",
    "    # Remove words containing numbers\n",
    "    text = re.sub(r'\\w*\\d\\w*', '', text).strip()\n",
    "    return \" \".join(text.split()) # Remove all whitespace characters (space, tab, newline, return, formfeed)"
   ]
  },
  {
   "cell_type": "code",
   "execution_count": 33,
   "id": "5aeb54b1",
   "metadata": {},
   "outputs": [],
   "source": [
    "df_sent['reviews_cleaned'] = df_sent['reviews_combined'].apply(lambda x: clean_text(x))"
   ]
  },
  {
   "cell_type": "code",
   "execution_count": 34,
   "id": "b1cfcf63",
   "metadata": {},
   "outputs": [
    {
     "data": {
      "text/html": [
       "<div>\n",
       "<style scoped>\n",
       "    .dataframe tbody tr th:only-of-type {\n",
       "        vertical-align: middle;\n",
       "    }\n",
       "\n",
       "    .dataframe tbody tr th {\n",
       "        vertical-align: top;\n",
       "    }\n",
       "\n",
       "    .dataframe thead th {\n",
       "        text-align: right;\n",
       "    }\n",
       "</style>\n",
       "<table border=\"1\" class=\"dataframe\">\n",
       "  <thead>\n",
       "    <tr style=\"text-align: right;\">\n",
       "      <th></th>\n",
       "      <th>id</th>\n",
       "      <th>name</th>\n",
       "      <th>reviews_combined</th>\n",
       "      <th>user_sentiment</th>\n",
       "      <th>reviews_cleaned</th>\n",
       "    </tr>\n",
       "  </thead>\n",
       "  <tbody>\n",
       "    <tr>\n",
       "      <th>22935</th>\n",
       "      <td>AVpfPaoqLJeJML435Xk9</td>\n",
       "      <td>Godzilla 3d Includes Digital Copy Ultraviolet ...</td>\n",
       "      <td>we did not care for the movie at it was to lon...</td>\n",
       "      <td>1</td>\n",
       "      <td>we did not care for the movie at it was to lon...</td>\n",
       "    </tr>\n",
       "    <tr>\n",
       "      <th>15721</th>\n",
       "      <td>AVpf5Z1zLJeJML43FpB-</td>\n",
       "      <td>Lysol Concentrate Deodorizing Cleaner, Origina...</td>\n",
       "      <td>Love it! I absolutely love this product! When ...</td>\n",
       "      <td>1</td>\n",
       "      <td>love it i absolutely love this product when i ...</td>\n",
       "    </tr>\n",
       "  </tbody>\n",
       "</table>\n",
       "</div>"
      ],
      "text/plain": [
       "                         id   \n",
       "22935  AVpfPaoqLJeJML435Xk9  \\\n",
       "15721  AVpf5Z1zLJeJML43FpB-   \n",
       "\n",
       "                                                    name   \n",
       "22935  Godzilla 3d Includes Digital Copy Ultraviolet ...  \\\n",
       "15721  Lysol Concentrate Deodorizing Cleaner, Origina...   \n",
       "\n",
       "                                        reviews_combined  user_sentiment   \n",
       "22935  we did not care for the movie at it was to lon...               1  \\\n",
       "15721  Love it! I absolutely love this product! When ...               1   \n",
       "\n",
       "                                         reviews_cleaned  \n",
       "22935  we did not care for the movie at it was to lon...  \n",
       "15721  love it i absolutely love this product when i ...  "
      ]
     },
     "execution_count": 34,
     "metadata": {},
     "output_type": "execute_result"
    }
   ],
   "source": [
    "df_sent.sample(2)"
   ]
  },
  {
   "cell_type": "markdown",
   "id": "bcbe5099",
   "metadata": {},
   "source": [
    "### Remove Stopwords"
   ]
  },
  {
   "cell_type": "code",
   "execution_count": 35,
   "id": "b4d2e644",
   "metadata": {},
   "outputs": [],
   "source": [
    "# Function to remove the stopwords\n",
    "def remove_stopwords(sent):\n",
    "#     sent = sent.lower()  # convert text to lowercase\n",
    "    words = word_tokenize(sent)  # split sentences into words\n",
    "    sent = \" \".join(\n",
    "        [word for word in words if word not in stopwords.words('english')]) #remove stopwords\n",
    "    return sent"
   ]
  },
  {
   "cell_type": "code",
   "execution_count": 36,
   "id": "8a314181",
   "metadata": {},
   "outputs": [],
   "source": [
    "df_sent['reviews_cleaned'] = df_sent['reviews_cleaned'].apply(lambda x: remove_stopwords(x))"
   ]
  },
  {
   "cell_type": "code",
   "execution_count": 37,
   "id": "6262ca7e",
   "metadata": {},
   "outputs": [
    {
     "data": {
      "text/html": [
       "<div>\n",
       "<style scoped>\n",
       "    .dataframe tbody tr th:only-of-type {\n",
       "        vertical-align: middle;\n",
       "    }\n",
       "\n",
       "    .dataframe tbody tr th {\n",
       "        vertical-align: top;\n",
       "    }\n",
       "\n",
       "    .dataframe thead th {\n",
       "        text-align: right;\n",
       "    }\n",
       "</style>\n",
       "<table border=\"1\" class=\"dataframe\">\n",
       "  <thead>\n",
       "    <tr style=\"text-align: right;\">\n",
       "      <th></th>\n",
       "      <th>id</th>\n",
       "      <th>name</th>\n",
       "      <th>reviews_combined</th>\n",
       "      <th>user_sentiment</th>\n",
       "      <th>reviews_cleaned</th>\n",
       "    </tr>\n",
       "  </thead>\n",
       "  <tbody>\n",
       "    <tr>\n",
       "      <th>25972</th>\n",
       "      <td>AVpfPaoqLJeJML435Xk9</td>\n",
       "      <td>Godzilla 3d Includes Digital Copy Ultraviolet ...</td>\n",
       "      <td>nice Love this movie great hope for part 2 buy...</td>\n",
       "      <td>1</td>\n",
       "      <td>nice love movie great hope part buy</td>\n",
       "    </tr>\n",
       "    <tr>\n",
       "      <th>4437</th>\n",
       "      <td>AVpe9W4D1cnluZ0-avf0</td>\n",
       "      <td>Hoover174 Platinum Collection153 Lightweight B...</td>\n",
       "      <td>Great Vacuum for the price We needed a vacuum ...</td>\n",
       "      <td>1</td>\n",
       "      <td>great vacuum price needed vacuum cleaner bags ...</td>\n",
       "    </tr>\n",
       "  </tbody>\n",
       "</table>\n",
       "</div>"
      ],
      "text/plain": [
       "                         id   \n",
       "25972  AVpfPaoqLJeJML435Xk9  \\\n",
       "4437   AVpe9W4D1cnluZ0-avf0   \n",
       "\n",
       "                                                    name   \n",
       "25972  Godzilla 3d Includes Digital Copy Ultraviolet ...  \\\n",
       "4437   Hoover174 Platinum Collection153 Lightweight B...   \n",
       "\n",
       "                                        reviews_combined  user_sentiment   \n",
       "25972  nice Love this movie great hope for part 2 buy...               1  \\\n",
       "4437   Great Vacuum for the price We needed a vacuum ...               1   \n",
       "\n",
       "                                         reviews_cleaned  \n",
       "25972                nice love movie great hope part buy  \n",
       "4437   great vacuum price needed vacuum cleaner bags ...  "
      ]
     },
     "execution_count": 37,
     "metadata": {},
     "output_type": "execute_result"
    }
   ],
   "source": [
    "df_sent.sample(2)"
   ]
  },
  {
   "cell_type": "markdown",
   "id": "e13cfd61",
   "metadata": {},
   "source": [
    "### Lemmatize the texts"
   ]
  },
  {
   "cell_type": "code",
   "execution_count": 38,
   "id": "f7949c12",
   "metadata": {},
   "outputs": [],
   "source": [
    "#Write your function to Lemmatize the texts\n",
    "def lemmatize_text(text):\n",
    "    return \" \".join([token.lemma_ for token in nlp(text)])"
   ]
  },
  {
   "cell_type": "code",
   "execution_count": 39,
   "id": "97792cae",
   "metadata": {},
   "outputs": [],
   "source": [
    "df_sent['reviews_lemmatized'] = df_sent['reviews_cleaned'].apply(lambda x: lemmatize_text(x))"
   ]
  },
  {
   "cell_type": "code",
   "execution_count": 40,
   "id": "ecfd4713",
   "metadata": {},
   "outputs": [
    {
     "data": {
      "text/html": [
       "<div>\n",
       "<style scoped>\n",
       "    .dataframe tbody tr th:only-of-type {\n",
       "        vertical-align: middle;\n",
       "    }\n",
       "\n",
       "    .dataframe tbody tr th {\n",
       "        vertical-align: top;\n",
       "    }\n",
       "\n",
       "    .dataframe thead th {\n",
       "        text-align: right;\n",
       "    }\n",
       "</style>\n",
       "<table border=\"1\" class=\"dataframe\">\n",
       "  <thead>\n",
       "    <tr style=\"text-align: right;\">\n",
       "      <th></th>\n",
       "      <th>id</th>\n",
       "      <th>name</th>\n",
       "      <th>reviews_combined</th>\n",
       "      <th>user_sentiment</th>\n",
       "      <th>reviews_cleaned</th>\n",
       "      <th>reviews_lemmatized</th>\n",
       "    </tr>\n",
       "  </thead>\n",
       "  <tbody>\n",
       "    <tr>\n",
       "      <th>14761</th>\n",
       "      <td>AVpf3VOfilAPnD_xjpun</td>\n",
       "      <td>Clorox Disinfecting Wipes Value Pack Scented 1...</td>\n",
       "      <td>crazy Love it I recommend them to disinfect do...</td>\n",
       "      <td>1</td>\n",
       "      <td>crazy love recommend disinfect door handles co...</td>\n",
       "      <td>crazy love recommend disinfect door handle cou...</td>\n",
       "    </tr>\n",
       "    <tr>\n",
       "      <th>23073</th>\n",
       "      <td>AVpfPaoqLJeJML435Xk9</td>\n",
       "      <td>Godzilla 3d Includes Digital Copy Ultraviolet ...</td>\n",
       "      <td>Bring Home Godzilla Bring Home Godzilla. Great...</td>\n",
       "      <td>1</td>\n",
       "      <td>bring home godzilla bring home godzilla great ...</td>\n",
       "      <td>bring home godzilla bring home godzilla great ...</td>\n",
       "    </tr>\n",
       "  </tbody>\n",
       "</table>\n",
       "</div>"
      ],
      "text/plain": [
       "                         id   \n",
       "14761  AVpf3VOfilAPnD_xjpun  \\\n",
       "23073  AVpfPaoqLJeJML435Xk9   \n",
       "\n",
       "                                                    name   \n",
       "14761  Clorox Disinfecting Wipes Value Pack Scented 1...  \\\n",
       "23073  Godzilla 3d Includes Digital Copy Ultraviolet ...   \n",
       "\n",
       "                                        reviews_combined  user_sentiment   \n",
       "14761  crazy Love it I recommend them to disinfect do...               1  \\\n",
       "23073  Bring Home Godzilla Bring Home Godzilla. Great...               1   \n",
       "\n",
       "                                         reviews_cleaned   \n",
       "14761  crazy love recommend disinfect door handles co...  \\\n",
       "23073  bring home godzilla bring home godzilla great ...   \n",
       "\n",
       "                                      reviews_lemmatized  \n",
       "14761  crazy love recommend disinfect door handle cou...  \n",
       "23073  bring home godzilla bring home godzilla great ...  "
      ]
     },
     "execution_count": 40,
     "metadata": {},
     "output_type": "execute_result"
    }
   ],
   "source": [
    "df_sent.sample(2)"
   ]
  },
  {
   "cell_type": "code",
   "execution_count": 41,
   "id": "c3060b5d",
   "metadata": {},
   "outputs": [],
   "source": [
    "# Create a dataframe that will have only the 'id','name','reviews_lemmatized', 'user_sentiment' columns\n",
    "df_sent = df_sent[['id','name','reviews_lemmatized', 'user_sentiment']]"
   ]
  },
  {
   "cell_type": "code",
   "execution_count": 42,
   "id": "aa53f297",
   "metadata": {},
   "outputs": [
    {
     "data": {
      "text/html": [
       "<div>\n",
       "<style scoped>\n",
       "    .dataframe tbody tr th:only-of-type {\n",
       "        vertical-align: middle;\n",
       "    }\n",
       "\n",
       "    .dataframe tbody tr th {\n",
       "        vertical-align: top;\n",
       "    }\n",
       "\n",
       "    .dataframe thead th {\n",
       "        text-align: right;\n",
       "    }\n",
       "</style>\n",
       "<table border=\"1\" class=\"dataframe\">\n",
       "  <thead>\n",
       "    <tr style=\"text-align: right;\">\n",
       "      <th></th>\n",
       "      <th>id</th>\n",
       "      <th>name</th>\n",
       "      <th>reviews_lemmatized</th>\n",
       "      <th>user_sentiment</th>\n",
       "    </tr>\n",
       "  </thead>\n",
       "  <tbody>\n",
       "    <tr>\n",
       "      <th>29907</th>\n",
       "      <td>AVpfW8y_LJeJML437ySW</td>\n",
       "      <td>L'or233al Paris Elvive Extraordinary Clay Reba...</td>\n",
       "      <td>great stuff recieve free testing purpose influ...</td>\n",
       "      <td>1</td>\n",
       "    </tr>\n",
       "    <tr>\n",
       "      <th>23774</th>\n",
       "      <td>AVpfPaoqLJeJML435Xk9</td>\n",
       "      <td>Godzilla 3d Includes Digital Copy Ultraviolet ...</td>\n",
       "      <td>godzilla iteration famous lizard leap bound pr...</td>\n",
       "      <td>1</td>\n",
       "    </tr>\n",
       "  </tbody>\n",
       "</table>\n",
       "</div>"
      ],
      "text/plain": [
       "                         id   \n",
       "29907  AVpfW8y_LJeJML437ySW  \\\n",
       "23774  AVpfPaoqLJeJML435Xk9   \n",
       "\n",
       "                                                    name   \n",
       "29907  L'or233al Paris Elvive Extraordinary Clay Reba...  \\\n",
       "23774  Godzilla 3d Includes Digital Copy Ultraviolet ...   \n",
       "\n",
       "                                      reviews_lemmatized  user_sentiment  \n",
       "29907  great stuff recieve free testing purpose influ...               1  \n",
       "23774  godzilla iteration famous lizard leap bound pr...               1  "
      ]
     },
     "execution_count": 42,
     "metadata": {},
     "output_type": "execute_result"
    }
   ],
   "source": [
    "df_sent.sample(2)"
   ]
  },
  {
   "cell_type": "code",
   "execution_count": 43,
   "id": "5c80b661",
   "metadata": {},
   "outputs": [
    {
     "data": {
      "text/plain": [
       "(29748, 4)"
      ]
     },
     "execution_count": 43,
     "metadata": {},
     "output_type": "execute_result"
    }
   ],
   "source": [
    "df_sent.shape"
   ]
  },
  {
   "cell_type": "markdown",
   "id": "6021fff7",
   "metadata": {},
   "source": [
    "#### Save this cleaned & text pre-processed dataframe"
   ]
  },
  {
   "cell_type": "code",
   "execution_count": 44,
   "id": "262bcf52",
   "metadata": {},
   "outputs": [],
   "source": [
    "# Save the cleaned df_sent dataframe as clean_data\n",
    "pickle.dump(df_sent, open(\"./models/clean_data.pkl\",\"wb\"))"
   ]
  },
  {
   "cell_type": "code",
   "execution_count": 45,
   "id": "7233e46a",
   "metadata": {},
   "outputs": [
    {
     "data": {
      "image/png": "[encoded data removed]",
      "text/plain": [
       "<Figure size 720x432 with 1 Axes>"
      ]
     },
     "metadata": {
      "needs_background": "light"
     },
     "output_type": "display_data"
    }
   ],
   "source": [
    "# Visualise the data according to the 'Review Text' character length\n",
    "plt.figure(figsize=(10,6))\n",
    "reviews_lens = [len(d) for d in df_sent.reviews_lemmatized]\n",
    "plt.hist(reviews_lens, bins = 50)\n",
    "plt.show()"
   ]
  },
  {
   "cell_type": "markdown",
   "id": "0bcf7b7c",
   "metadata": {},
   "source": [
    "Observation:\n",
    "- Most of the reviews are under 500 characters."
   ]
  },
  {
   "cell_type": "markdown",
   "id": "59eb305b",
   "metadata": {},
   "source": [
    "#### Visualize the top 30 words"
   ]
  },
  {
   "cell_type": "code",
   "execution_count": 46,
   "id": "aa213dd3",
   "metadata": {},
   "outputs": [
    {
     "data": {
      "image/png": "[encoded data removed]",
      "text/plain": [
       "<Figure size 720x720 with 1 Axes>"
      ]
     },
     "metadata": {
      "needs_background": "light"
     },
     "output_type": "display_data"
    }
   ],
   "source": [
    "# Use a word cloud visualize the top 30 words in review by frequency\n",
    "stopwords_wordcloud = set(STOPWORDS)\n",
    "wordcloud = WordCloud(max_font_size=60, max_words=30, \n",
    "                      background_color=\"white\", random_state=42, \n",
    "                      stopwords=stopwords_wordcloud).generate(str(df_sent['reviews_lemmatized']))\n",
    "plt.figure(figsize=[10,10])\n",
    "plt.imshow(wordcloud, interpolation=\"bilinear\")\n",
    "plt.axis(\"off\")\n",
    "plt.show()"
   ]
  },
  {
   "cell_type": "markdown",
   "id": "9504a7a5",
   "metadata": {},
   "source": [
    "#### Most common words"
   ]
  },
  {
   "cell_type": "code",
   "execution_count": 47,
   "id": "36da7beb",
   "metadata": {},
   "outputs": [],
   "source": [
    "def getMostCommonWords(reviews, n_most_common):\n",
    "    # Flatten review column into a list of words, and set each to lowercase\n",
    "    flattened_reviews = [word for review in reviews for word in\n",
    "                         review.lower().split()]\n",
    "    # Remove punctuation from reviews\n",
    "    flattened_reviews = [''.join(char for char in review if\n",
    "                                 char not in string.punctuation) for\n",
    "                         review in flattened_reviews]\n",
    "    # Remove any empty strings that were created by this process\n",
    "    flattened_reviews = [review for review in flattened_reviews if review]\n",
    "\n",
    "    return Counter(flattened_reviews).most_common(n_most_common)"
   ]
  },
  {
   "cell_type": "code",
   "execution_count": 48,
   "id": "9ea9f094",
   "metadata": {},
   "outputs": [
    {
     "data": {
      "text/plain": [
       "[('great', 14432),\n",
       " ('love', 12447),\n",
       " ('use', 12072),\n",
       " ('product', 11325),\n",
       " ('movie', 10050),\n",
       " ('good', 8663),\n",
       " ('review', 8579),\n",
       " ('part', 8342),\n",
       " ('collect', 7967),\n",
       " ('promotion', 7945)]"
      ]
     },
     "execution_count": 48,
     "metadata": {},
     "output_type": "execute_result"
    }
   ],
   "source": [
    "pos_reviews = df_sent[df_sent['user_sentiment']==1]\n",
    "getMostCommonWords(pos_reviews['reviews_lemmatized'],10)"
   ]
  },
  {
   "cell_type": "code",
   "execution_count": 49,
   "id": "84833f9a",
   "metadata": {},
   "outputs": [
    {
     "data": {
      "text/plain": [
       "[('use', 1583),\n",
       " ('product', 1335),\n",
       " ('review', 896),\n",
       " ('part', 841),\n",
       " ('not', 833),\n",
       " ('movie', 832),\n",
       " ('collect', 800),\n",
       " ('promotion', 800),\n",
       " ('wipe', 721),\n",
       " ('like', 705)]"
      ]
     },
     "execution_count": 49,
     "metadata": {},
     "output_type": "execute_result"
    }
   ],
   "source": [
    "neg_reviews = df_sent[df_sent['user_sentiment']==0]\n",
    "getMostCommonWords(neg_reviews['reviews_lemmatized'],10)"
   ]
  },
  {
   "cell_type": "markdown",
   "id": "5a228c82",
   "metadata": {},
   "source": [
    "#### Top N-grams"
   ]
  },
  {
   "cell_type": "code",
   "execution_count": 50,
   "id": "827b2123",
   "metadata": {},
   "outputs": [],
   "source": [
    "# function to collect the n-gram frequency of words\n",
    "def get_top_n_ngram(corpus, n_gram_range, n=None):\n",
    "    vec = CountVectorizer(ngram_range=(\n",
    "        n_gram_range, n_gram_range), stop_words='english').fit(corpus)\n",
    "    bag_of_words = vec.transform(corpus)\n",
    "    sum_words = bag_of_words.sum(axis=0)\n",
    "    for word, idx in vec.vocabulary_.items():\n",
    "        break\n",
    "    words_freq = [(word, sum_words[0, idx])\n",
    "                  for word, idx in vec.vocabulary_.items()]\n",
    "    # print(\"-31\",words_freq)\n",
    "    words_freq = sorted(words_freq, key=lambda x: x[1], reverse=True)\n",
    "    return words_freq[:n]"
   ]
  },
  {
   "cell_type": "code",
   "execution_count": 51,
   "id": "b805b398",
   "metadata": {},
   "outputs": [
    {
     "data": {
      "text/html": [
       "<div>\n",
       "<style scoped>\n",
       "    .dataframe tbody tr th:only-of-type {\n",
       "        vertical-align: middle;\n",
       "    }\n",
       "\n",
       "    .dataframe tbody tr th {\n",
       "        vertical-align: top;\n",
       "    }\n",
       "\n",
       "    .dataframe thead th {\n",
       "        text-align: right;\n",
       "    }\n",
       "</style>\n",
       "<table border=\"1\" class=\"dataframe\">\n",
       "  <thead>\n",
       "    <tr style=\"text-align: right;\">\n",
       "      <th></th>\n",
       "      <th>0</th>\n",
       "      <th>1</th>\n",
       "    </tr>\n",
       "  </thead>\n",
       "  <tbody>\n",
       "    <tr>\n",
       "      <th>0</th>\n",
       "      <td>review collect</td>\n",
       "      <td>7941</td>\n",
       "    </tr>\n",
       "    <tr>\n",
       "      <th>1</th>\n",
       "      <td>collect promotion</td>\n",
       "      <td>7941</td>\n",
       "    </tr>\n",
       "    <tr>\n",
       "      <th>2</th>\n",
       "      <td>clorox wipe</td>\n",
       "      <td>2582</td>\n",
       "    </tr>\n",
       "    <tr>\n",
       "      <th>3</th>\n",
       "      <td>great product</td>\n",
       "      <td>1899</td>\n",
       "    </tr>\n",
       "    <tr>\n",
       "      <th>4</th>\n",
       "      <td>great movie</td>\n",
       "      <td>1705</td>\n",
       "    </tr>\n",
       "    <tr>\n",
       "      <th>5</th>\n",
       "      <td>easy use</td>\n",
       "      <td>1548</td>\n",
       "    </tr>\n",
       "    <tr>\n",
       "      <th>6</th>\n",
       "      <td>love clorox</td>\n",
       "      <td>1174</td>\n",
       "    </tr>\n",
       "    <tr>\n",
       "      <th>7</th>\n",
       "      <td>love product</td>\n",
       "      <td>1132</td>\n",
       "    </tr>\n",
       "    <tr>\n",
       "      <th>8</th>\n",
       "      <td>good movie</td>\n",
       "      <td>1046</td>\n",
       "    </tr>\n",
       "    <tr>\n",
       "      <th>9</th>\n",
       "      <td>use clorox</td>\n",
       "      <td>952</td>\n",
       "    </tr>\n",
       "  </tbody>\n",
       "</table>\n",
       "</div>"
      ],
      "text/plain": [
       "                   0     1\n",
       "0     review collect  7941\n",
       "1  collect promotion  7941\n",
       "2        clorox wipe  2582\n",
       "3      great product  1899\n",
       "4        great movie  1705\n",
       "5           easy use  1548\n",
       "6        love clorox  1174\n",
       "7       love product  1132\n",
       "8         good movie  1046\n",
       "9         use clorox   952"
      ]
     },
     "execution_count": 51,
     "metadata": {},
     "output_type": "execute_result"
    }
   ],
   "source": [
    "#Print the top 10 words in the bigram frequency\n",
    "common_words = get_top_n_ngram(pos_reviews['reviews_lemmatized'], 2, 10)\n",
    "pd.DataFrame(common_words)"
   ]
  },
  {
   "cell_type": "code",
   "execution_count": 52,
   "id": "322c24c5",
   "metadata": {},
   "outputs": [
    {
     "data": {
      "text/html": [
       "<div>\n",
       "<style scoped>\n",
       "    .dataframe tbody tr th:only-of-type {\n",
       "        vertical-align: middle;\n",
       "    }\n",
       "\n",
       "    .dataframe tbody tr th {\n",
       "        vertical-align: top;\n",
       "    }\n",
       "\n",
       "    .dataframe thead th {\n",
       "        text-align: right;\n",
       "    }\n",
       "</style>\n",
       "<table border=\"1\" class=\"dataframe\">\n",
       "  <thead>\n",
       "    <tr style=\"text-align: right;\">\n",
       "      <th></th>\n",
       "      <th>0</th>\n",
       "      <th>1</th>\n",
       "    </tr>\n",
       "  </thead>\n",
       "  <tbody>\n",
       "    <tr>\n",
       "      <th>0</th>\n",
       "      <td>review collect</td>\n",
       "      <td>799</td>\n",
       "    </tr>\n",
       "    <tr>\n",
       "      <th>1</th>\n",
       "      <td>collect promotion</td>\n",
       "      <td>799</td>\n",
       "    </tr>\n",
       "    <tr>\n",
       "      <th>2</th>\n",
       "      <td>clorox wipe</td>\n",
       "      <td>260</td>\n",
       "    </tr>\n",
       "    <tr>\n",
       "      <th>3</th>\n",
       "      <td>use product</td>\n",
       "      <td>176</td>\n",
       "    </tr>\n",
       "    <tr>\n",
       "      <th>4</th>\n",
       "      <td>old formula</td>\n",
       "      <td>174</td>\n",
       "    </tr>\n",
       "    <tr>\n",
       "      <th>5</th>\n",
       "      <td>new formula</td>\n",
       "      <td>163</td>\n",
       "    </tr>\n",
       "    <tr>\n",
       "      <th>6</th>\n",
       "      <td>use clorox</td>\n",
       "      <td>154</td>\n",
       "    </tr>\n",
       "    <tr>\n",
       "      <th>7</th>\n",
       "      <td>bring old</td>\n",
       "      <td>116</td>\n",
       "    </tr>\n",
       "    <tr>\n",
       "      <th>8</th>\n",
       "      <td>great product</td>\n",
       "      <td>111</td>\n",
       "    </tr>\n",
       "    <tr>\n",
       "      <th>9</th>\n",
       "      <td>resident evil</td>\n",
       "      <td>103</td>\n",
       "    </tr>\n",
       "  </tbody>\n",
       "</table>\n",
       "</div>"
      ],
      "text/plain": [
       "                   0    1\n",
       "0     review collect  799\n",
       "1  collect promotion  799\n",
       "2        clorox wipe  260\n",
       "3        use product  176\n",
       "4        old formula  174\n",
       "5        new formula  163\n",
       "6         use clorox  154\n",
       "7          bring old  116\n",
       "8      great product  111\n",
       "9      resident evil  103"
      ]
     },
     "execution_count": 52,
     "metadata": {},
     "output_type": "execute_result"
    }
   ],
   "source": [
    "#Print the top 10 words in the bigram frequency\n",
    "common_words = get_top_n_ngram(neg_reviews['reviews_lemmatized'], 2, 10)\n",
    "pd.DataFrame(common_words)"
   ]
  },
  {
   "cell_type": "code",
   "execution_count": 53,
   "id": "3325cce8",
   "metadata": {},
   "outputs": [
    {
     "data": {
      "image/png": "[encoded data removed]",
      "text/plain": [
       "<Figure size 1080x360 with 1 Axes>"
      ]
     },
     "metadata": {
      "needs_background": "light"
     },
     "output_type": "display_data"
    }
   ],
   "source": [
    "#logic to find the top 10 trigram frequency among the reviews_text in the cleaned datafram(df_clean). \n",
    "common_words = get_top_n_ngram(df_sent.reviews_lemmatized, 3, 10)\n",
    "df3 = pd.DataFrame(common_words, columns = ['trigram' , 'count'])\n",
    "plt.figure(figsize=[15,5])\n",
    "fig = sns.barplot(x=df3['trigram'], y=df3['count'])\n",
    "plt.show()"
   ]
  },
  {
   "cell_type": "markdown",
   "id": "c4cb88cb",
   "metadata": {},
   "source": [
    "### Feature Extraction"
   ]
  },
  {
   "cell_type": "markdown",
   "id": "41fc7041",
   "metadata": {},
   "source": [
    "Perform the following operations:\n",
    "1. Feature Extraction using TF-IDF\n",
    "2. Handle class imbalance\n",
    "3. Perform train, test split"
   ]
  },
  {
   "cell_type": "markdown",
   "id": "8f4b5bd9",
   "metadata": {},
   "source": [
    "#### TF-IDF Feature Extraction"
   ]
  },
  {
   "cell_type": "markdown",
   "id": "bfe2e144",
   "metadata": {},
   "source": [
    "Feature Extraction using TF-IDF to convert raw text to a matrix of TF-IDF features.  \n",
    "\n",
    "**max_df** is used for removing terms that appear too frequently (also known as \"corpus-specific stop words\"). max_df = 0.95 means \"ignore terms that appear in more than 95% of the complaints\".  \n",
    "\n",
    "**min_df** is used for removing terms that appear not too often. min_df = 5 means \"ignore terms that appear in less than 5 complaints\".  "
   ]
  },
  {
   "cell_type": "code",
   "execution_count": 54,
   "id": "d1ea1c10",
   "metadata": {},
   "outputs": [],
   "source": [
    "# Initialize the TfidfVectorizer \n",
    "tfidf = TfidfVectorizer(min_df=5, max_df=0.95, stop_words='english', ngram_range=(1,2))"
   ]
  },
  {
   "cell_type": "code",
   "execution_count": 55,
   "id": "c9800ce0",
   "metadata": {},
   "outputs": [],
   "source": [
    "X = tfidf.fit_transform(df_sent['reviews_lemmatized'])\n",
    "y= df_sent['user_sentiment']"
   ]
  },
  {
   "cell_type": "code",
   "execution_count": 56,
   "id": "99e9bb70",
   "metadata": {},
   "outputs": [],
   "source": [
    "# Save the the tfidf vectorizer model\n",
    "pickle.dump(tfidf, open(\"./models/tfidf.pkl\",\"wb\"))"
   ]
  },
  {
   "cell_type": "markdown",
   "id": "df7fb77f",
   "metadata": {},
   "source": [
    "#### Split train-test"
   ]
  },
  {
   "cell_type": "code",
   "execution_count": 57,
   "id": "84db9b67",
   "metadata": {},
   "outputs": [],
   "source": [
    "X_train, X_test, y_train, y_test = train_test_split(X, y, random_state=42, test_size=0.25)"
   ]
  },
  {
   "cell_type": "code",
   "execution_count": 58,
   "id": "071e8442",
   "metadata": {},
   "outputs": [
    {
     "name": "stdout",
     "output_type": "stream",
     "text": [
      "Train shapes: (22311, 15747) (22311,)\n",
      "Test shapes: (7437, 15747) (7437,)\n"
     ]
    }
   ],
   "source": [
    "print(\"Train shapes:\", X_train.shape, y_train.shape)\n",
    "print(\"Test shapes:\", X_test.shape, y_test.shape)"
   ]
  },
  {
   "cell_type": "markdown",
   "id": "6881f9f7",
   "metadata": {},
   "source": [
    "#### Class Imbalance"
   ]
  },
  {
   "cell_type": "code",
   "execution_count": 59,
   "id": "920ac4a3",
   "metadata": {},
   "outputs": [
    {
     "data": {
      "text/plain": [
       "user_sentiment\n",
       "1    0.887892\n",
       "0    0.112108\n",
       "Name: proportion, dtype: float64"
      ]
     },
     "execution_count": 59,
     "metadata": {},
     "output_type": "execute_result"
    }
   ],
   "source": [
    "# Look for class imbalance in the dataset\n",
    "df_sent['user_sentiment'].value_counts(normalize=True)"
   ]
  },
  {
   "cell_type": "markdown",
   "id": "c257b683",
   "metadata": {},
   "source": [
    "Observation:\n",
    "- Positive sentiments make upto 89% whereas Negative sentiments count for just 11%.\n",
    "- To handle this imbalance, let's use **SMOTE** (Synthetic Minority Oversampling Technique), an oversampling method that generates synthetic samples for the minority class."
   ]
  },
  {
   "cell_type": "code",
   "execution_count": 60,
   "id": "1b5fef82",
   "metadata": {},
   "outputs": [
    {
     "name": "stdout",
     "output_type": "stream",
     "text": [
      "Before: Counter({1: 19786, 0: 2525})\n",
      "After using SMOTE: Counter({1: 19786, 0: 19786})\n"
     ]
    }
   ],
   "source": [
    "counter = Counter(y_train)\n",
    "print(\"Before:\", counter)\n",
    "\n",
    "#oversampling using SMOTE\n",
    "smote = SMOTE(random_state=100)\n",
    "X_train_sm, y_train_sm = smote.fit_resample(X_train,y_train)\n",
    "\n",
    "counter = Counter(y_train_sm)\n",
    "print(\"After using SMOTE:\", counter)"
   ]
  },
  {
   "cell_type": "markdown",
   "id": "7a2d920b",
   "metadata": {},
   "source": [
    "Now that we have a well balanced dataset, let's proceed with model building and prediction."
   ]
  },
  {
   "cell_type": "markdown",
   "id": "c5264a30",
   "metadata": {},
   "source": [
    "## Training a text classification model"
   ]
  },
  {
   "cell_type": "markdown",
   "id": "7b83dce5",
   "metadata": {},
   "source": [
    "Select one of these classification models based on their performance -   \n",
    "1. Logistic regression  \n",
    "2. Random forest\n",
    "3. XGBoost\n",
    "4. Naive Bayes"
   ]
  },
  {
   "cell_type": "code",
   "execution_count": 61,
   "id": "de332d45",
   "metadata": {},
   "outputs": [],
   "source": [
    "# Function to display scores\n",
    "def evaluate_model(classifier, X_test, y_test):\n",
    "\n",
    "    # Calculate Predicted value\n",
    "    y_pred = classifier.predict(X_test)\n",
    "\n",
    "    # Create confusion matrix\n",
    "    conf_m = confusion_matrix(y_test, y_pred)\n",
    "\n",
    "    print(\"Visualize the Confusion Matrix with a Heatmap\")\n",
    "    print(\"-\"*45)\n",
    "    # Visualize Confusion Matrix with heatmap\n",
    "    fig, ax = plt.subplots(figsize=(6, 6))\n",
    "    ax = sns.heatmap(confusion_matrix(y_test, y_pred),\n",
    "                     annot=True,\n",
    "                     cbar=False,\n",
    "                     cmap=\"RdYlGn\", fmt='0.1f')\n",
    "    plt.xlabel(\"Actual label\")\n",
    "    plt.ylabel(\"Predicted label\")\n",
    "    plt.show()\n",
    "\n",
    "    # Calculate the values of True Positives, True Negatives, False Positivies and False Negatives\n",
    "    TP = conf_m[1][1]\n",
    "    TN = conf_m[0][0]\n",
    "    FP = conf_m[0][1]\n",
    "    FN = conf_m[1][0]\n",
    "\n",
    "    # Calculate Accuracy\n",
    "    accuracy = accuracy_score(y_test, y_pred)\n",
    "    accuracy = round(accuracy, 2)\n",
    "\n",
    "    # Calculate Recall\n",
    "    recall = (TP / float(TP + FN))\n",
    "    recall = round(recall, 2)\n",
    "\n",
    "    # Calculate Precision\n",
    "    precision = (TP / float(TP + FP))\n",
    "    precision = round(precision, 2)\n",
    "\n",
    "    # Calculate F_1 score\n",
    "    F1_score = 2 * ((precision * recall) /\n",
    "                    (precision + recall))\n",
    "    F1_score = round(F1_score, 2)\n",
    "\n",
    "    # Returning evaluation results for comparison later\n",
    "    evaluation_metrics = []\n",
    "    evaluation_metrics.append(accuracy)\n",
    "    evaluation_metrics.append(recall)\n",
    "    evaluation_metrics.append(precision)\n",
    "    evaluation_metrics.append(F1_score)\n",
    "\n",
    "    return evaluation_metrics"
   ]
  },
  {
   "cell_type": "markdown",
   "id": "ed40c924",
   "metadata": {},
   "source": [
    "### Logistic Regression"
   ]
  },
  {
   "cell_type": "markdown",
   "id": "98eca960",
   "metadata": {},
   "source": [
    "#### Base Model"
   ]
  },
  {
   "cell_type": "code",
   "execution_count": 62,
   "id": "cb41dae3",
   "metadata": {},
   "outputs": [],
   "source": [
    "logreg = LogisticRegression(random_state=100, solver='liblinear').fit(X_train_sm, y_train_sm)"
   ]
  },
  {
   "cell_type": "code",
   "execution_count": 63,
   "id": "9e9907f0",
   "metadata": {},
   "outputs": [
    {
     "name": "stdout",
     "output_type": "stream",
     "text": [
      "Visualize the Confusion Matrix with a Heatmap\n",
      "---------------------------------------------\n"
     ]
    },
    {
     "data": {
      "image/png": "[encoded data removed]",
      "text/plain": [
       "<Figure size 432x432 with 1 Axes>"
      ]
     },
     "metadata": {
      "needs_background": "light"
     },
     "output_type": "display_data"
    }
   ],
   "source": [
    "# Get the score of the base model\n",
    "logreg_metrics = evaluate_model(logreg, X_test, y_test)"
   ]
  },
  {
   "cell_type": "code",
   "execution_count": 64,
   "id": "82d8587a",
   "metadata": {},
   "outputs": [
    {
     "data": {
      "text/html": [
       "<div>\n",
       "<style scoped>\n",
       "    .dataframe tbody tr th:only-of-type {\n",
       "        vertical-align: middle;\n",
       "    }\n",
       "\n",
       "    .dataframe tbody tr th {\n",
       "        vertical-align: top;\n",
       "    }\n",
       "\n",
       "    .dataframe thead th {\n",
       "        text-align: right;\n",
       "    }\n",
       "</style>\n",
       "<table border=\"1\" class=\"dataframe\">\n",
       "  <thead>\n",
       "    <tr style=\"text-align: right;\">\n",
       "      <th></th>\n",
       "      <th>Metrics</th>\n",
       "      <th>Logistic Regression Base Model</th>\n",
       "    </tr>\n",
       "  </thead>\n",
       "  <tbody>\n",
       "    <tr>\n",
       "      <th>0</th>\n",
       "      <td>Accuracy</td>\n",
       "      <td>0.87</td>\n",
       "    </tr>\n",
       "    <tr>\n",
       "      <th>1</th>\n",
       "      <td>Recall</td>\n",
       "      <td>0.88</td>\n",
       "    </tr>\n",
       "    <tr>\n",
       "      <th>2</th>\n",
       "      <td>Precision</td>\n",
       "      <td>0.96</td>\n",
       "    </tr>\n",
       "    <tr>\n",
       "      <th>3</th>\n",
       "      <td>F1 Score</td>\n",
       "      <td>0.92</td>\n",
       "    </tr>\n",
       "  </tbody>\n",
       "</table>\n",
       "</div>"
      ],
      "text/plain": [
       "     Metrics  Logistic Regression Base Model\n",
       "0   Accuracy                            0.87\n",
       "1     Recall                            0.88\n",
       "2  Precision                            0.96\n",
       "3   F1 Score                            0.92"
      ]
     },
     "execution_count": 64,
     "metadata": {},
     "output_type": "execute_result"
    }
   ],
   "source": [
    "# Print the scores of the base model as reference\n",
    "df_lrb_metrics = pd.DataFrame({'Metrics': ['Accuracy', 'Recall', 'Precision', 'F1 Score'],\n",
    "                              'Logistic Regression Base Model': logreg_metrics})\n",
    "df_lrb_metrics"
   ]
  },
  {
   "cell_type": "markdown",
   "id": "9bbf4f0c",
   "metadata": {},
   "source": [
    "Observation:\n",
    "- The Base model of Logistic Regression shows good performance (Accuracy & F1 Score). Let's see if we can further improve the scores after hyperparameter tuning."
   ]
  },
  {
   "cell_type": "markdown",
   "id": "df87d1e6",
   "metadata": {},
   "source": [
    "#### Hyper-parameter Tuning"
   ]
  },
  {
   "cell_type": "code",
   "execution_count": 65,
   "id": "5d417925",
   "metadata": {},
   "outputs": [],
   "source": [
    "# Different solvers\n",
    "solvers = ['newton-cg', 'lbfgs', 'liblinear']\n",
    "# Regularization (penalty)\n",
    "penalty = ['l2']\n",
    "# C parameter controls the penality strength\n",
    "c_values = [100, 10, 1.0, 0.1, 0.01]\n",
    "\n",
    "# Define grid search\n",
    "grid = dict(solver=solvers,penalty=penalty,C=c_values)\n",
    "cv = RepeatedStratifiedKFold(n_splits=10, n_repeats=3, random_state=1)\n",
    "logreg_hpt = GridSearchCV(estimator=logreg, param_grid=grid, n_jobs=-1, cv=cv, scoring='f1',error_score=0)\n",
    "grid_result = logreg_hpt.fit(X_train_sm, y_train_sm)"
   ]
  },
  {
   "cell_type": "markdown",
   "id": "2c8d16d9",
   "metadata": {},
   "source": [
    "Observation:\n",
    "- I can choose 'accuracy' or 'f1 score' here as this is a balanced dataset. I'm going to stick with **'f1 score'** to determine the better performing model."
   ]
  },
  {
   "cell_type": "code",
   "execution_count": 66,
   "id": "a4a70f11",
   "metadata": {},
   "outputs": [
    {
     "name": "stdout",
     "output_type": "stream",
     "text": [
      "Best: 0.960198 using {'C': 100, 'penalty': 'l2', 'solver': 'lbfgs'}\n"
     ]
    }
   ],
   "source": [
    "# summarize results\n",
    "print(\"Best: %f using %s\" % (grid_result.best_score_, grid_result.best_params_))"
   ]
  },
  {
   "cell_type": "code",
   "execution_count": 67,
   "id": "fb9abd9f",
   "metadata": {},
   "outputs": [
    {
     "name": "stdout",
     "output_type": "stream",
     "text": [
      "Visualize the Confusion Matrix with a Heatmap\n",
      "---------------------------------------------\n"
     ]
    },
    {
     "data": {
      "image/png": "[encoded data removed]",
      "text/plain": [
       "<Figure size 432x432 with 1 Axes>"
      ]
     },
     "metadata": {
      "needs_background": "light"
     },
     "output_type": "display_data"
    }
   ],
   "source": [
    "# Get the scores of the tuned model\n",
    "logreg_tuned_metrics = evaluate_model(logreg_hpt, X_test, y_test)"
   ]
  },
  {
   "cell_type": "code",
   "execution_count": 68,
   "id": "7dc49024",
   "metadata": {},
   "outputs": [
    {
     "data": {
      "text/html": [
       "<div>\n",
       "<style scoped>\n",
       "    .dataframe tbody tr th:only-of-type {\n",
       "        vertical-align: middle;\n",
       "    }\n",
       "\n",
       "    .dataframe tbody tr th {\n",
       "        vertical-align: top;\n",
       "    }\n",
       "\n",
       "    .dataframe thead th {\n",
       "        text-align: right;\n",
       "    }\n",
       "</style>\n",
       "<table border=\"1\" class=\"dataframe\">\n",
       "  <thead>\n",
       "    <tr style=\"text-align: right;\">\n",
       "      <th></th>\n",
       "      <th>Metrics</th>\n",
       "      <th>LR Base Model</th>\n",
       "      <th>LR Tuned Model</th>\n",
       "    </tr>\n",
       "  </thead>\n",
       "  <tbody>\n",
       "    <tr>\n",
       "      <th>0</th>\n",
       "      <td>Accuracy</td>\n",
       "      <td>0.87</td>\n",
       "      <td>0.89</td>\n",
       "    </tr>\n",
       "    <tr>\n",
       "      <th>1</th>\n",
       "      <td>Recall</td>\n",
       "      <td>0.88</td>\n",
       "      <td>0.93</td>\n",
       "    </tr>\n",
       "    <tr>\n",
       "      <th>2</th>\n",
       "      <td>Precision</td>\n",
       "      <td>0.96</td>\n",
       "      <td>0.95</td>\n",
       "    </tr>\n",
       "    <tr>\n",
       "      <th>3</th>\n",
       "      <td>F1 Score</td>\n",
       "      <td>0.92</td>\n",
       "      <td>0.94</td>\n",
       "    </tr>\n",
       "  </tbody>\n",
       "</table>\n",
       "</div>"
      ],
      "text/plain": [
       "     Metrics  LR Base Model  LR Tuned Model\n",
       "0   Accuracy           0.87            0.89\n",
       "1     Recall           0.88            0.93\n",
       "2  Precision           0.96            0.95\n",
       "3   F1 Score           0.92            0.94"
      ]
     },
     "execution_count": 68,
     "metadata": {},
     "output_type": "execute_result"
    }
   ],
   "source": [
    "# Printing the scores of the base model as reference\n",
    "df_lr_b_vs_ht_metrics = pd.DataFrame({'Metrics': ['Accuracy', 'Recall', 'Precision', 'F1 Score'],\n",
    "                              'LR Base Model': logreg_metrics, 'LR Tuned Model': logreg_tuned_metrics})\n",
    "df_lr_b_vs_ht_metrics"
   ]
  },
  {
   "cell_type": "markdown",
   "id": "5da4f187",
   "metadata": {},
   "source": [
    "Observation:\n",
    "- The **hypertuned Logistic Regression** Model performs better (both Accuracy & F1 Score habing higher values) than the base model."
   ]
  },
  {
   "cell_type": "markdown",
   "id": "17f81189",
   "metadata": {},
   "source": [
    "#### Save the Models"
   ]
  },
  {
   "cell_type": "code",
   "execution_count": 69,
   "id": "3b531e80",
   "metadata": {},
   "outputs": [],
   "source": [
    "lr_base_model = pickle.dump(logreg, open('./pickle/lr_base_model.pkl', 'wb'))\n",
    "lr_tuned_model = pickle.dump(logreg_hpt, open('./pickle/lr_tuned_model.pkl', 'wb'))"
   ]
  },
  {
   "cell_type": "markdown",
   "id": "77089bea",
   "metadata": {},
   "source": [
    "### Random Forest"
   ]
  },
  {
   "cell_type": "markdown",
   "id": "3c03550e",
   "metadata": {},
   "source": [
    "#### Base Model"
   ]
  },
  {
   "cell_type": "code",
   "execution_count": 70,
   "id": "b77f62a9",
   "metadata": {},
   "outputs": [],
   "source": [
    "rf = RandomForestClassifier(random_state=100).fit(X_train_sm, y_train_sm)"
   ]
  },
  {
   "cell_type": "code",
   "execution_count": 71,
   "id": "ad1aba94",
   "metadata": {},
   "outputs": [
    {
     "name": "stdout",
     "output_type": "stream",
     "text": [
      "Visualize the Confusion Matrix with a Heatmap\n",
      "---------------------------------------------\n"
     ]
    },
    {
     "data": {
      "image/png": "[encoded data removed]",
      "text/plain": [
       "<Figure size 432x432 with 1 Axes>"
      ]
     },
     "metadata": {
      "needs_background": "light"
     },
     "output_type": "display_data"
    }
   ],
   "source": [
    "# Get the score of the base model\n",
    "rf_metrics = evaluate_model(rf, X_test, y_test)"
   ]
  },
  {
   "cell_type": "code",
   "execution_count": 72,
   "id": "602a98a3",
   "metadata": {},
   "outputs": [
    {
     "data": {
      "text/html": [
       "<div>\n",
       "<style scoped>\n",
       "    .dataframe tbody tr th:only-of-type {\n",
       "        vertical-align: middle;\n",
       "    }\n",
       "\n",
       "    .dataframe tbody tr th {\n",
       "        vertical-align: top;\n",
       "    }\n",
       "\n",
       "    .dataframe thead th {\n",
       "        text-align: right;\n",
       "    }\n",
       "</style>\n",
       "<table border=\"1\" class=\"dataframe\">\n",
       "  <thead>\n",
       "    <tr style=\"text-align: right;\">\n",
       "      <th></th>\n",
       "      <th>Metrics</th>\n",
       "      <th>RF Base Model</th>\n",
       "    </tr>\n",
       "  </thead>\n",
       "  <tbody>\n",
       "    <tr>\n",
       "      <th>0</th>\n",
       "      <td>Accuracy</td>\n",
       "      <td>0.91</td>\n",
       "    </tr>\n",
       "    <tr>\n",
       "      <th>1</th>\n",
       "      <td>Recall</td>\n",
       "      <td>0.97</td>\n",
       "    </tr>\n",
       "    <tr>\n",
       "      <th>2</th>\n",
       "      <td>Precision</td>\n",
       "      <td>0.93</td>\n",
       "    </tr>\n",
       "    <tr>\n",
       "      <th>3</th>\n",
       "      <td>F1 Score</td>\n",
       "      <td>0.95</td>\n",
       "    </tr>\n",
       "  </tbody>\n",
       "</table>\n",
       "</div>"
      ],
      "text/plain": [
       "     Metrics  RF Base Model\n",
       "0   Accuracy           0.91\n",
       "1     Recall           0.97\n",
       "2  Precision           0.93\n",
       "3   F1 Score           0.95"
      ]
     },
     "execution_count": 72,
     "metadata": {},
     "output_type": "execute_result"
    }
   ],
   "source": [
    "# Print the scores of the base model\n",
    "df_rfb_metrics = pd.DataFrame({'Metrics': [\n",
    "                              'Accuracy', 'Recall', 'Precision', 'F1 Score'], 'RF Base Model': rf_metrics})\n",
    "df_rfb_metrics"
   ]
  },
  {
   "cell_type": "markdown",
   "id": "26b4d3c2",
   "metadata": {},
   "source": [
    "Observation:\n",
    "- The base model of Random Forest shows really good performance (Accuracy & F1 Score). Let's see if I can further improve the scores after hyperparameter tuning."
   ]
  },
  {
   "cell_type": "markdown",
   "id": "af299f0b",
   "metadata": {},
   "source": [
    "#### Hyper-parameter Tuning"
   ]
  },
  {
   "cell_type": "markdown",
   "id": "0d5f605f",
   "metadata": {},
   "source": [
    "The most important parameter is the number of random features to sample at each split point (max_features). Another important parameter for random forest is the number of trees (n_estimators)."
   ]
  },
  {
   "cell_type": "code",
   "execution_count": 73,
   "id": "6f6674dc",
   "metadata": {},
   "outputs": [
    {
     "name": "stdout",
     "output_type": "stream",
     "text": [
      "Fitting 5 folds for each of 10 candidates, totalling 50 fits\n"
     ]
    },
    {
     "data": {
      "text/html": [
       "<style>#sk-container-id-1 {color: black;background-color: white;}#sk-container-id-1 pre{padding: 0;}#sk-container-id-1 div.sk-toggleable {background-color: white;}#sk-container-id-1 label.sk-toggleable__label {cursor: pointer;display: block;width: 100%;margin-bottom: 0;padding: 0.3em;box-sizing: border-box;text-align: center;}#sk-container-id-1 label.sk-toggleable__label-arrow:before {content: \"▸\";float: left;margin-right: 0.25em;color: #696969;}#sk-container-id-1 label.sk-toggleable__label-arrow:hover:before {color: black;}#sk-container-id-1 div.sk-estimator:hover label.sk-toggleable__label-arrow:before {color: black;}#sk-container-id-1 div.sk-toggleable__content {max-height: 0;max-width: 0;overflow: hidden;text-align: left;background-color: #f0f8ff;}#sk-container-id-1 div.sk-toggleable__content pre {margin: 0.2em;color: black;border-radius: 0.25em;background-color: #f0f8ff;}#sk-container-id-1 input.sk-toggleable__control:checked~div.sk-toggleable__content {max-height: 200px;max-width: 100%;overflow: auto;}#sk-container-id-1 input.sk-toggleable__control:checked~label.sk-toggleable__label-arrow:before {content: \"▾\";}#sk-container-id-1 div.sk-estimator input.sk-toggleable__control:checked~label.sk-toggleable__label {background-color: #d4ebff;}#sk-container-id-1 div.sk-label input.sk-toggleable__control:checked~label.sk-toggleable__label {background-color: #d4ebff;}#sk-container-id-1 input.sk-hidden--visually {border: 0;clip: rect(1px 1px 1px 1px);clip: rect(1px, 1px, 1px, 1px);height: 1px;margin: -1px;overflow: hidden;padding: 0;position: absolute;width: 1px;}#sk-container-id-1 div.sk-estimator {font-family: monospace;background-color: #f0f8ff;border: 1px dotted black;border-radius: 0.25em;box-sizing: border-box;margin-bottom: 0.5em;}#sk-container-id-1 div.sk-estimator:hover {background-color: #d4ebff;}#sk-container-id-1 div.sk-parallel-item::after {content: \"\";width: 100%;border-bottom: 1px solid gray;flex-grow: 1;}#sk-container-id-1 div.sk-label:hover label.sk-toggleable__label {background-color: #d4ebff;}#sk-container-id-1 div.sk-serial::before {content: \"\";position: absolute;border-left: 1px solid gray;box-sizing: border-box;top: 0;bottom: 0;left: 50%;z-index: 0;}#sk-container-id-1 div.sk-serial {display: flex;flex-direction: column;align-items: center;background-color: white;padding-right: 0.2em;padding-left: 0.2em;position: relative;}#sk-container-id-1 div.sk-item {position: relative;z-index: 1;}#sk-container-id-1 div.sk-parallel {display: flex;align-items: stretch;justify-content: center;background-color: white;position: relative;}#sk-container-id-1 div.sk-item::before, #sk-container-id-1 div.sk-parallel-item::before {content: \"\";position: absolute;border-left: 1px solid gray;box-sizing: border-box;top: 0;bottom: 0;left: 50%;z-index: -1;}#sk-container-id-1 div.sk-parallel-item {display: flex;flex-direction: column;z-index: 1;position: relative;background-color: white;}#sk-container-id-1 div.sk-parallel-item:first-child::after {align-self: flex-end;width: 50%;}#sk-container-id-1 div.sk-parallel-item:last-child::after {align-self: flex-start;width: 50%;}#sk-container-id-1 div.sk-parallel-item:only-child::after {width: 0;}#sk-container-id-1 div.sk-dashed-wrapped {border: 1px dashed gray;margin: 0 0.4em 0.5em 0.4em;box-sizing: border-box;padding-bottom: 0.4em;background-color: white;}#sk-container-id-1 div.sk-label label {font-family: monospace;font-weight: bold;display: inline-block;line-height: 1.2em;}#sk-container-id-1 div.sk-label-container {text-align: center;}#sk-container-id-1 div.sk-container {/* jupyter's `normalize.less` sets `[hidden] { display: none; }` but bootstrap.min.css set `[hidden] { display: none !important; }` so we also need the `!important` here to be able to override the default hidden behavior on the sphinx rendered scikit-learn.org. See: https://github.com/scikit-learn/scikit-learn/issues/21755 */display: inline-block !important;position: relative;}#sk-container-id-1 div.sk-text-repr-fallback {display: none;}</style><div id=\"sk-container-id-1\" class=\"sk-top-container\"><div class=\"sk-text-repr-fallback\"><pre>RandomizedSearchCV(cv=5, estimator=RandomForestClassifier(random_state=42),\n",
       "                   n_jobs=-1,\n",
       "                   param_distributions={&#x27;max_depth&#x27;: array([10, 15, 20, 25, 30, 35, 40, 45]),\n",
       "                                        &#x27;min_samples_leaf&#x27;: array([ 5, 10, 15, 20, 25, 30, 35, 40, 45]),\n",
       "                                        &#x27;min_samples_split&#x27;: array([ 15,  30,  45,  60,  75,  90, 105, 120, 135, 150, 165, 180, 195,\n",
       "       210, 225, 240, 255, 270, 285, 300, 315, 330, 345, 360, 375, 390,\n",
       "       405, 420, 435, 450, 465, 480, 495]),\n",
       "                                        &#x27;n_estimators&#x27;: array([ 10,  60, 110, 160, 210, 260, 310, 360, 410, 460, 510, 560, 610,\n",
       "       660, 710, 760, 810, 860, 910, 960])},\n",
       "                   scoring=&#x27;f1&#x27;, verbose=True)</pre><b>In a Jupyter environment, please rerun this cell to show the HTML representation or trust the notebook. <br />On GitHub, the HTML representation is unable to render, please try loading this page with nbviewer.org.</b></div><div class=\"sk-container\" hidden><div class=\"sk-item sk-dashed-wrapped\"><div class=\"sk-label-container\"><div class=\"sk-label sk-toggleable\"><input class=\"sk-toggleable__control sk-hidden--visually\" id=\"sk-estimator-id-1\" type=\"checkbox\" ><label for=\"sk-estimator-id-1\" class=\"sk-toggleable__label sk-toggleable__label-arrow\">RandomizedSearchCV</label><div class=\"sk-toggleable__content\"><pre>RandomizedSearchCV(cv=5, estimator=RandomForestClassifier(random_state=42),\n",
       "                   n_jobs=-1,\n",
       "                   param_distributions={&#x27;max_depth&#x27;: array([10, 15, 20, 25, 30, 35, 40, 45]),\n",
       "                                        &#x27;min_samples_leaf&#x27;: array([ 5, 10, 15, 20, 25, 30, 35, 40, 45]),\n",
       "                                        &#x27;min_samples_split&#x27;: array([ 15,  30,  45,  60,  75,  90, 105, 120, 135, 150, 165, 180, 195,\n",
       "       210, 225, 240, 255, 270, 285, 300, 315, 330, 345, 360, 375, 390,\n",
       "       405, 420, 435, 450, 465, 480, 495]),\n",
       "                                        &#x27;n_estimators&#x27;: array([ 10,  60, 110, 160, 210, 260, 310, 360, 410, 460, 510, 560, 610,\n",
       "       660, 710, 760, 810, 860, 910, 960])},\n",
       "                   scoring=&#x27;f1&#x27;, verbose=True)</pre></div></div></div><div class=\"sk-parallel\"><div class=\"sk-parallel-item\"><div class=\"sk-item\"><div class=\"sk-label-container\"><div class=\"sk-label sk-toggleable\"><input class=\"sk-toggleable__control sk-hidden--visually\" id=\"sk-estimator-id-2\" type=\"checkbox\" ><label for=\"sk-estimator-id-2\" class=\"sk-toggleable__label sk-toggleable__label-arrow\">estimator: RandomForestClassifier</label><div class=\"sk-toggleable__content\"><pre>RandomForestClassifier(random_state=42)</pre></div></div></div><div class=\"sk-serial\"><div class=\"sk-item\"><div class=\"sk-estimator sk-toggleable\"><input class=\"sk-toggleable__control sk-hidden--visually\" id=\"sk-estimator-id-3\" type=\"checkbox\" ><label for=\"sk-estimator-id-3\" class=\"sk-toggleable__label sk-toggleable__label-arrow\">RandomForestClassifier</label><div class=\"sk-toggleable__content\"><pre>RandomForestClassifier(random_state=42)</pre></div></div></div></div></div></div></div></div></div></div>"
      ],
      "text/plain": [
       "RandomizedSearchCV(cv=5, estimator=RandomForestClassifier(random_state=42),\n",
       "                   n_jobs=-1,\n",
       "                   param_distributions={'max_depth': array([10, 15, 20, 25, 30, 35, 40, 45]),\n",
       "                                        'min_samples_leaf': array([ 5, 10, 15, 20, 25, 30, 35, 40, 45]),\n",
       "                                        'min_samples_split': array([ 15,  30,  45,  60,  75,  90, 105, 120, 135, 150, 165, 180, 195,\n",
       "       210, 225, 240, 255, 270, 285, 300, 315, 330, 345, 360, 375, 390,\n",
       "       405, 420, 435, 450, 465, 480, 495]),\n",
       "                                        'n_estimators': array([ 10,  60, 110, 160, 210, 260, 310, 360, 410, 460, 510, 560, 610,\n",
       "       660, 710, 760, 810, 860, 910, 960])},\n",
       "                   scoring='f1', verbose=True)"
      ]
     },
     "execution_count": 73,
     "metadata": {},
     "output_type": "execute_result"
    }
   ],
   "source": [
    "rf_grid = {\"n_estimators\": np.arange(10, 1000, 50),\n",
    "           \"max_depth\": np.arange(10, 50, 5),\n",
    "           \"min_samples_split\": np.arange(15, 500, 15),\n",
    "           \"min_samples_leaf\": np.arange(5, 50, 5)}\n",
    "\n",
    "# Define grid search\n",
    "rf_hpt = RandomizedSearchCV(RandomForestClassifier(random_state=42),\n",
    "                            param_distributions=rf_grid,\n",
    "                            cv=5,\n",
    "                            verbose=True,\n",
    "                            n_jobs=-1,\n",
    "                            scoring='f1')\n",
    "# Fit random hyperparameter search model\n",
    "rf_hpt.fit(X_train_sm, y_train_sm)"
   ]
  },
  {
   "cell_type": "code",
   "execution_count": 74,
   "id": "d9245c3e",
   "metadata": {},
   "outputs": [
    {
     "name": "stdout",
     "output_type": "stream",
     "text": [
      "Best: 0.860962 using {'n_estimators': 860, 'min_samples_split': 360, 'min_samples_leaf': 10, 'max_depth': 40}\n"
     ]
    }
   ],
   "source": [
    "# summarize results\n",
    "print(\"Best: %f using %s\" % (rf_hpt.best_score_, rf_hpt.best_params_))"
   ]
  },
  {
   "cell_type": "code",
   "execution_count": 75,
   "id": "ecc5137a",
   "metadata": {},
   "outputs": [
    {
     "name": "stdout",
     "output_type": "stream",
     "text": [
      "Visualize the Confusion Matrix with a Heatmap\n",
      "---------------------------------------------\n"
     ]
    },
    {
     "data": {
      "image/png": "[encoded data removed]",
      "text/plain": [
       "<Figure size 432x432 with 1 Axes>"
      ]
     },
     "metadata": {
      "needs_background": "light"
     },
     "output_type": "display_data"
    }
   ],
   "source": [
    "# Get the scores of the tuned model\n",
    "rf_tuned_metrics = evaluate_model(rf_hpt, X_test, y_test)"
   ]
  },
  {
   "cell_type": "code",
   "execution_count": 76,
   "id": "489cf486",
   "metadata": {},
   "outputs": [
    {
     "data": {
      "text/html": [
       "<div>\n",
       "<style scoped>\n",
       "    .dataframe tbody tr th:only-of-type {\n",
       "        vertical-align: middle;\n",
       "    }\n",
       "\n",
       "    .dataframe tbody tr th {\n",
       "        vertical-align: top;\n",
       "    }\n",
       "\n",
       "    .dataframe thead th {\n",
       "        text-align: right;\n",
       "    }\n",
       "</style>\n",
       "<table border=\"1\" class=\"dataframe\">\n",
       "  <thead>\n",
       "    <tr style=\"text-align: right;\">\n",
       "      <th></th>\n",
       "      <th>Metrics</th>\n",
       "      <th>RF Base Model</th>\n",
       "      <th>RF Tuned Model</th>\n",
       "    </tr>\n",
       "  </thead>\n",
       "  <tbody>\n",
       "    <tr>\n",
       "      <th>0</th>\n",
       "      <td>Accuracy</td>\n",
       "      <td>0.91</td>\n",
       "      <td>0.84</td>\n",
       "    </tr>\n",
       "    <tr>\n",
       "      <th>1</th>\n",
       "      <td>Recall</td>\n",
       "      <td>0.97</td>\n",
       "      <td>0.87</td>\n",
       "    </tr>\n",
       "    <tr>\n",
       "      <th>2</th>\n",
       "      <td>Precision</td>\n",
       "      <td>0.93</td>\n",
       "      <td>0.95</td>\n",
       "    </tr>\n",
       "    <tr>\n",
       "      <th>3</th>\n",
       "      <td>F1 Score</td>\n",
       "      <td>0.95</td>\n",
       "      <td>0.91</td>\n",
       "    </tr>\n",
       "  </tbody>\n",
       "</table>\n",
       "</div>"
      ],
      "text/plain": [
       "     Metrics  RF Base Model  RF Tuned Model\n",
       "0   Accuracy           0.91            0.84\n",
       "1     Recall           0.97            0.87\n",
       "2  Precision           0.93            0.95\n",
       "3   F1 Score           0.95            0.91"
      ]
     },
     "execution_count": 76,
     "metadata": {},
     "output_type": "execute_result"
    }
   ],
   "source": [
    "# Printing the scores of the base model as reference\n",
    "df_rf_b_vs_ht_metrics = pd.DataFrame({'Metrics': ['Accuracy', 'Recall', 'Precision', 'F1 Score'],\n",
    "                              'RF Base Model': rf_metrics, 'RF Tuned Model': rf_tuned_metrics})\n",
    "df_rf_b_vs_ht_metrics"
   ]
  },
  {
   "cell_type": "markdown",
   "id": "c03ef9e1",
   "metadata": {},
   "source": [
    "Observation:\n",
    "- The **base model of Random Forest** performs better (improved Accuracy & f1 score) than its hypertuned counterpart."
   ]
  },
  {
   "cell_type": "markdown",
   "id": "8fc2ce79",
   "metadata": {},
   "source": [
    "#### Save the Models"
   ]
  },
  {
   "cell_type": "markdown",
   "id": "fdd8ebd2",
   "metadata": {},
   "source": [
    "As the pickle file of the random forest model is too large (96MB), I save it in a compressed pickle format."
   ]
  },
  {
   "cell_type": "code",
   "execution_count": 78,
   "id": "f7505bdc",
   "metadata": {},
   "outputs": [],
   "source": [
    "# rf_base_model = pickle.dump(srf, open('./pickle/rf_base_model.pkl', 'wb'))\n",
    "# rf_tuned_model = pickle.dump(rf_hpt, open('./pickle/rf_tuned_model.pkl', 'wb'))\n",
    "import bz2\n",
    "with bz2.BZ2File('./pickle/rf_base_model.pbz2', 'w') as f:\n",
    "    pickle.dump(rf, f)\n",
    "with bz2.BZ2File('./pickle/rf_tuned_model.pbz2', 'w') as f:\n",
    "    pickle.dump(rf_hpt, f)"
   ]
  },
  {
   "cell_type": "markdown",
   "id": "221be584",
   "metadata": {},
   "source": [
    "### XGBoost Classifier"
   ]
  },
  {
   "cell_type": "markdown",
   "id": "5279ca13",
   "metadata": {},
   "source": [
    "#### Base Model"
   ]
  },
  {
   "cell_type": "code",
   "execution_count": 79,
   "id": "b8736c24",
   "metadata": {},
   "outputs": [],
   "source": [
    "# xg = xgb.XGBClassifier(random_state=101).fit(X_train_sm, y_train_sm)\n",
    "#ValueError: Invalid classes inferred from unique values of `y`.  Expected: [0 1], got ['Negative' 'Positive']"
   ]
  },
  {
   "cell_type": "markdown",
   "id": "82e59ea1",
   "metadata": {},
   "source": [
    "XGBoost requires that the output variables to be numeric. I can convert the string values to integer values using the `LabelEncoder`"
   ]
  },
  {
   "cell_type": "code",
   "execution_count": 80,
   "id": "97477d06",
   "metadata": {},
   "outputs": [],
   "source": [
    "# Encode string class values as integers\n",
    "label_encoder = LabelEncoder()\n",
    "label_encoder = label_encoder.fit(y_train_sm)\n",
    "y_train_sm_enc = label_encoder.transform(y_train_sm)\n",
    "y_test_enc = label_encoder.transform(y_test)"
   ]
  },
  {
   "cell_type": "code",
   "execution_count": 81,
   "id": "e5082e13",
   "metadata": {},
   "outputs": [],
   "source": [
    "xg = xgb.XGBClassifier(random_state=101).fit(X_train_sm, y_train_sm_enc)"
   ]
  },
  {
   "cell_type": "code",
   "execution_count": 82,
   "id": "74910a8e",
   "metadata": {},
   "outputs": [
    {
     "name": "stdout",
     "output_type": "stream",
     "text": [
      "Visualize the Confusion Matrix with a Heatmap\n",
      "---------------------------------------------\n"
     ]
    },
    {
     "data": {
      "image/png": "[encoded data removed]",
      "text/plain": [
       "<Figure size 432x432 with 1 Axes>"
      ]
     },
     "metadata": {
      "needs_background": "light"
     },
     "output_type": "display_data"
    }
   ],
   "source": [
    "# Getting the score of the base model\n",
    "xg_metrics = evaluate_model(xg, X_test, y_test_enc)"
   ]
  },
  {
   "cell_type": "code",
   "execution_count": 83,
   "id": "43075ace",
   "metadata": {},
   "outputs": [
    {
     "data": {
      "text/html": [
       "<div>\n",
       "<style scoped>\n",
       "    .dataframe tbody tr th:only-of-type {\n",
       "        vertical-align: middle;\n",
       "    }\n",
       "\n",
       "    .dataframe tbody tr th {\n",
       "        vertical-align: top;\n",
       "    }\n",
       "\n",
       "    .dataframe thead th {\n",
       "        text-align: right;\n",
       "    }\n",
       "</style>\n",
       "<table border=\"1\" class=\"dataframe\">\n",
       "  <thead>\n",
       "    <tr style=\"text-align: right;\">\n",
       "      <th></th>\n",
       "      <th>Metrics</th>\n",
       "      <th>XG Base Model</th>\n",
       "    </tr>\n",
       "  </thead>\n",
       "  <tbody>\n",
       "    <tr>\n",
       "      <th>0</th>\n",
       "      <td>Accuracy</td>\n",
       "      <td>0.88</td>\n",
       "    </tr>\n",
       "    <tr>\n",
       "      <th>1</th>\n",
       "      <td>Recall</td>\n",
       "      <td>0.92</td>\n",
       "    </tr>\n",
       "    <tr>\n",
       "      <th>2</th>\n",
       "      <td>Precision</td>\n",
       "      <td>0.94</td>\n",
       "    </tr>\n",
       "    <tr>\n",
       "      <th>3</th>\n",
       "      <td>F1 Score</td>\n",
       "      <td>0.93</td>\n",
       "    </tr>\n",
       "  </tbody>\n",
       "</table>\n",
       "</div>"
      ],
      "text/plain": [
       "     Metrics  XG Base Model\n",
       "0   Accuracy           0.88\n",
       "1     Recall           0.92\n",
       "2  Precision           0.94\n",
       "3   F1 Score           0.93"
      ]
     },
     "execution_count": 83,
     "metadata": {},
     "output_type": "execute_result"
    }
   ],
   "source": [
    "# Print the scores of the base model\n",
    "df_xgb_metrics = pd.DataFrame({'Metrics': [\n",
    "                              'Accuracy', 'Recall', 'Precision', 'F1 Score'], 'XG Base Model': xg_metrics})\n",
    "df_xgb_metrics"
   ]
  },
  {
   "cell_type": "markdown",
   "id": "4e9c9c31",
   "metadata": {},
   "source": [
    "#### Hyper-parameter Tuning"
   ]
  },
  {
   "cell_type": "code",
   "execution_count": 84,
   "id": "4e1eb5ce",
   "metadata": {},
   "outputs": [],
   "source": [
    "# Using a GridSearchCV\n",
    "xg_grid = {'max_depth': [3, 6, 10],\n",
    "          'learning_rate': [0.01, 0.05, 0.1],\n",
    "          'n_estimators': [100, 500, 1000],\n",
    "          'colsample_bytree': [0.3, 0.7]}\n",
    "xg_hpt = GridSearchCV(estimator=xg,\n",
    "                      param_grid=xg_grid, \n",
    "                      scoring='f1',\n",
    "                      verbose=1)"
   ]
  },
  {
   "cell_type": "code",
   "execution_count": 85,
   "id": "e3e9f367",
   "metadata": {},
   "outputs": [
    {
     "name": "stdout",
     "output_type": "stream",
     "text": [
      "Fitting 5 folds for each of 54 candidates, totalling 270 fits\n"
     ]
    },
    {
     "data": {
      "text/html": [
       "<style>#sk-container-id-2 {color: black;background-color: white;}#sk-container-id-2 pre{padding: 0;}#sk-container-id-2 div.sk-toggleable {background-color: white;}#sk-container-id-2 label.sk-toggleable__label {cursor: pointer;display: block;width: 100%;margin-bottom: 0;padding: 0.3em;box-sizing: border-box;text-align: center;}#sk-container-id-2 label.sk-toggleable__label-arrow:before {content: \"▸\";float: left;margin-right: 0.25em;color: #696969;}#sk-container-id-2 label.sk-toggleable__label-arrow:hover:before {color: black;}#sk-container-id-2 div.sk-estimator:hover label.sk-toggleable__label-arrow:before {color: black;}#sk-container-id-2 div.sk-toggleable__content {max-height: 0;max-width: 0;overflow: hidden;text-align: left;background-color: #f0f8ff;}#sk-container-id-2 div.sk-toggleable__content pre {margin: 0.2em;color: black;border-radius: 0.25em;background-color: #f0f8ff;}#sk-container-id-2 input.sk-toggleable__control:checked~div.sk-toggleable__content {max-height: 200px;max-width: 100%;overflow: auto;}#sk-container-id-2 input.sk-toggleable__control:checked~label.sk-toggleable__label-arrow:before {content: \"▾\";}#sk-container-id-2 div.sk-estimator input.sk-toggleable__control:checked~label.sk-toggleable__label {background-color: #d4ebff;}#sk-container-id-2 div.sk-label input.sk-toggleable__control:checked~label.sk-toggleable__label {background-color: #d4ebff;}#sk-container-id-2 input.sk-hidden--visually {border: 0;clip: rect(1px 1px 1px 1px);clip: rect(1px, 1px, 1px, 1px);height: 1px;margin: -1px;overflow: hidden;padding: 0;position: absolute;width: 1px;}#sk-container-id-2 div.sk-estimator {font-family: monospace;background-color: #f0f8ff;border: 1px dotted black;border-radius: 0.25em;box-sizing: border-box;margin-bottom: 0.5em;}#sk-container-id-2 div.sk-estimator:hover {background-color: #d4ebff;}#sk-container-id-2 div.sk-parallel-item::after {content: \"\";width: 100%;border-bottom: 1px solid gray;flex-grow: 1;}#sk-container-id-2 div.sk-label:hover label.sk-toggleable__label {background-color: #d4ebff;}#sk-container-id-2 div.sk-serial::before {content: \"\";position: absolute;border-left: 1px solid gray;box-sizing: border-box;top: 0;bottom: 0;left: 50%;z-index: 0;}#sk-container-id-2 div.sk-serial {display: flex;flex-direction: column;align-items: center;background-color: white;padding-right: 0.2em;padding-left: 0.2em;position: relative;}#sk-container-id-2 div.sk-item {position: relative;z-index: 1;}#sk-container-id-2 div.sk-parallel {display: flex;align-items: stretch;justify-content: center;background-color: white;position: relative;}#sk-container-id-2 div.sk-item::before, #sk-container-id-2 div.sk-parallel-item::before {content: \"\";position: absolute;border-left: 1px solid gray;box-sizing: border-box;top: 0;bottom: 0;left: 50%;z-index: -1;}#sk-container-id-2 div.sk-parallel-item {display: flex;flex-direction: column;z-index: 1;position: relative;background-color: white;}#sk-container-id-2 div.sk-parallel-item:first-child::after {align-self: flex-end;width: 50%;}#sk-container-id-2 div.sk-parallel-item:last-child::after {align-self: flex-start;width: 50%;}#sk-container-id-2 div.sk-parallel-item:only-child::after {width: 0;}#sk-container-id-2 div.sk-dashed-wrapped {border: 1px dashed gray;margin: 0 0.4em 0.5em 0.4em;box-sizing: border-box;padding-bottom: 0.4em;background-color: white;}#sk-container-id-2 div.sk-label label {font-family: monospace;font-weight: bold;display: inline-block;line-height: 1.2em;}#sk-container-id-2 div.sk-label-container {text-align: center;}#sk-container-id-2 div.sk-container {/* jupyter's `normalize.less` sets `[hidden] { display: none; }` but bootstrap.min.css set `[hidden] { display: none !important; }` so we also need the `!important` here to be able to override the default hidden behavior on the sphinx rendered scikit-learn.org. See: https://github.com/scikit-learn/scikit-learn/issues/21755 */display: inline-block !important;position: relative;}#sk-container-id-2 div.sk-text-repr-fallback {display: none;}</style><div id=\"sk-container-id-2\" class=\"sk-top-container\"><div class=\"sk-text-repr-fallback\"><pre>GridSearchCV(estimator=XGBClassifier(base_score=None, booster=None,\n",
       "                                     callbacks=None, colsample_bylevel=None,\n",
       "                                     colsample_bynode=None,\n",
       "                                     colsample_bytree=None,\n",
       "                                     early_stopping_rounds=None,\n",
       "                                     enable_categorical=False, eval_metric=None,\n",
       "                                     feature_types=None, gamma=None,\n",
       "                                     gpu_id=None, grow_policy=None,\n",
       "                                     importance_type=None,\n",
       "                                     interaction_constraints=None,\n",
       "                                     learning_rate=None, max_b...\n",
       "                                     max_cat_to_onehot=None,\n",
       "                                     max_delta_step=None, max_depth=None,\n",
       "                                     max_leaves=None, min_child_weight=None,\n",
       "                                     missing=nan, monotone_constraints=None,\n",
       "                                     n_estimators=100, n_jobs=None,\n",
       "                                     num_parallel_tree=None, predictor=None,\n",
       "                                     random_state=101, ...),\n",
       "             param_grid={&#x27;colsample_bytree&#x27;: [0.3, 0.7],\n",
       "                         &#x27;learning_rate&#x27;: [0.01, 0.05, 0.1],\n",
       "                         &#x27;max_depth&#x27;: [3, 6, 10],\n",
       "                         &#x27;n_estimators&#x27;: [100, 500, 1000]},\n",
       "             scoring=&#x27;f1&#x27;, verbose=1)</pre><b>In a Jupyter environment, please rerun this cell to show the HTML representation or trust the notebook. <br />On GitHub, the HTML representation is unable to render, please try loading this page with nbviewer.org.</b></div><div class=\"sk-container\" hidden><div class=\"sk-item sk-dashed-wrapped\"><div class=\"sk-label-container\"><div class=\"sk-label sk-toggleable\"><input class=\"sk-toggleable__control sk-hidden--visually\" id=\"sk-estimator-id-4\" type=\"checkbox\" ><label for=\"sk-estimator-id-4\" class=\"sk-toggleable__label sk-toggleable__label-arrow\">GridSearchCV</label><div class=\"sk-toggleable__content\"><pre>GridSearchCV(estimator=XGBClassifier(base_score=None, booster=None,\n",
       "                                     callbacks=None, colsample_bylevel=None,\n",
       "                                     colsample_bynode=None,\n",
       "                                     colsample_bytree=None,\n",
       "                                     early_stopping_rounds=None,\n",
       "                                     enable_categorical=False, eval_metric=None,\n",
       "                                     feature_types=None, gamma=None,\n",
       "                                     gpu_id=None, grow_policy=None,\n",
       "                                     importance_type=None,\n",
       "                                     interaction_constraints=None,\n",
       "                                     learning_rate=None, max_b...\n",
       "                                     max_cat_to_onehot=None,\n",
       "                                     max_delta_step=None, max_depth=None,\n",
       "                                     max_leaves=None, min_child_weight=None,\n",
       "                                     missing=nan, monotone_constraints=None,\n",
       "                                     n_estimators=100, n_jobs=None,\n",
       "                                     num_parallel_tree=None, predictor=None,\n",
       "                                     random_state=101, ...),\n",
       "             param_grid={&#x27;colsample_bytree&#x27;: [0.3, 0.7],\n",
       "                         &#x27;learning_rate&#x27;: [0.01, 0.05, 0.1],\n",
       "                         &#x27;max_depth&#x27;: [3, 6, 10],\n",
       "                         &#x27;n_estimators&#x27;: [100, 500, 1000]},\n",
       "             scoring=&#x27;f1&#x27;, verbose=1)</pre></div></div></div><div class=\"sk-parallel\"><div class=\"sk-parallel-item\"><div class=\"sk-item\"><div class=\"sk-label-container\"><div class=\"sk-label sk-toggleable\"><input class=\"sk-toggleable__control sk-hidden--visually\" id=\"sk-estimator-id-5\" type=\"checkbox\" ><label for=\"sk-estimator-id-5\" class=\"sk-toggleable__label sk-toggleable__label-arrow\">estimator: XGBClassifier</label><div class=\"sk-toggleable__content\"><pre>XGBClassifier(base_score=None, booster=None, callbacks=None,\n",
       "              colsample_bylevel=None, colsample_bynode=None,\n",
       "              colsample_bytree=None, early_stopping_rounds=None,\n",
       "              enable_categorical=False, eval_metric=None, feature_types=None,\n",
       "              gamma=None, gpu_id=None, grow_policy=None, importance_type=None,\n",
       "              interaction_constraints=None, learning_rate=None, max_bin=None,\n",
       "              max_cat_threshold=None, max_cat_to_onehot=None,\n",
       "              max_delta_step=None, max_depth=None, max_leaves=None,\n",
       "              min_child_weight=None, missing=nan, monotone_constraints=None,\n",
       "              n_estimators=100, n_jobs=None, num_parallel_tree=None,\n",
       "              predictor=None, random_state=101, ...)</pre></div></div></div><div class=\"sk-serial\"><div class=\"sk-item\"><div class=\"sk-estimator sk-toggleable\"><input class=\"sk-toggleable__control sk-hidden--visually\" id=\"sk-estimator-id-6\" type=\"checkbox\" ><label for=\"sk-estimator-id-6\" class=\"sk-toggleable__label sk-toggleable__label-arrow\">XGBClassifier</label><div class=\"sk-toggleable__content\"><pre>XGBClassifier(base_score=None, booster=None, callbacks=None,\n",
       "              colsample_bylevel=None, colsample_bynode=None,\n",
       "              colsample_bytree=None, early_stopping_rounds=None,\n",
       "              enable_categorical=False, eval_metric=None, feature_types=None,\n",
       "              gamma=None, gpu_id=None, grow_policy=None, importance_type=None,\n",
       "              interaction_constraints=None, learning_rate=None, max_bin=None,\n",
       "              max_cat_threshold=None, max_cat_to_onehot=None,\n",
       "              max_delta_step=None, max_depth=None, max_leaves=None,\n",
       "              min_child_weight=None, missing=nan, monotone_constraints=None,\n",
       "              n_estimators=100, n_jobs=None, num_parallel_tree=None,\n",
       "              predictor=None, random_state=101, ...)</pre></div></div></div></div></div></div></div></div></div></div>"
      ],
      "text/plain": [
       "GridSearchCV(estimator=XGBClassifier(base_score=None, booster=None,\n",
       "                                     callbacks=None, colsample_bylevel=None,\n",
       "                                     colsample_bynode=None,\n",
       "                                     colsample_bytree=None,\n",
       "                                     early_stopping_rounds=None,\n",
       "                                     enable_categorical=False, eval_metric=None,\n",
       "                                     feature_types=None, gamma=None,\n",
       "                                     gpu_id=None, grow_policy=None,\n",
       "                                     importance_type=None,\n",
       "                                     interaction_constraints=None,\n",
       "                                     learning_rate=None, max_b...\n",
       "                                     max_cat_to_onehot=None,\n",
       "                                     max_delta_step=None, max_depth=None,\n",
       "                                     max_leaves=None, min_child_weight=None,\n",
       "                                     missing=nan, monotone_constraints=None,\n",
       "                                     n_estimators=100, n_jobs=None,\n",
       "                                     num_parallel_tree=None, predictor=None,\n",
       "                                     random_state=101, ...),\n",
       "             param_grid={'colsample_bytree': [0.3, 0.7],\n",
       "                         'learning_rate': [0.01, 0.05, 0.1],\n",
       "                         'max_depth': [3, 6, 10],\n",
       "                         'n_estimators': [100, 500, 1000]},\n",
       "             scoring='f1', verbose=1)"
      ]
     },
     "execution_count": 85,
     "metadata": {},
     "output_type": "execute_result"
    }
   ],
   "source": [
    "# Fit random hyperparameter search model\n",
    "xg_hpt.fit(X_train_sm, y_train_sm_enc)"
   ]
  },
  {
   "cell_type": "code",
   "execution_count": 86,
   "id": "d30f45b9",
   "metadata": {},
   "outputs": [
    {
     "name": "stdout",
     "output_type": "stream",
     "text": [
      "Best: 0.945410 using {'colsample_bytree': 0.7, 'learning_rate': 0.1, 'max_depth': 10, 'n_estimators': 1000}\n"
     ]
    }
   ],
   "source": [
    "# summarize results\n",
    "print(\"Best: %f using %s\" % (xg_hpt.best_score_, xg_hpt.best_params_))"
   ]
  },
  {
   "cell_type": "code",
   "execution_count": 87,
   "id": "e5f52d0c",
   "metadata": {},
   "outputs": [
    {
     "name": "stdout",
     "output_type": "stream",
     "text": [
      "Visualize the Confusion Matrix with a Heatmap\n",
      "---------------------------------------------\n"
     ]
    },
    {
     "data": {
      "image/png": "[encoded data removed]",
      "text/plain": [
       "<Figure size 432x432 with 1 Axes>"
      ]
     },
     "metadata": {
      "needs_background": "light"
     },
     "output_type": "display_data"
    }
   ],
   "source": [
    "# Get the scores of the tuned model\n",
    "xg_tuned_metrics = evaluate_model(xg_hpt, X_test, y_test_enc)"
   ]
  },
  {
   "cell_type": "code",
   "execution_count": 88,
   "id": "5e760392",
   "metadata": {},
   "outputs": [
    {
     "data": {
      "text/html": [
       "<div>\n",
       "<style scoped>\n",
       "    .dataframe tbody tr th:only-of-type {\n",
       "        vertical-align: middle;\n",
       "    }\n",
       "\n",
       "    .dataframe tbody tr th {\n",
       "        vertical-align: top;\n",
       "    }\n",
       "\n",
       "    .dataframe thead th {\n",
       "        text-align: right;\n",
       "    }\n",
       "</style>\n",
       "<table border=\"1\" class=\"dataframe\">\n",
       "  <thead>\n",
       "    <tr style=\"text-align: right;\">\n",
       "      <th></th>\n",
       "      <th>Metrics</th>\n",
       "      <th>XG Base Model</th>\n",
       "      <th>XG Tuned Model</th>\n",
       "    </tr>\n",
       "  </thead>\n",
       "  <tbody>\n",
       "    <tr>\n",
       "      <th>0</th>\n",
       "      <td>Accuracy</td>\n",
       "      <td>0.88</td>\n",
       "      <td>0.91</td>\n",
       "    </tr>\n",
       "    <tr>\n",
       "      <th>1</th>\n",
       "      <td>Recall</td>\n",
       "      <td>0.92</td>\n",
       "      <td>0.95</td>\n",
       "    </tr>\n",
       "    <tr>\n",
       "      <th>2</th>\n",
       "      <td>Precision</td>\n",
       "      <td>0.94</td>\n",
       "      <td>0.94</td>\n",
       "    </tr>\n",
       "    <tr>\n",
       "      <th>3</th>\n",
       "      <td>F1 Score</td>\n",
       "      <td>0.93</td>\n",
       "      <td>0.94</td>\n",
       "    </tr>\n",
       "  </tbody>\n",
       "</table>\n",
       "</div>"
      ],
      "text/plain": [
       "     Metrics  XG Base Model  XG Tuned Model\n",
       "0   Accuracy           0.88            0.91\n",
       "1     Recall           0.92            0.95\n",
       "2  Precision           0.94            0.94\n",
       "3   F1 Score           0.93            0.94"
      ]
     },
     "execution_count": 88,
     "metadata": {},
     "output_type": "execute_result"
    }
   ],
   "source": [
    "# Printing the scores of the base model as reference\n",
    "df_xg_b_vs_ht_metrics = pd.DataFrame({'Metrics': ['Accuracy', 'Recall', 'Precision', 'F1 Score'],\n",
    "                              'XG Base Model': xg_metrics, 'XG Tuned Model': xg_tuned_metrics})\n",
    "df_xg_b_vs_ht_metrics"
   ]
  },
  {
   "cell_type": "markdown",
   "id": "c91633e6",
   "metadata": {},
   "source": [
    "Observation:\n",
    "- The **hypertuned model of XGBoost** outshines (higher accuracy & f1 score) its base counterpart."
   ]
  },
  {
   "cell_type": "markdown",
   "id": "f60dc44c",
   "metadata": {},
   "source": [
    "#### Save the Models"
   ]
  },
  {
   "cell_type": "code",
   "execution_count": 89,
   "id": "49bfc815",
   "metadata": {},
   "outputs": [],
   "source": [
    "xg_base_model = pickle.dump(xg, open('./pickle/xg_base_model.pkl', 'wb'))\n",
    "xg_tuned_model = pickle.dump(xg_hpt, open('./pickle/xg_tuned_model.pkl', 'wb'))"
   ]
  },
  {
   "cell_type": "markdown",
   "id": "591c6b2a",
   "metadata": {},
   "source": [
    "### Naive Bayes"
   ]
  },
  {
   "cell_type": "markdown",
   "id": "10e51cfe",
   "metadata": {},
   "source": [
    "#### Base Model"
   ]
  },
  {
   "cell_type": "code",
   "execution_count": 90,
   "id": "6a694d00",
   "metadata": {},
   "outputs": [
    {
     "data": {
      "text/html": [
       "<style>#sk-container-id-3 {color: black;background-color: white;}#sk-container-id-3 pre{padding: 0;}#sk-container-id-3 div.sk-toggleable {background-color: white;}#sk-container-id-3 label.sk-toggleable__label {cursor: pointer;display: block;width: 100%;margin-bottom: 0;padding: 0.3em;box-sizing: border-box;text-align: center;}#sk-container-id-3 label.sk-toggleable__label-arrow:before {content: \"▸\";float: left;margin-right: 0.25em;color: #696969;}#sk-container-id-3 label.sk-toggleable__label-arrow:hover:before {color: black;}#sk-container-id-3 div.sk-estimator:hover label.sk-toggleable__label-arrow:before {color: black;}#sk-container-id-3 div.sk-toggleable__content {max-height: 0;max-width: 0;overflow: hidden;text-align: left;background-color: #f0f8ff;}#sk-container-id-3 div.sk-toggleable__content pre {margin: 0.2em;color: black;border-radius: 0.25em;background-color: #f0f8ff;}#sk-container-id-3 input.sk-toggleable__control:checked~div.sk-toggleable__content {max-height: 200px;max-width: 100%;overflow: auto;}#sk-container-id-3 input.sk-toggleable__control:checked~label.sk-toggleable__label-arrow:before {content: \"▾\";}#sk-container-id-3 div.sk-estimator input.sk-toggleable__control:checked~label.sk-toggleable__label {background-color: #d4ebff;}#sk-container-id-3 div.sk-label input.sk-toggleable__control:checked~label.sk-toggleable__label {background-color: #d4ebff;}#sk-container-id-3 input.sk-hidden--visually {border: 0;clip: rect(1px 1px 1px 1px);clip: rect(1px, 1px, 1px, 1px);height: 1px;margin: -1px;overflow: hidden;padding: 0;position: absolute;width: 1px;}#sk-container-id-3 div.sk-estimator {font-family: monospace;background-color: #f0f8ff;border: 1px dotted black;border-radius: 0.25em;box-sizing: border-box;margin-bottom: 0.5em;}#sk-container-id-3 div.sk-estimator:hover {background-color: #d4ebff;}#sk-container-id-3 div.sk-parallel-item::after {content: \"\";width: 100%;border-bottom: 1px solid gray;flex-grow: 1;}#sk-container-id-3 div.sk-label:hover label.sk-toggleable__label {background-color: #d4ebff;}#sk-container-id-3 div.sk-serial::before {content: \"\";position: absolute;border-left: 1px solid gray;box-sizing: border-box;top: 0;bottom: 0;left: 50%;z-index: 0;}#sk-container-id-3 div.sk-serial {display: flex;flex-direction: column;align-items: center;background-color: white;padding-right: 0.2em;padding-left: 0.2em;position: relative;}#sk-container-id-3 div.sk-item {position: relative;z-index: 1;}#sk-container-id-3 div.sk-parallel {display: flex;align-items: stretch;justify-content: center;background-color: white;position: relative;}#sk-container-id-3 div.sk-item::before, #sk-container-id-3 div.sk-parallel-item::before {content: \"\";position: absolute;border-left: 1px solid gray;box-sizing: border-box;top: 0;bottom: 0;left: 50%;z-index: -1;}#sk-container-id-3 div.sk-parallel-item {display: flex;flex-direction: column;z-index: 1;position: relative;background-color: white;}#sk-container-id-3 div.sk-parallel-item:first-child::after {align-self: flex-end;width: 50%;}#sk-container-id-3 div.sk-parallel-item:last-child::after {align-self: flex-start;width: 50%;}#sk-container-id-3 div.sk-parallel-item:only-child::after {width: 0;}#sk-container-id-3 div.sk-dashed-wrapped {border: 1px dashed gray;margin: 0 0.4em 0.5em 0.4em;box-sizing: border-box;padding-bottom: 0.4em;background-color: white;}#sk-container-id-3 div.sk-label label {font-family: monospace;font-weight: bold;display: inline-block;line-height: 1.2em;}#sk-container-id-3 div.sk-label-container {text-align: center;}#sk-container-id-3 div.sk-container {/* jupyter's `normalize.less` sets `[hidden] { display: none; }` but bootstrap.min.css set `[hidden] { display: none !important; }` so we also need the `!important` here to be able to override the default hidden behavior on the sphinx rendered scikit-learn.org. See: https://github.com/scikit-learn/scikit-learn/issues/21755 */display: inline-block !important;position: relative;}#sk-container-id-3 div.sk-text-repr-fallback {display: none;}</style><div id=\"sk-container-id-3\" class=\"sk-top-container\"><div class=\"sk-text-repr-fallback\"><pre>MultinomialNB()</pre><b>In a Jupyter environment, please rerun this cell to show the HTML representation or trust the notebook. <br />On GitHub, the HTML representation is unable to render, please try loading this page with nbviewer.org.</b></div><div class=\"sk-container\" hidden><div class=\"sk-item\"><div class=\"sk-estimator sk-toggleable\"><input class=\"sk-toggleable__control sk-hidden--visually\" id=\"sk-estimator-id-7\" type=\"checkbox\" checked><label for=\"sk-estimator-id-7\" class=\"sk-toggleable__label sk-toggleable__label-arrow\">MultinomialNB</label><div class=\"sk-toggleable__content\"><pre>MultinomialNB()</pre></div></div></div></div></div>"
      ],
      "text/plain": [
       "MultinomialNB()"
      ]
     },
     "execution_count": 90,
     "metadata": {},
     "output_type": "execute_result"
    }
   ],
   "source": [
    "from sklearn.naive_bayes import MultinomialNB\n",
    "# instantiate NB class\n",
    "mnb=MultinomialNB()\n",
    "# fitting the model on training data\n",
    "mnb.fit(X_train_sm, y_train_sm)"
   ]
  },
  {
   "cell_type": "code",
   "execution_count": 91,
   "id": "32993b33",
   "metadata": {},
   "outputs": [
    {
     "name": "stdout",
     "output_type": "stream",
     "text": [
      "Visualize the Confusion Matrix with a Heatmap\n",
      "---------------------------------------------\n"
     ]
    },
    {
     "data": {
      "image/png": "[encoded data removed]",
      "text/plain": [
       "<Figure size 432x432 with 1 Axes>"
      ]
     },
     "metadata": {
      "needs_background": "light"
     },
     "output_type": "display_data"
    }
   ],
   "source": [
    "mnb_metrics = evaluate_model(mnb, X_test, y_test)"
   ]
  },
  {
   "cell_type": "code",
   "execution_count": 92,
   "id": "94ef803c",
   "metadata": {},
   "outputs": [
    {
     "data": {
      "text/html": [
       "<div>\n",
       "<style scoped>\n",
       "    .dataframe tbody tr th:only-of-type {\n",
       "        vertical-align: middle;\n",
       "    }\n",
       "\n",
       "    .dataframe tbody tr th {\n",
       "        vertical-align: top;\n",
       "    }\n",
       "\n",
       "    .dataframe thead th {\n",
       "        text-align: right;\n",
       "    }\n",
       "</style>\n",
       "<table border=\"1\" class=\"dataframe\">\n",
       "  <thead>\n",
       "    <tr style=\"text-align: right;\">\n",
       "      <th></th>\n",
       "      <th>Metrics</th>\n",
       "      <th>Naive Bayes - Base Model</th>\n",
       "    </tr>\n",
       "  </thead>\n",
       "  <tbody>\n",
       "    <tr>\n",
       "      <th>0</th>\n",
       "      <td>Accuracy</td>\n",
       "      <td>0.83</td>\n",
       "    </tr>\n",
       "    <tr>\n",
       "      <th>1</th>\n",
       "      <td>Recall</td>\n",
       "      <td>0.85</td>\n",
       "    </tr>\n",
       "    <tr>\n",
       "      <th>2</th>\n",
       "      <td>Precision</td>\n",
       "      <td>0.95</td>\n",
       "    </tr>\n",
       "    <tr>\n",
       "      <th>3</th>\n",
       "      <td>F1 Score</td>\n",
       "      <td>0.90</td>\n",
       "    </tr>\n",
       "  </tbody>\n",
       "</table>\n",
       "</div>"
      ],
      "text/plain": [
       "     Metrics  Naive Bayes - Base Model\n",
       "0   Accuracy                      0.83\n",
       "1     Recall                      0.85\n",
       "2  Precision                      0.95\n",
       "3   F1 Score                      0.90"
      ]
     },
     "execution_count": 92,
     "metadata": {},
     "output_type": "execute_result"
    }
   ],
   "source": [
    "# Print the scores of the base model\n",
    "df_mnb_metrics = pd.DataFrame({'Metrics': [\n",
    "                              'Accuracy', 'Recall', 'Precision', 'F1 Score'], 'Naive Bayes - Base Model': mnb_metrics})\n",
    "df_mnb_metrics"
   ]
  },
  {
   "cell_type": "markdown",
   "id": "c6b82942",
   "metadata": {},
   "source": [
    "### Select the best model for sentiment classification"
   ]
  },
  {
   "cell_type": "code",
   "execution_count": 93,
   "id": "f3402cb4",
   "metadata": {},
   "outputs": [
    {
     "data": {
      "text/html": [
       "<div>\n",
       "<style scoped>\n",
       "    .dataframe tbody tr th:only-of-type {\n",
       "        vertical-align: middle;\n",
       "    }\n",
       "\n",
       "    .dataframe tbody tr th {\n",
       "        vertical-align: top;\n",
       "    }\n",
       "\n",
       "    .dataframe thead th {\n",
       "        text-align: right;\n",
       "    }\n",
       "</style>\n",
       "<table border=\"1\" class=\"dataframe\">\n",
       "  <thead>\n",
       "    <tr style=\"text-align: right;\">\n",
       "      <th></th>\n",
       "      <th>Metrics</th>\n",
       "      <th>LR Base Model</th>\n",
       "      <th>LR Tuned Model</th>\n",
       "      <th>RF Base Model</th>\n",
       "      <th>RF Tuned Model</th>\n",
       "      <th>XG Base Model</th>\n",
       "      <th>XG Tuned Model</th>\n",
       "      <th>Naive Bayes Model</th>\n",
       "    </tr>\n",
       "  </thead>\n",
       "  <tbody>\n",
       "    <tr>\n",
       "      <th>0</th>\n",
       "      <td>Accuracy</td>\n",
       "      <td>0.87</td>\n",
       "      <td>0.89</td>\n",
       "      <td>0.91</td>\n",
       "      <td>0.84</td>\n",
       "      <td>0.88</td>\n",
       "      <td>0.91</td>\n",
       "      <td>0.83</td>\n",
       "    </tr>\n",
       "    <tr>\n",
       "      <th>1</th>\n",
       "      <td>Recall</td>\n",
       "      <td>0.88</td>\n",
       "      <td>0.93</td>\n",
       "      <td>0.97</td>\n",
       "      <td>0.87</td>\n",
       "      <td>0.92</td>\n",
       "      <td>0.95</td>\n",
       "      <td>0.85</td>\n",
       "    </tr>\n",
       "    <tr>\n",
       "      <th>2</th>\n",
       "      <td>Precision</td>\n",
       "      <td>0.96</td>\n",
       "      <td>0.95</td>\n",
       "      <td>0.93</td>\n",
       "      <td>0.95</td>\n",
       "      <td>0.94</td>\n",
       "      <td>0.94</td>\n",
       "      <td>0.95</td>\n",
       "    </tr>\n",
       "    <tr>\n",
       "      <th>3</th>\n",
       "      <td>F1 Score</td>\n",
       "      <td>0.92</td>\n",
       "      <td>0.94</td>\n",
       "      <td>0.95</td>\n",
       "      <td>0.91</td>\n",
       "      <td>0.93</td>\n",
       "      <td>0.94</td>\n",
       "      <td>0.90</td>\n",
       "    </tr>\n",
       "  </tbody>\n",
       "</table>\n",
       "</div>"
      ],
      "text/plain": [
       "     Metrics  LR Base Model  LR Tuned Model  RF Base Model  RF Tuned Model   \n",
       "0   Accuracy           0.87            0.89           0.91            0.84  \\\n",
       "1     Recall           0.88            0.93           0.97            0.87   \n",
       "2  Precision           0.96            0.95           0.93            0.95   \n",
       "3   F1 Score           0.92            0.94           0.95            0.91   \n",
       "\n",
       "   XG Base Model  XG Tuned Model  Naive Bayes Model  \n",
       "0           0.88            0.91               0.83  \n",
       "1           0.92            0.95               0.85  \n",
       "2           0.94            0.94               0.95  \n",
       "3           0.93            0.94               0.90  "
      ]
     },
     "execution_count": 93,
     "metadata": {},
     "output_type": "execute_result"
    }
   ],
   "source": [
    "# Print the score cards for all the 3 Models (both base and hyper-tuned scores)\n",
    "df_bt_metrics = pd.DataFrame({'Metrics': ['Accuracy', 'Recall', 'Precision', 'F1 Score'],\n",
    "                              'LR Base Model': logreg_metrics, 'LR Tuned Model': logreg_tuned_metrics,\n",
    "                              'RF Base Model': rf_metrics, 'RF Tuned Model': rf_tuned_metrics,\n",
    "                              'XG Base Model': xg_metrics, 'XG Tuned Model': xg_tuned_metrics, \n",
    "                              'Naive Bayes Model': mnb_metrics})\n",
    "df_bt_metrics"
   ]
  },
  {
   "cell_type": "markdown",
   "id": "e43c2721",
   "metadata": {},
   "source": [
    "Observation:\n",
    "- As **Random Forest - Base Model** has the highest **F1 score of 0.95** across all models, I choose this as the best model for sentiment classification. "
   ]
  },
  {
   "cell_type": "markdown",
   "id": "05259f8d",
   "metadata": {},
   "source": [
    "#### Save the Model"
   ]
  },
  {
   "cell_type": "code",
   "execution_count": 121,
   "id": "d5b82d7c",
   "metadata": {},
   "outputs": [],
   "source": [
    "# Save the base random forest model as the best sentiment model\n",
    "import bz2\n",
    "best_sentiment_model = rf\n",
    "with bz2.BZ2File('./models/best_sentiment_model.pbz2', 'w') as f:\n",
    "    pickle.dump(rf, f)"
   ]
  },
  {
   "cell_type": "markdown",
   "id": "1b2278e3",
   "metadata": {},
   "source": [
    "# Building a Recommendation System"
   ]
  },
  {
   "cell_type": "markdown",
   "id": "a4cd351c",
   "metadata": {},
   "source": [
    ">1. Build the below 2 recommendation systems (using Collaborative Filtering):\n",
    "    >  - User-based recommendation system\n",
    "    >  - Item-based recommendation system\n",
    ">2. Select the best-suited recommendation system of the 2 and use it recommend the top 20 products that a user is most likely to purchase based on the ratings."
   ]
  },
  {
   "cell_type": "markdown",
   "id": "3de76d8f",
   "metadata": {},
   "source": [
    "### Import data"
   ]
  },
  {
   "cell_type": "code",
   "execution_count": 96,
   "id": "ab191bda",
   "metadata": {},
   "outputs": [],
   "source": [
    "df_recomm = pd.read_csv(\"sample30.csv\")"
   ]
  },
  {
   "cell_type": "code",
   "execution_count": 97,
   "id": "ade38d2e",
   "metadata": {},
   "outputs": [
    {
     "data": {
      "text/plain": [
       "(30000, 15)"
      ]
     },
     "execution_count": 97,
     "metadata": {},
     "output_type": "execute_result"
    }
   ],
   "source": [
    "df_recomm.shape"
   ]
  },
  {
   "cell_type": "code",
   "execution_count": 98,
   "id": "9788522f",
   "metadata": {},
   "outputs": [
    {
     "data": {
      "text/html": [
       "<div>\n",
       "<style scoped>\n",
       "    .dataframe tbody tr th:only-of-type {\n",
       "        vertical-align: middle;\n",
       "    }\n",
       "\n",
       "    .dataframe tbody tr th {\n",
       "        vertical-align: top;\n",
       "    }\n",
       "\n",
       "    .dataframe thead th {\n",
       "        text-align: right;\n",
       "    }\n",
       "</style>\n",
       "<table border=\"1\" class=\"dataframe\">\n",
       "  <thead>\n",
       "    <tr style=\"text-align: right;\">\n",
       "      <th></th>\n",
       "      <th>id</th>\n",
       "      <th>name</th>\n",
       "      <th>reviews_rating</th>\n",
       "      <th>reviews_username</th>\n",
       "    </tr>\n",
       "  </thead>\n",
       "  <tbody>\n",
       "    <tr>\n",
       "      <th>11234</th>\n",
       "      <td>AVpf3VOfilAPnD_xjpun</td>\n",
       "      <td>Clorox Disinfecting Wipes Value Pack Scented 1...</td>\n",
       "      <td>5</td>\n",
       "      <td>janny4</td>\n",
       "    </tr>\n",
       "    <tr>\n",
       "      <th>6465</th>\n",
       "      <td>AVpf3okQLJeJML43FMif</td>\n",
       "      <td>Tai Pei Sweet &amp; Sour Chicken</td>\n",
       "      <td>4</td>\n",
       "      <td>ladymsdre</td>\n",
       "    </tr>\n",
       "    <tr>\n",
       "      <th>342</th>\n",
       "      <td>AV1l8zRZvKc47QAVhnAv</td>\n",
       "      <td>Olay Regenerist Deep Hydration Regenerating Cream</td>\n",
       "      <td>5</td>\n",
       "      <td>babbs</td>\n",
       "    </tr>\n",
       "    <tr>\n",
       "      <th>24216</th>\n",
       "      <td>AVpfPaoqLJeJML435Xk9</td>\n",
       "      <td>Godzilla 3d Includes Digital Copy Ultraviolet ...</td>\n",
       "      <td>4</td>\n",
       "      <td>bricommack</td>\n",
       "    </tr>\n",
       "    <tr>\n",
       "      <th>9009</th>\n",
       "      <td>AVpf3VOfilAPnD_xjpun</td>\n",
       "      <td>Clorox Disinfecting Wipes Value Pack Scented 1...</td>\n",
       "      <td>5</td>\n",
       "      <td>candy1</td>\n",
       "    </tr>\n",
       "  </tbody>\n",
       "</table>\n",
       "</div>"
      ],
      "text/plain": [
       "                         id   \n",
       "11234  AVpf3VOfilAPnD_xjpun  \\\n",
       "6465   AVpf3okQLJeJML43FMif   \n",
       "342    AV1l8zRZvKc47QAVhnAv   \n",
       "24216  AVpfPaoqLJeJML435Xk9   \n",
       "9009   AVpf3VOfilAPnD_xjpun   \n",
       "\n",
       "                                                    name  reviews_rating   \n",
       "11234  Clorox Disinfecting Wipes Value Pack Scented 1...               5  \\\n",
       "6465                        Tai Pei Sweet & Sour Chicken               4   \n",
       "342    Olay Regenerist Deep Hydration Regenerating Cream               5   \n",
       "24216  Godzilla 3d Includes Digital Copy Ultraviolet ...               4   \n",
       "9009   Clorox Disinfecting Wipes Value Pack Scented 1...               5   \n",
       "\n",
       "      reviews_username  \n",
       "11234           janny4  \n",
       "6465         ladymsdre  \n",
       "342              babbs  \n",
       "24216       bricommack  \n",
       "9009            candy1  "
      ]
     },
     "execution_count": 98,
     "metadata": {},
     "output_type": "execute_result"
    }
   ],
   "source": [
    "# I only need columns related to determining the rating of a user\n",
    "df_recomm = df_recomm[[\"id\", \"name\", \"reviews_rating\", \"reviews_username\"]]\n",
    "df_recomm.sample(5)"
   ]
  },
  {
   "cell_type": "code",
   "execution_count": 99,
   "id": "acb7ac7e",
   "metadata": {},
   "outputs": [
    {
     "data": {
      "text/plain": [
       "(30000, 4)"
      ]
     },
     "execution_count": 99,
     "metadata": {},
     "output_type": "execute_result"
    }
   ],
   "source": [
    "df_recomm.shape"
   ]
  },
  {
   "cell_type": "markdown",
   "id": "1ed64771",
   "metadata": {},
   "source": [
    "### Handle Missing Values"
   ]
  },
  {
   "cell_type": "code",
   "execution_count": 100,
   "id": "4dfa123e",
   "metadata": {},
   "outputs": [
    {
     "data": {
      "text/plain": [
       "reviews_username    0.21\n",
       "id                  0.00\n",
       "name                0.00\n",
       "reviews_rating      0.00\n",
       "dtype: float64"
      ]
     },
     "execution_count": 100,
     "metadata": {},
     "output_type": "execute_result"
    }
   ],
   "source": [
    "df_recomm.isna().mean().round(4).mul(100).sort_values(ascending=False)"
   ]
  },
  {
   "cell_type": "code",
   "execution_count": 101,
   "id": "fe31bddf",
   "metadata": {},
   "outputs": [],
   "source": [
    "# Remove the rows with missing reviews_username values\n",
    "df_recomm.dropna(subset=['reviews_username'], inplace=True)"
   ]
  },
  {
   "cell_type": "code",
   "execution_count": 102,
   "id": "6c727ab9",
   "metadata": {},
   "outputs": [
    {
     "data": {
      "text/plain": [
       "(29937, 4)"
      ]
     },
     "execution_count": 102,
     "metadata": {},
     "output_type": "execute_result"
    }
   ],
   "source": [
    "df_recomm.shape"
   ]
  },
  {
   "cell_type": "markdown",
   "id": "721dfc63",
   "metadata": {},
   "source": [
    "#### Split train-test"
   ]
  },
  {
   "cell_type": "code",
   "execution_count": 103,
   "id": "c9d7cf45",
   "metadata": {},
   "outputs": [],
   "source": [
    "train, test = train_test_split(df_recomm, test_size=0.25, random_state=42)"
   ]
  },
  {
   "cell_type": "markdown",
   "id": "3d3eaebb",
   "metadata": {},
   "source": [
    "### Calculate Similarity between Users & predict the ratings"
   ]
  },
  {
   "cell_type": "markdown",
   "id": "f9bb7cbc",
   "metadata": {},
   "source": [
    "Observation:\n",
    "- I could use either **cosime similarity** or **adjusted cosine similarity** for calculating distance between the vectors. \n",
    "- As different users have different ratings preferences, in *adjusted cosine similarity*, I normalize the ratings before calculating the similarity.\n",
    "- However during the trial runs it was observed that when using **adjusted cosine similarity**, for many users, the similarity scores were turning up 0 resulting in poor predictions (you can see an example below). Hence, for better predictions, I'm going to stick with ***cosine similarity*** to predict ratings."
   ]
  },
  {
   "cell_type": "markdown",
   "id": "60de2b53",
   "metadata": {},
   "source": [
    "### User-based Collaborative Filtering"
   ]
  },
  {
   "cell_type": "code",
   "execution_count": 104,
   "id": "d294d971",
   "metadata": {},
   "outputs": [],
   "source": [
    "def create_dummy_train(train):\n",
    "    # Copy the train dataset into dummy_train\n",
    "    dummy_train = train.copy()\n",
    "    # Set 0 for ratings of products already rated by the user and 1 for unrated goods \n",
    "    dummy_train['reviews_rating'] = dummy_train['reviews_rating'].apply(lambda x: 0 if x>=1 else 1)\n",
    "    # Group reviews by Id\n",
    "    # Convert the dummy train dataset into matrix format.\n",
    "    dummy_train = dummy_train.pivot_table(\n",
    "        index='reviews_username',\n",
    "        columns='id',\n",
    "        values='reviews_rating'\n",
    "    ).fillna(1)\n",
    "    return dummy_train\n",
    "\n",
    "# Cosine Similarity\n",
    "def calculate_cosine_similarity(train):\n",
    "    # Pivot the train ratings dataset into matrix format in which columns are Products and the rows are usernames\n",
    "    df_pivot_cos = train.pivot_table(\n",
    "        index='reviews_username',\n",
    "        columns='id',\n",
    "        values='reviews_rating'\n",
    "    ).fillna(0)\n",
    "\n",
    "    # Use cosine similarity function to compute the distance.\n",
    "    user_correlation_cos = cosine_similarity(df_pivot_cos)\n",
    "    user_correlation_cos[np.isnan(user_correlation_cos)] = 0\n",
    "    return df_pivot_cos, user_correlation_cos\n",
    "\n",
    "# Adjusted Cosine Similarity\n",
    "def calculate_adjusted_cosine_similarity(train):\n",
    "    # Create a user-review matrix for adjusted cosine similarity\n",
    "    df_pivot_adj_cos = train.pivot_table(\n",
    "        index='reviews_username',\n",
    "        columns='id',\n",
    "        values='reviews_rating'\n",
    "    )\n",
    "    # Normalize the rating before computing the similarity\n",
    "    # Calculate average ratings for each user\n",
    "    mean = np.nanmean(df_pivot_adj_cos, axis=1)\n",
    "    df_subtracted = (df_pivot_adj_cos.T-mean).T\n",
    "    df_subtracted = df_subtracted.astype('float16')\n",
    " \n",
    "    # Converting to float16 array to avoid Memory allocation issue\n",
    "    # Deduct the pairwise_distances from 1 to return the similarities\n",
    "    user_correlation_adj = 1 - np.float16(pairwise_distances(df_subtracted.fillna(0), metric='cosine'))\n",
    "    user_correlation_adj[np.isnan(user_correlation_adj)] = 0\n",
    "    return df_pivot_adj_cos, user_correlation_adj\n",
    "\n",
    "def calculate_weighted_avg(user_correlation, df_pivot):\n",
    "    dummy_train = create_dummy_train(train)\n",
    "    # Set correlation for user_correlation < 0 to 0.\n",
    "    user_correlation[user_correlation<0]=0\n",
    "    # Calculate the weighted average of the ratings given to products (rated & not rated by the user) by the peer users\n",
    "    user_predicted_ratings = np.dot(user_correlation, np.float16(df_pivot.fillna(0)))\n",
    "    # Calculate the weighted average of the ratings given to products (NOT rated by the user) by the peer users\n",
    "    user_final_rating = np.multiply(user_predicted_ratings, dummy_train)\n",
    "    return user_final_rating\n",
    "\n",
    "def calculate_similarity_scores(similarity_type, train):\n",
    "    if similarity_type == 'cosine similarity':\n",
    "#     if similarity_type == 'cosine_similarity':\n",
    "        df_pivot, user_correlation = calculate_cosine_similarity(train)\n",
    "    else:\n",
    "        df_pivot, user_correlation = calculate_adjusted_cosine_similarity(train)\n",
    "    return df_pivot, user_correlation\n",
    "\n",
    "def recommend_top_20_products(user_input, user_final_rating, df_recomm, train):\n",
    "#     # Calculate similarity\n",
    "#     user_final_rating = calculate_similarity_scores(\n",
    "#         similarity_type, train)\n",
    "    top20_recommendations = user_final_rating.loc[user_input].sort_values(\n",
    "        ascending=False)[0:20]\n",
    "    df_top20_recommendations = pd.DataFrame(\n",
    "        {'id': top20_recommendations.index, 'Similarity Score': top20_recommendations})\n",
    "    df_top20_recommendations.reset_index(drop=True, inplace=True)\n",
    "    # Merge id with product name\n",
    "    top20_rec = pd.merge(df_recomm, df_top20_recommendations, left_on='id', right_on='id', how='inner')[\n",
    "        ['id', 'name', 'Similarity Score']].drop_duplicates()\n",
    "    top20_rec.reset_index(drop=True, inplace=True)\n",
    "    top20_rec.sort_values(by='Similarity Score', ascending=False, inplace=True)\n",
    "    return user_final_rating, top20_rec"
   ]
  },
  {
   "cell_type": "markdown",
   "id": "d1bfd2fc",
   "metadata": {},
   "source": [
    "NOTE: Some of the arrays were converted to **float16** array to avoid the recurring Memory allocation issue."
   ]
  },
  {
   "cell_type": "markdown",
   "id": "1de936ca",
   "metadata": {},
   "source": [
    "#### User 1 (adjusted cosine similarity)"
   ]
  },
  {
   "cell_type": "code",
   "execution_count": 105,
   "id": "01099e36",
   "metadata": {},
   "outputs": [
    {
     "data": {
      "text/html": [
       "<div>\n",
       "<style scoped>\n",
       "    .dataframe tbody tr th:only-of-type {\n",
       "        vertical-align: middle;\n",
       "    }\n",
       "\n",
       "    .dataframe tbody tr th {\n",
       "        vertical-align: top;\n",
       "    }\n",
       "\n",
       "    .dataframe thead th {\n",
       "        text-align: right;\n",
       "    }\n",
       "</style>\n",
       "<table border=\"1\" class=\"dataframe\">\n",
       "  <thead>\n",
       "    <tr style=\"text-align: right;\">\n",
       "      <th></th>\n",
       "      <th>id</th>\n",
       "      <th>name</th>\n",
       "      <th>Similarity Score</th>\n",
       "    </tr>\n",
       "  </thead>\n",
       "  <tbody>\n",
       "    <tr>\n",
       "      <th>0</th>\n",
       "      <td>AV13O1A8GV-KLJ3akUyj</td>\n",
       "      <td>Pink Friday: Roman Reloaded Re-Up (w/dvd)</td>\n",
       "      <td>0.0</td>\n",
       "    </tr>\n",
       "    <tr>\n",
       "      <th>1</th>\n",
       "      <td>AVpfL-z9ilAPnD_xWzE_</td>\n",
       "      <td>Stacy's Garden Veggie Medley Pita Chips</td>\n",
       "      <td>0.0</td>\n",
       "    </tr>\n",
       "    <tr>\n",
       "      <th>18</th>\n",
       "      <td>AVpfPPkEilAPnD_xX3cP</td>\n",
       "      <td>Aveeno Baby Continuous Protection Lotion Sunsc...</td>\n",
       "      <td>0.0</td>\n",
       "    </tr>\n",
       "    <tr>\n",
       "      <th>17</th>\n",
       "      <td>AVpfPKzxLJeJML435SYL</td>\n",
       "      <td>Tim Holtz Retractable Craft Pick-Red 6x.5</td>\n",
       "      <td>0.0</td>\n",
       "    </tr>\n",
       "    <tr>\n",
       "      <th>16</th>\n",
       "      <td>AVpfPjqKLJeJML435aZR</td>\n",
       "      <td>Voortman Sugar Free Fudge Chocolate Chip Cookies</td>\n",
       "      <td>0.0</td>\n",
       "    </tr>\n",
       "    <tr>\n",
       "      <th>15</th>\n",
       "      <td>AVpfPaoqLJeJML435Xk9</td>\n",
       "      <td>Godzilla 3d Includes Digital Copy Ultraviolet ...</td>\n",
       "      <td>0.0</td>\n",
       "    </tr>\n",
       "    <tr>\n",
       "      <th>14</th>\n",
       "      <td>AVpfOrD0ilAPnD_xXrRj</td>\n",
       "      <td>Progresso Traditional Chicken Rice With Vegeta...</td>\n",
       "      <td>0.0</td>\n",
       "    </tr>\n",
       "    <tr>\n",
       "      <th>13</th>\n",
       "      <td>AVpfOmKwLJeJML435GM7</td>\n",
       "      <td>Clear Scalp &amp; Hair Therapy Total Care Nourishi...</td>\n",
       "      <td>0.0</td>\n",
       "    </tr>\n",
       "    <tr>\n",
       "      <th>12</th>\n",
       "      <td>AVpfOIrkilAPnD_xXgDG</td>\n",
       "      <td>Alex Cross (dvdvideo)</td>\n",
       "      <td>0.0</td>\n",
       "    </tr>\n",
       "    <tr>\n",
       "      <th>11</th>\n",
       "      <td>AVpfOfIqLJeJML435D06</td>\n",
       "      <td>Solo Foods Poppy Seed Cake and Pastry Filling</td>\n",
       "      <td>0.0</td>\n",
       "    </tr>\n",
       "    <tr>\n",
       "      <th>10</th>\n",
       "      <td>AVpfO5u71cnluZ0-guiN</td>\n",
       "      <td>Switchmas (dvd)</td>\n",
       "      <td>0.0</td>\n",
       "    </tr>\n",
       "    <tr>\n",
       "      <th>9</th>\n",
       "      <td>AVpfNWbPilAPnD_xXPR7</td>\n",
       "      <td>Pleasant Hearth 7.5 Steel Grate, 30 5 Bar - Black</td>\n",
       "      <td>0.0</td>\n",
       "    </tr>\n",
       "    <tr>\n",
       "      <th>8</th>\n",
       "      <td>AVpfNVsj1cnluZ0-gNQN</td>\n",
       "      <td>Physicians Formula Powder Palette Mineral Glow...</td>\n",
       "      <td>0.0</td>\n",
       "    </tr>\n",
       "    <tr>\n",
       "      <th>7</th>\n",
       "      <td>AVpfNglu1cnluZ0-gQ7x</td>\n",
       "      <td>Mia Shower Curtain Green/brown - Lush Decor174</td>\n",
       "      <td>0.0</td>\n",
       "    </tr>\n",
       "    <tr>\n",
       "      <th>6</th>\n",
       "      <td>AVpfNfEMLJeJML434uf-</td>\n",
       "      <td>Heiress (dvd)</td>\n",
       "      <td>0.0</td>\n",
       "    </tr>\n",
       "    <tr>\n",
       "      <th>5</th>\n",
       "      <td>AVpfNc9cLJeJML434tza</td>\n",
       "      <td>Feit 60-Watt A19 Gu24 Base Led Light Bulb - So...</td>\n",
       "      <td>0.0</td>\n",
       "    </tr>\n",
       "    <tr>\n",
       "      <th>4</th>\n",
       "      <td>AVpfN6Z71cnluZ0-gZmO</td>\n",
       "      <td>Caress Moisturizing Body Bar Natural Silk, 4.75oz</td>\n",
       "      <td>0.0</td>\n",
       "    </tr>\n",
       "    <tr>\n",
       "      <th>3</th>\n",
       "      <td>AVpfMpZ51cnluZ0-f_L9</td>\n",
       "      <td>Chips Ahoy! Original Chocolate Chip - Cookies ...</td>\n",
       "      <td>0.0</td>\n",
       "    </tr>\n",
       "    <tr>\n",
       "      <th>2</th>\n",
       "      <td>AVpfM_ytilAPnD_xXIJb</td>\n",
       "      <td>Tostitos Bite Size Tortilla Chips</td>\n",
       "      <td>0.0</td>\n",
       "    </tr>\n",
       "    <tr>\n",
       "      <th>19</th>\n",
       "      <td>AVpfP-rELJeJML435jEN</td>\n",
       "      <td>5302050 15/16 FCT/HOSE ADAPTOR</td>\n",
       "      <td>0.0</td>\n",
       "    </tr>\n",
       "  </tbody>\n",
       "</table>\n",
       "</div>"
      ],
      "text/plain": [
       "                      id                                               name   \n",
       "0   AV13O1A8GV-KLJ3akUyj          Pink Friday: Roman Reloaded Re-Up (w/dvd)  \\\n",
       "1   AVpfL-z9ilAPnD_xWzE_            Stacy's Garden Veggie Medley Pita Chips   \n",
       "18  AVpfPPkEilAPnD_xX3cP  Aveeno Baby Continuous Protection Lotion Sunsc...   \n",
       "17  AVpfPKzxLJeJML435SYL          Tim Holtz Retractable Craft Pick-Red 6x.5   \n",
       "16  AVpfPjqKLJeJML435aZR   Voortman Sugar Free Fudge Chocolate Chip Cookies   \n",
       "15  AVpfPaoqLJeJML435Xk9  Godzilla 3d Includes Digital Copy Ultraviolet ...   \n",
       "14  AVpfOrD0ilAPnD_xXrRj  Progresso Traditional Chicken Rice With Vegeta...   \n",
       "13  AVpfOmKwLJeJML435GM7  Clear Scalp & Hair Therapy Total Care Nourishi...   \n",
       "12  AVpfOIrkilAPnD_xXgDG                              Alex Cross (dvdvideo)   \n",
       "11  AVpfOfIqLJeJML435D06      Solo Foods Poppy Seed Cake and Pastry Filling   \n",
       "10  AVpfO5u71cnluZ0-guiN                                    Switchmas (dvd)   \n",
       "9   AVpfNWbPilAPnD_xXPR7  Pleasant Hearth 7.5 Steel Grate, 30 5 Bar - Black   \n",
       "8   AVpfNVsj1cnluZ0-gNQN  Physicians Formula Powder Palette Mineral Glow...   \n",
       "7   AVpfNglu1cnluZ0-gQ7x     Mia Shower Curtain Green/brown - Lush Decor174   \n",
       "6   AVpfNfEMLJeJML434uf-                                      Heiress (dvd)   \n",
       "5   AVpfNc9cLJeJML434tza  Feit 60-Watt A19 Gu24 Base Led Light Bulb - So...   \n",
       "4   AVpfN6Z71cnluZ0-gZmO  Caress Moisturizing Body Bar Natural Silk, 4.75oz   \n",
       "3   AVpfMpZ51cnluZ0-f_L9  Chips Ahoy! Original Chocolate Chip - Cookies ...   \n",
       "2   AVpfM_ytilAPnD_xXIJb                  Tostitos Bite Size Tortilla Chips   \n",
       "19  AVpfP-rELJeJML435jEN                     5302050 15/16 FCT/HOSE ADAPTOR   \n",
       "\n",
       "    Similarity Score  \n",
       "0                0.0  \n",
       "1                0.0  \n",
       "18               0.0  \n",
       "17               0.0  \n",
       "16               0.0  \n",
       "15               0.0  \n",
       "14               0.0  \n",
       "13               0.0  \n",
       "12               0.0  \n",
       "11               0.0  \n",
       "10               0.0  \n",
       "9                0.0  \n",
       "8                0.0  \n",
       "7                0.0  \n",
       "6                0.0  \n",
       "5                0.0  \n",
       "4                0.0  \n",
       "3                0.0  \n",
       "2                0.0  \n",
       "19               0.0  "
      ]
     },
     "execution_count": 105,
     "metadata": {},
     "output_type": "execute_result"
    }
   ],
   "source": [
    "# Run the user-based recommender system using adjusted cosine similarity\n",
    "user_input = 'romance318'\n",
    "similarity_type = 'adjusted'\n",
    "dummy_train = create_dummy_train(train)\n",
    "df_pivot, user_correlation = calculate_similarity_scores(similarity_type, train)\n",
    "user_final_rating = calculate_weighted_avg(user_correlation, df_pivot)\n",
    "_, top_20_recomm_df = recommend_top_20_products(user_input, user_final_rating, df_recomm, train)\n",
    "top_20_recomm_df"
   ]
  },
  {
   "cell_type": "markdown",
   "id": "922e5435",
   "metadata": {},
   "source": [
    "Observation:\n",
    "- The Similarity Score for this user is 0 when calculated using adjusted cosine similarity leading to poor predictions."
   ]
  },
  {
   "cell_type": "markdown",
   "id": "66dcc422",
   "metadata": {},
   "source": [
    "Let's try to calculate the Similarity using cosine similarity for the same user."
   ]
  },
  {
   "cell_type": "markdown",
   "id": "6a261e1f",
   "metadata": {},
   "source": [
    "#### User 1 (cosine similarity)"
   ]
  },
  {
   "cell_type": "code",
   "execution_count": 106,
   "id": "24f89dbc",
   "metadata": {},
   "outputs": [
    {
     "data": {
      "text/html": [
       "<div>\n",
       "<style scoped>\n",
       "    .dataframe tbody tr th:only-of-type {\n",
       "        vertical-align: middle;\n",
       "    }\n",
       "\n",
       "    .dataframe tbody tr th {\n",
       "        vertical-align: top;\n",
       "    }\n",
       "\n",
       "    .dataframe thead th {\n",
       "        text-align: right;\n",
       "    }\n",
       "</style>\n",
       "<table border=\"1\" class=\"dataframe\">\n",
       "  <thead>\n",
       "    <tr style=\"text-align: right;\">\n",
       "      <th></th>\n",
       "      <th>id</th>\n",
       "      <th>name</th>\n",
       "      <th>Similarity Score</th>\n",
       "    </tr>\n",
       "  </thead>\n",
       "  <tbody>\n",
       "    <tr>\n",
       "      <th>8</th>\n",
       "      <td>AVpf3VOfilAPnD_xjpun</td>\n",
       "      <td>Clorox Disinfecting Wipes Value Pack Scented 1...</td>\n",
       "      <td>9.766872</td>\n",
       "    </tr>\n",
       "    <tr>\n",
       "      <th>17</th>\n",
       "      <td>AVpfRTh1ilAPnD_xYic2</td>\n",
       "      <td>Planes: Fire Rescue (2 Discs) (includes Digita...</td>\n",
       "      <td>6.175815</td>\n",
       "    </tr>\n",
       "    <tr>\n",
       "      <th>1</th>\n",
       "      <td>AVpe41TqilAPnD_xQH3d</td>\n",
       "      <td>Mike Dave Need Wedding Dates (dvd + Digital)</td>\n",
       "      <td>4.834191</td>\n",
       "    </tr>\n",
       "    <tr>\n",
       "      <th>14</th>\n",
       "      <td>AVpfPaoqLJeJML435Xk9</td>\n",
       "      <td>Godzilla 3d Includes Digital Copy Ultraviolet ...</td>\n",
       "      <td>3.375153</td>\n",
       "    </tr>\n",
       "    <tr>\n",
       "      <th>5</th>\n",
       "      <td>AVpf0eb2LJeJML43EVSt</td>\n",
       "      <td>The Resident Evil Collection 5 Discs (blu-Ray)</td>\n",
       "      <td>3.166339</td>\n",
       "    </tr>\n",
       "    <tr>\n",
       "      <th>7</th>\n",
       "      <td>AVpf385g1cnluZ0-s0_t</td>\n",
       "      <td>Hormel Chili, No Beans</td>\n",
       "      <td>3.003422</td>\n",
       "    </tr>\n",
       "    <tr>\n",
       "      <th>15</th>\n",
       "      <td>AVpfPnrU1cnluZ0-g9rL</td>\n",
       "      <td>Stargate (ws) (ultimate Edition) (director's C...</td>\n",
       "      <td>2.630869</td>\n",
       "    </tr>\n",
       "    <tr>\n",
       "      <th>2</th>\n",
       "      <td>AVpe59io1cnluZ0-ZgDU</td>\n",
       "      <td>My Big Fat Greek Wedding 2 (blu-Ray + Dvd + Di...</td>\n",
       "      <td>2.463093</td>\n",
       "    </tr>\n",
       "    <tr>\n",
       "      <th>12</th>\n",
       "      <td>AVpfJP1C1cnluZ0-e3Xy</td>\n",
       "      <td>Clorox Disinfecting Bathroom Cleaner</td>\n",
       "      <td>2.243611</td>\n",
       "    </tr>\n",
       "    <tr>\n",
       "      <th>0</th>\n",
       "      <td>AV1Yn94nvKc47QAVgtst</td>\n",
       "      <td>CeraVe SA Renewing Cream</td>\n",
       "      <td>1.934558</td>\n",
       "    </tr>\n",
       "    <tr>\n",
       "      <th>13</th>\n",
       "      <td>AVpfOmKwLJeJML435GM7</td>\n",
       "      <td>Clear Scalp &amp; Hair Therapy Total Care Nourishi...</td>\n",
       "      <td>1.687687</td>\n",
       "    </tr>\n",
       "    <tr>\n",
       "      <th>6</th>\n",
       "      <td>AVpf0thK1cnluZ0-r8vR</td>\n",
       "      <td>100:Complete First Season (blu-Ray)</td>\n",
       "      <td>1.547646</td>\n",
       "    </tr>\n",
       "    <tr>\n",
       "      <th>16</th>\n",
       "      <td>AVpfR5m0LJeJML436K3W</td>\n",
       "      <td>Jason Aldean - They Don't Know</td>\n",
       "      <td>1.453506</td>\n",
       "    </tr>\n",
       "    <tr>\n",
       "      <th>9</th>\n",
       "      <td>AVpf4oLxLJeJML43FcxC</td>\n",
       "      <td>Avery174 Ready Index Contemporary Table Of Con...</td>\n",
       "      <td>1.421608</td>\n",
       "    </tr>\n",
       "    <tr>\n",
       "      <th>18</th>\n",
       "      <td>AVpfRYbSilAPnD_xYkD4</td>\n",
       "      <td>Shea Moisture Mango &amp; Carrot Kids Extra-Nouris...</td>\n",
       "      <td>1.125088</td>\n",
       "    </tr>\n",
       "    <tr>\n",
       "      <th>11</th>\n",
       "      <td>AVpfBU2S1cnluZ0-cJsO</td>\n",
       "      <td>Power Crunch Protein Energy Bar Peanut Butter ...</td>\n",
       "      <td>1.125088</td>\n",
       "    </tr>\n",
       "    <tr>\n",
       "      <th>4</th>\n",
       "      <td>AVpe-PJnLJeJML43ziaj</td>\n",
       "      <td>Happy Tot Apple and Butternut Squash</td>\n",
       "      <td>1.125088</td>\n",
       "    </tr>\n",
       "    <tr>\n",
       "      <th>3</th>\n",
       "      <td>AVpe9W4D1cnluZ0-avf0</td>\n",
       "      <td>Hoover174 Platinum Collection153 Lightweight B...</td>\n",
       "      <td>1.122126</td>\n",
       "    </tr>\n",
       "    <tr>\n",
       "      <th>10</th>\n",
       "      <td>AVpfazX31cnluZ0-kbdl</td>\n",
       "      <td>Just For Men Touch Of Gray Gray Hair Treatment...</td>\n",
       "      <td>0.998146</td>\n",
       "    </tr>\n",
       "    <tr>\n",
       "      <th>19</th>\n",
       "      <td>AVpfvieo1cnluZ0-qdnu</td>\n",
       "      <td>L'oreal Paris Advanced Hairstyle TXT IT Hyper-...</td>\n",
       "      <td>0.980581</td>\n",
       "    </tr>\n",
       "  </tbody>\n",
       "</table>\n",
       "</div>"
      ],
      "text/plain": [
       "                      id                                               name   \n",
       "8   AVpf3VOfilAPnD_xjpun  Clorox Disinfecting Wipes Value Pack Scented 1...  \\\n",
       "17  AVpfRTh1ilAPnD_xYic2  Planes: Fire Rescue (2 Discs) (includes Digita...   \n",
       "1   AVpe41TqilAPnD_xQH3d       Mike Dave Need Wedding Dates (dvd + Digital)   \n",
       "14  AVpfPaoqLJeJML435Xk9  Godzilla 3d Includes Digital Copy Ultraviolet ...   \n",
       "5   AVpf0eb2LJeJML43EVSt     The Resident Evil Collection 5 Discs (blu-Ray)   \n",
       "7   AVpf385g1cnluZ0-s0_t                             Hormel Chili, No Beans   \n",
       "15  AVpfPnrU1cnluZ0-g9rL  Stargate (ws) (ultimate Edition) (director's C...   \n",
       "2   AVpe59io1cnluZ0-ZgDU  My Big Fat Greek Wedding 2 (blu-Ray + Dvd + Di...   \n",
       "12  AVpfJP1C1cnluZ0-e3Xy               Clorox Disinfecting Bathroom Cleaner   \n",
       "0   AV1Yn94nvKc47QAVgtst                           CeraVe SA Renewing Cream   \n",
       "13  AVpfOmKwLJeJML435GM7  Clear Scalp & Hair Therapy Total Care Nourishi...   \n",
       "6   AVpf0thK1cnluZ0-r8vR                100:Complete First Season (blu-Ray)   \n",
       "16  AVpfR5m0LJeJML436K3W                     Jason Aldean - They Don't Know   \n",
       "9   AVpf4oLxLJeJML43FcxC  Avery174 Ready Index Contemporary Table Of Con...   \n",
       "18  AVpfRYbSilAPnD_xYkD4  Shea Moisture Mango & Carrot Kids Extra-Nouris...   \n",
       "11  AVpfBU2S1cnluZ0-cJsO  Power Crunch Protein Energy Bar Peanut Butter ...   \n",
       "4   AVpe-PJnLJeJML43ziaj               Happy Tot Apple and Butternut Squash   \n",
       "3   AVpe9W4D1cnluZ0-avf0  Hoover174 Platinum Collection153 Lightweight B...   \n",
       "10  AVpfazX31cnluZ0-kbdl  Just For Men Touch Of Gray Gray Hair Treatment...   \n",
       "19  AVpfvieo1cnluZ0-qdnu  L'oreal Paris Advanced Hairstyle TXT IT Hyper-...   \n",
       "\n",
       "    Similarity Score  \n",
       "8           9.766872  \n",
       "17          6.175815  \n",
       "1           4.834191  \n",
       "14          3.375153  \n",
       "5           3.166339  \n",
       "7           3.003422  \n",
       "15          2.630869  \n",
       "2           2.463093  \n",
       "12          2.243611  \n",
       "0           1.934558  \n",
       "13          1.687687  \n",
       "6           1.547646  \n",
       "16          1.453506  \n",
       "9           1.421608  \n",
       "18          1.125088  \n",
       "11          1.125088  \n",
       "4           1.125088  \n",
       "3           1.122126  \n",
       "10          0.998146  \n",
       "19          0.980581  "
      ]
     },
     "execution_count": 106,
     "metadata": {},
     "output_type": "execute_result"
    }
   ],
   "source": [
    "# Using cosine similarity for the same user\n",
    "user_input = 'romance318'\n",
    "similarity_type = 'cosine similarity'\n",
    "dummy_train = create_dummy_train(train)\n",
    "df_pivot, user_correlation = calculate_similarity_scores(similarity_type, train)\n",
    "user_final_rating = calculate_weighted_avg(user_correlation, df_pivot)\n",
    "_, top_20_recomm_df = recommend_top_20_products(user_input, user_final_rating, df_recomm, train)\n",
    "top_20_recomm_df.head(20)"
   ]
  },
  {
   "cell_type": "markdown",
   "id": "9213ac56",
   "metadata": {},
   "source": [
    "Observation:\n",
    "- The **Similarity Score** for this user is > 0 when calculated using **cosine similarity**."
   ]
  },
  {
   "cell_type": "markdown",
   "id": "d49efda2",
   "metadata": {},
   "source": [
    "#### User 2 (adjusted cosine similarity)"
   ]
  },
  {
   "cell_type": "code",
   "execution_count": 107,
   "id": "4fc34a1a",
   "metadata": {},
   "outputs": [
    {
     "data": {
      "text/html": [
       "<div>\n",
       "<style scoped>\n",
       "    .dataframe tbody tr th:only-of-type {\n",
       "        vertical-align: middle;\n",
       "    }\n",
       "\n",
       "    .dataframe tbody tr th {\n",
       "        vertical-align: top;\n",
       "    }\n",
       "\n",
       "    .dataframe thead th {\n",
       "        text-align: right;\n",
       "    }\n",
       "</style>\n",
       "<table border=\"1\" class=\"dataframe\">\n",
       "  <thead>\n",
       "    <tr style=\"text-align: right;\">\n",
       "      <th></th>\n",
       "      <th>id</th>\n",
       "      <th>name</th>\n",
       "      <th>Similarity Score</th>\n",
       "    </tr>\n",
       "  </thead>\n",
       "  <tbody>\n",
       "    <tr>\n",
       "      <th>0</th>\n",
       "      <td>AV13O1A8GV-KLJ3akUyj</td>\n",
       "      <td>Pink Friday: Roman Reloaded Re-Up (w/dvd)</td>\n",
       "      <td>0.0</td>\n",
       "    </tr>\n",
       "    <tr>\n",
       "      <th>1</th>\n",
       "      <td>AVpfL-z9ilAPnD_xWzE_</td>\n",
       "      <td>Stacy's Garden Veggie Medley Pita Chips</td>\n",
       "      <td>0.0</td>\n",
       "    </tr>\n",
       "    <tr>\n",
       "      <th>18</th>\n",
       "      <td>AVpfPPkEilAPnD_xX3cP</td>\n",
       "      <td>Aveeno Baby Continuous Protection Lotion Sunsc...</td>\n",
       "      <td>0.0</td>\n",
       "    </tr>\n",
       "    <tr>\n",
       "      <th>17</th>\n",
       "      <td>AVpfPKzxLJeJML435SYL</td>\n",
       "      <td>Tim Holtz Retractable Craft Pick-Red 6x.5</td>\n",
       "      <td>0.0</td>\n",
       "    </tr>\n",
       "    <tr>\n",
       "      <th>16</th>\n",
       "      <td>AVpfPjqKLJeJML435aZR</td>\n",
       "      <td>Voortman Sugar Free Fudge Chocolate Chip Cookies</td>\n",
       "      <td>0.0</td>\n",
       "    </tr>\n",
       "    <tr>\n",
       "      <th>15</th>\n",
       "      <td>AVpfPaoqLJeJML435Xk9</td>\n",
       "      <td>Godzilla 3d Includes Digital Copy Ultraviolet ...</td>\n",
       "      <td>0.0</td>\n",
       "    </tr>\n",
       "    <tr>\n",
       "      <th>14</th>\n",
       "      <td>AVpfOrD0ilAPnD_xXrRj</td>\n",
       "      <td>Progresso Traditional Chicken Rice With Vegeta...</td>\n",
       "      <td>0.0</td>\n",
       "    </tr>\n",
       "    <tr>\n",
       "      <th>13</th>\n",
       "      <td>AVpfOmKwLJeJML435GM7</td>\n",
       "      <td>Clear Scalp &amp; Hair Therapy Total Care Nourishi...</td>\n",
       "      <td>0.0</td>\n",
       "    </tr>\n",
       "    <tr>\n",
       "      <th>12</th>\n",
       "      <td>AVpfOIrkilAPnD_xXgDG</td>\n",
       "      <td>Alex Cross (dvdvideo)</td>\n",
       "      <td>0.0</td>\n",
       "    </tr>\n",
       "    <tr>\n",
       "      <th>11</th>\n",
       "      <td>AVpfOfIqLJeJML435D06</td>\n",
       "      <td>Solo Foods Poppy Seed Cake and Pastry Filling</td>\n",
       "      <td>0.0</td>\n",
       "    </tr>\n",
       "    <tr>\n",
       "      <th>10</th>\n",
       "      <td>AVpfO5u71cnluZ0-guiN</td>\n",
       "      <td>Switchmas (dvd)</td>\n",
       "      <td>0.0</td>\n",
       "    </tr>\n",
       "    <tr>\n",
       "      <th>9</th>\n",
       "      <td>AVpfNWbPilAPnD_xXPR7</td>\n",
       "      <td>Pleasant Hearth 7.5 Steel Grate, 30 5 Bar - Black</td>\n",
       "      <td>0.0</td>\n",
       "    </tr>\n",
       "    <tr>\n",
       "      <th>8</th>\n",
       "      <td>AVpfNVsj1cnluZ0-gNQN</td>\n",
       "      <td>Physicians Formula Powder Palette Mineral Glow...</td>\n",
       "      <td>0.0</td>\n",
       "    </tr>\n",
       "    <tr>\n",
       "      <th>7</th>\n",
       "      <td>AVpfNglu1cnluZ0-gQ7x</td>\n",
       "      <td>Mia Shower Curtain Green/brown - Lush Decor174</td>\n",
       "      <td>0.0</td>\n",
       "    </tr>\n",
       "    <tr>\n",
       "      <th>6</th>\n",
       "      <td>AVpfNfEMLJeJML434uf-</td>\n",
       "      <td>Heiress (dvd)</td>\n",
       "      <td>0.0</td>\n",
       "    </tr>\n",
       "    <tr>\n",
       "      <th>5</th>\n",
       "      <td>AVpfNc9cLJeJML434tza</td>\n",
       "      <td>Feit 60-Watt A19 Gu24 Base Led Light Bulb - So...</td>\n",
       "      <td>0.0</td>\n",
       "    </tr>\n",
       "    <tr>\n",
       "      <th>4</th>\n",
       "      <td>AVpfN6Z71cnluZ0-gZmO</td>\n",
       "      <td>Caress Moisturizing Body Bar Natural Silk, 4.75oz</td>\n",
       "      <td>0.0</td>\n",
       "    </tr>\n",
       "    <tr>\n",
       "      <th>3</th>\n",
       "      <td>AVpfMpZ51cnluZ0-f_L9</td>\n",
       "      <td>Chips Ahoy! Original Chocolate Chip - Cookies ...</td>\n",
       "      <td>0.0</td>\n",
       "    </tr>\n",
       "    <tr>\n",
       "      <th>2</th>\n",
       "      <td>AVpfM_ytilAPnD_xXIJb</td>\n",
       "      <td>Tostitos Bite Size Tortilla Chips</td>\n",
       "      <td>0.0</td>\n",
       "    </tr>\n",
       "    <tr>\n",
       "      <th>19</th>\n",
       "      <td>AVpfP-rELJeJML435jEN</td>\n",
       "      <td>5302050 15/16 FCT/HOSE ADAPTOR</td>\n",
       "      <td>0.0</td>\n",
       "    </tr>\n",
       "  </tbody>\n",
       "</table>\n",
       "</div>"
      ],
      "text/plain": [
       "                      id                                               name   \n",
       "0   AV13O1A8GV-KLJ3akUyj          Pink Friday: Roman Reloaded Re-Up (w/dvd)  \\\n",
       "1   AVpfL-z9ilAPnD_xWzE_            Stacy's Garden Veggie Medley Pita Chips   \n",
       "18  AVpfPPkEilAPnD_xX3cP  Aveeno Baby Continuous Protection Lotion Sunsc...   \n",
       "17  AVpfPKzxLJeJML435SYL          Tim Holtz Retractable Craft Pick-Red 6x.5   \n",
       "16  AVpfPjqKLJeJML435aZR   Voortman Sugar Free Fudge Chocolate Chip Cookies   \n",
       "15  AVpfPaoqLJeJML435Xk9  Godzilla 3d Includes Digital Copy Ultraviolet ...   \n",
       "14  AVpfOrD0ilAPnD_xXrRj  Progresso Traditional Chicken Rice With Vegeta...   \n",
       "13  AVpfOmKwLJeJML435GM7  Clear Scalp & Hair Therapy Total Care Nourishi...   \n",
       "12  AVpfOIrkilAPnD_xXgDG                              Alex Cross (dvdvideo)   \n",
       "11  AVpfOfIqLJeJML435D06      Solo Foods Poppy Seed Cake and Pastry Filling   \n",
       "10  AVpfO5u71cnluZ0-guiN                                    Switchmas (dvd)   \n",
       "9   AVpfNWbPilAPnD_xXPR7  Pleasant Hearth 7.5 Steel Grate, 30 5 Bar - Black   \n",
       "8   AVpfNVsj1cnluZ0-gNQN  Physicians Formula Powder Palette Mineral Glow...   \n",
       "7   AVpfNglu1cnluZ0-gQ7x     Mia Shower Curtain Green/brown - Lush Decor174   \n",
       "6   AVpfNfEMLJeJML434uf-                                      Heiress (dvd)   \n",
       "5   AVpfNc9cLJeJML434tza  Feit 60-Watt A19 Gu24 Base Led Light Bulb - So...   \n",
       "4   AVpfN6Z71cnluZ0-gZmO  Caress Moisturizing Body Bar Natural Silk, 4.75oz   \n",
       "3   AVpfMpZ51cnluZ0-f_L9  Chips Ahoy! Original Chocolate Chip - Cookies ...   \n",
       "2   AVpfM_ytilAPnD_xXIJb                  Tostitos Bite Size Tortilla Chips   \n",
       "19  AVpfP-rELJeJML435jEN                     5302050 15/16 FCT/HOSE ADAPTOR   \n",
       "\n",
       "    Similarity Score  \n",
       "0                0.0  \n",
       "1                0.0  \n",
       "18               0.0  \n",
       "17               0.0  \n",
       "16               0.0  \n",
       "15               0.0  \n",
       "14               0.0  \n",
       "13               0.0  \n",
       "12               0.0  \n",
       "11               0.0  \n",
       "10               0.0  \n",
       "9                0.0  \n",
       "8                0.0  \n",
       "7                0.0  \n",
       "6                0.0  \n",
       "5                0.0  \n",
       "4                0.0  \n",
       "3                0.0  \n",
       "2                0.0  \n",
       "19               0.0  "
      ]
     },
     "execution_count": 107,
     "metadata": {},
     "output_type": "execute_result"
    }
   ],
   "source": [
    "# Using adjusted cosine similarity\n",
    "user_input = 'ladyboss24'\n",
    "similarity_type = 'adjusted'\n",
    "dummy_train = create_dummy_train(train)\n",
    "df_pivot, user_correlation = calculate_similarity_scores(similarity_type, train)\n",
    "user_final_rating = calculate_weighted_avg(user_correlation, df_pivot)\n",
    "_, top_20_recomm_df = recommend_top_20_products(user_input, user_final_rating, df_recomm, train)\n",
    "top_20_recomm_df"
   ]
  },
  {
   "cell_type": "markdown",
   "id": "c90809cc",
   "metadata": {},
   "source": [
    "Observation:\n",
    "- The Similarity Score for this user is also 0 when calculated using adjusted cosine similarity. As all the scores are 0, the top 20 recommendations are same as the first 20 records in the train dataset."
   ]
  },
  {
   "cell_type": "markdown",
   "id": "1fbd0674",
   "metadata": {},
   "source": [
    "Let's try to calculate the Similarity using cosine similarity for the same user."
   ]
  },
  {
   "cell_type": "markdown",
   "id": "0961ebfd",
   "metadata": {},
   "source": [
    "#### User 2 (cosine similarity)"
   ]
  },
  {
   "cell_type": "code",
   "execution_count": 108,
   "id": "d08acb35",
   "metadata": {},
   "outputs": [
    {
     "data": {
      "text/html": [
       "<div>\n",
       "<style scoped>\n",
       "    .dataframe tbody tr th:only-of-type {\n",
       "        vertical-align: middle;\n",
       "    }\n",
       "\n",
       "    .dataframe tbody tr th {\n",
       "        vertical-align: top;\n",
       "    }\n",
       "\n",
       "    .dataframe thead th {\n",
       "        text-align: right;\n",
       "    }\n",
       "</style>\n",
       "<table border=\"1\" class=\"dataframe\">\n",
       "  <thead>\n",
       "    <tr style=\"text-align: right;\">\n",
       "      <th></th>\n",
       "      <th>id</th>\n",
       "      <th>name</th>\n",
       "      <th>Similarity Score</th>\n",
       "    </tr>\n",
       "  </thead>\n",
       "  <tbody>\n",
       "    <tr>\n",
       "      <th>12</th>\n",
       "      <td>AVpfJP1C1cnluZ0-e3Xy</td>\n",
       "      <td>Clorox Disinfecting Bathroom Cleaner</td>\n",
       "      <td>1675.379246</td>\n",
       "    </tr>\n",
       "    <tr>\n",
       "      <th>16</th>\n",
       "      <td>AVpfPaoqLJeJML435Xk9</td>\n",
       "      <td>Godzilla 3d Includes Digital Copy Ultraviolet ...</td>\n",
       "      <td>44.894220</td>\n",
       "    </tr>\n",
       "    <tr>\n",
       "      <th>3</th>\n",
       "      <td>AVpe59io1cnluZ0-ZgDU</td>\n",
       "      <td>My Big Fat Greek Wedding 2 (blu-Ray + Dvd + Di...</td>\n",
       "      <td>39.066543</td>\n",
       "    </tr>\n",
       "    <tr>\n",
       "      <th>2</th>\n",
       "      <td>AVpe41TqilAPnD_xQH3d</td>\n",
       "      <td>Mike Dave Need Wedding Dates (dvd + Digital)</td>\n",
       "      <td>38.857079</td>\n",
       "    </tr>\n",
       "    <tr>\n",
       "      <th>18</th>\n",
       "      <td>AVpfRTh1ilAPnD_xYic2</td>\n",
       "      <td>Planes: Fire Rescue (2 Discs) (includes Digita...</td>\n",
       "      <td>33.849285</td>\n",
       "    </tr>\n",
       "    <tr>\n",
       "      <th>4</th>\n",
       "      <td>AVpf0eb2LJeJML43EVSt</td>\n",
       "      <td>The Resident Evil Collection 5 Discs (blu-Ray)</td>\n",
       "      <td>33.830888</td>\n",
       "    </tr>\n",
       "    <tr>\n",
       "      <th>9</th>\n",
       "      <td>AVpf63aJLJeJML43F__Q</td>\n",
       "      <td>Burt's Bees Lip Shimmer, Raisin</td>\n",
       "      <td>29.841723</td>\n",
       "    </tr>\n",
       "    <tr>\n",
       "      <th>13</th>\n",
       "      <td>AVpfM_ytilAPnD_xXIJb</td>\n",
       "      <td>Tostitos Bite Size Tortilla Chips</td>\n",
       "      <td>22.748938</td>\n",
       "    </tr>\n",
       "    <tr>\n",
       "      <th>10</th>\n",
       "      <td>AVpfBrUZilAPnD_xTUly</td>\n",
       "      <td>Coty Airspun Face Powder, Translucent Extra Co...</td>\n",
       "      <td>21.308651</td>\n",
       "    </tr>\n",
       "    <tr>\n",
       "      <th>7</th>\n",
       "      <td>AVpf385g1cnluZ0-s0_t</td>\n",
       "      <td>Hormel Chili, No Beans</td>\n",
       "      <td>14.395314</td>\n",
       "    </tr>\n",
       "    <tr>\n",
       "      <th>8</th>\n",
       "      <td>AVpf5olc1cnluZ0-tPrO</td>\n",
       "      <td>Chester's Cheese Flavored Puffcorn Snacks</td>\n",
       "      <td>12.483517</td>\n",
       "    </tr>\n",
       "    <tr>\n",
       "      <th>1</th>\n",
       "      <td>AV1YGDqsGV-KLJ3adc-O</td>\n",
       "      <td>Windex Original Glass Cleaner Refill 67.6oz (2...</td>\n",
       "      <td>11.371032</td>\n",
       "    </tr>\n",
       "    <tr>\n",
       "      <th>17</th>\n",
       "      <td>AVpfRoqcLJeJML436FqG</td>\n",
       "      <td>Vicks Vaporub, Regular, 3.53oz</td>\n",
       "      <td>10.938400</td>\n",
       "    </tr>\n",
       "    <tr>\n",
       "      <th>14</th>\n",
       "      <td>AVpfm8yiLJeJML43AYyu</td>\n",
       "      <td>Nexxus Exxtra Gel Style Creation Sculptor</td>\n",
       "      <td>9.766872</td>\n",
       "    </tr>\n",
       "    <tr>\n",
       "      <th>0</th>\n",
       "      <td>AV1l8zRZvKc47QAVhnAv</td>\n",
       "      <td>Olay Regenerist Deep Hydration Regenerating Cream</td>\n",
       "      <td>9.571068</td>\n",
       "    </tr>\n",
       "    <tr>\n",
       "      <th>11</th>\n",
       "      <td>AVpfBU2S1cnluZ0-cJsO</td>\n",
       "      <td>Power Crunch Protein Energy Bar Peanut Butter ...</td>\n",
       "      <td>9.425541</td>\n",
       "    </tr>\n",
       "    <tr>\n",
       "      <th>5</th>\n",
       "      <td>AVpf0thK1cnluZ0-r8vR</td>\n",
       "      <td>100:Complete First Season (blu-Ray)</td>\n",
       "      <td>8.350586</td>\n",
       "    </tr>\n",
       "    <tr>\n",
       "      <th>6</th>\n",
       "      <td>AVpf2tw1ilAPnD_xjflC</td>\n",
       "      <td>Red (special Edition) (dvdvideo)</td>\n",
       "      <td>8.129478</td>\n",
       "    </tr>\n",
       "    <tr>\n",
       "      <th>15</th>\n",
       "      <td>AVpfOmKwLJeJML435GM7</td>\n",
       "      <td>Clear Scalp &amp; Hair Therapy Total Care Nourishi...</td>\n",
       "      <td>8.109961</td>\n",
       "    </tr>\n",
       "    <tr>\n",
       "      <th>19</th>\n",
       "      <td>AVpfW8y_LJeJML437ySW</td>\n",
       "      <td>L'or233al Paris Elvive Extraordinary Clay Reba...</td>\n",
       "      <td>7.864854</td>\n",
       "    </tr>\n",
       "  </tbody>\n",
       "</table>\n",
       "</div>"
      ],
      "text/plain": [
       "                      id                                               name   \n",
       "12  AVpfJP1C1cnluZ0-e3Xy               Clorox Disinfecting Bathroom Cleaner  \\\n",
       "16  AVpfPaoqLJeJML435Xk9  Godzilla 3d Includes Digital Copy Ultraviolet ...   \n",
       "3   AVpe59io1cnluZ0-ZgDU  My Big Fat Greek Wedding 2 (blu-Ray + Dvd + Di...   \n",
       "2   AVpe41TqilAPnD_xQH3d       Mike Dave Need Wedding Dates (dvd + Digital)   \n",
       "18  AVpfRTh1ilAPnD_xYic2  Planes: Fire Rescue (2 Discs) (includes Digita...   \n",
       "4   AVpf0eb2LJeJML43EVSt     The Resident Evil Collection 5 Discs (blu-Ray)   \n",
       "9   AVpf63aJLJeJML43F__Q                    Burt's Bees Lip Shimmer, Raisin   \n",
       "13  AVpfM_ytilAPnD_xXIJb                  Tostitos Bite Size Tortilla Chips   \n",
       "10  AVpfBrUZilAPnD_xTUly  Coty Airspun Face Powder, Translucent Extra Co...   \n",
       "7   AVpf385g1cnluZ0-s0_t                             Hormel Chili, No Beans   \n",
       "8   AVpf5olc1cnluZ0-tPrO          Chester's Cheese Flavored Puffcorn Snacks   \n",
       "1   AV1YGDqsGV-KLJ3adc-O  Windex Original Glass Cleaner Refill 67.6oz (2...   \n",
       "17  AVpfRoqcLJeJML436FqG                     Vicks Vaporub, Regular, 3.53oz   \n",
       "14  AVpfm8yiLJeJML43AYyu          Nexxus Exxtra Gel Style Creation Sculptor   \n",
       "0   AV1l8zRZvKc47QAVhnAv  Olay Regenerist Deep Hydration Regenerating Cream   \n",
       "11  AVpfBU2S1cnluZ0-cJsO  Power Crunch Protein Energy Bar Peanut Butter ...   \n",
       "5   AVpf0thK1cnluZ0-r8vR                100:Complete First Season (blu-Ray)   \n",
       "6   AVpf2tw1ilAPnD_xjflC                   Red (special Edition) (dvdvideo)   \n",
       "15  AVpfOmKwLJeJML435GM7  Clear Scalp & Hair Therapy Total Care Nourishi...   \n",
       "19  AVpfW8y_LJeJML437ySW  L'or233al Paris Elvive Extraordinary Clay Reba...   \n",
       "\n",
       "    Similarity Score  \n",
       "12       1675.379246  \n",
       "16         44.894220  \n",
       "3          39.066543  \n",
       "2          38.857079  \n",
       "18         33.849285  \n",
       "4          33.830888  \n",
       "9          29.841723  \n",
       "13         22.748938  \n",
       "10         21.308651  \n",
       "7          14.395314  \n",
       "8          12.483517  \n",
       "1          11.371032  \n",
       "17         10.938400  \n",
       "14          9.766872  \n",
       "0           9.571068  \n",
       "11          9.425541  \n",
       "5           8.350586  \n",
       "6           8.129478  \n",
       "15          8.109961  \n",
       "19          7.864854  "
      ]
     },
     "execution_count": 108,
     "metadata": {},
     "output_type": "execute_result"
    }
   ],
   "source": [
    "# Using cosine similarity \n",
    "user_input = 'ladyboss24'\n",
    "similarity_type = 'cosine similarity'\n",
    "dummy_train = create_dummy_train(train)\n",
    "df_pivot, user_correlation = calculate_similarity_scores(similarity_type, train)\n",
    "user_final_rating = calculate_weighted_avg(user_correlation, df_pivot)\n",
    "_, top_20_recomm_df = recommend_top_20_products(user_input, user_final_rating, df_recomm, train)\n",
    "top_20_recomm_df"
   ]
  },
  {
   "cell_type": "markdown",
   "id": "6d017c37",
   "metadata": {},
   "source": [
    "Observation:  \n",
    "*Why cosine similarity over adjusted cosine similarity?*\n",
    "- As seen above, multiple users had a similarity score of 0 when using adjusted cosine similarity but returned positive values for cosine similarity. A similarity score of 0 does not help with the prediction as the same records are pulled up.\n",
    "- So I'm going to stick to using **cosine similarity** for rest fo the calculations here."
   ]
  },
  {
   "cell_type": "markdown",
   "id": "6e603473",
   "metadata": {},
   "source": [
    "### Evaluation of the User-based Recommendation"
   ]
  },
  {
   "cell_type": "code",
   "execution_count": 109,
   "id": "30003b55",
   "metadata": {},
   "outputs": [],
   "source": [
    "from numpy import *\n",
    "def get_common_users(train, test):\n",
    "    # Filter the common users of test and train dataset.\n",
    "    common = test[test.reviews_username.isin(train.reviews_username)]\n",
    "    # Group reviews by Id\n",
    "    common_user_based_matrix = common.pivot_table(index='reviews_username', columns='id', values='reviews_rating')\n",
    "    return common, common_user_based_matrix\n",
    "\n",
    "def get_user_corr_test(similarity_type, test):\n",
    "    if 'adjusted' not in similarity_type:\n",
    "#     if similarity_type == 'cosine_similarity':\n",
    "        df_pivot, user_correlation_train = calculate_cosine_similarity(train)\n",
    "    else:\n",
    "        df_pivot, user_correlation_train = calculate_adjusted_cosine_similarity(train)\n",
    "    return df_pivot, user_correlation_train\n",
    "        \n",
    "def set_index_column_names_to_user_correlation_df(user_correlation_train):\n",
    "    # Convert the user_correlation matrix into dataframe.\n",
    "    user_correlation_df = pd.DataFrame(user_correlation)\n",
    "    # For 'user_correlation_df' dataset, set 'reviews_username' from normalised-rating matrix, df_subtracted, as index \n",
    "    # Calculate average ratings for each user\n",
    "    mean = np.nanmean(df_pivot, axis=1)\n",
    "    df_subtracted = (df_pivot.T-mean).T\n",
    "    df_subtracted = df_subtracted.astype('float16')\n",
    "    user_correlation_df['reviews_username'] = df_subtracted.index\n",
    "    user_correlation_df.set_index('reviews_username',inplace=True)\n",
    "    # For 'user_correlation_df' dataset, set 'reviews_username' from df_pivot, as column values\n",
    "    user_correlation_df.columns = df_pivot.index.tolist()\n",
    "    # Filter records common in both 'user_correlation_df' and 'common' dataset using 'reviews_username' as primary key\n",
    "    user_correlation_df_1 =  user_correlation_df[user_correlation_df.index.isin(common.reviews_username.tolist())]\n",
    "    user_correlation_df_2 = user_correlation_df_1.T[user_correlation_df_1.T.index.isin(common.reviews_username.tolist())]\n",
    "    user_correlation_df_3 = user_correlation_df_2.T\n",
    "     # Just like I did for training I equate all correlation less than 0 to 0.\n",
    "    user_correlation_df_3[user_correlation_df_3<0]=0\n",
    "    return user_correlation_df_3\n",
    "\n",
    "def calculate_weighted_avg_test(user_correlation_with_index, common_user_based_matrix):\n",
    "    common_user_predicted_ratings = np.dot(user_correlation_with_index, common_user_based_matrix.fillna(0))\n",
    "    return common_user_predicted_ratings\n",
    "\n",
    "# Keep only those products rated by user\n",
    "def create_dummy_test(common):\n",
    "    # Creating dummy test dataframe\n",
    "    dummy_test = common.copy()\n",
    "    dummy_test['reviews_rating'] = dummy_test['reviews_rating'].apply(lambda x: 1 if x>=1 else 0)\n",
    "    dummy_test = dummy_test.pivot_table(index='reviews_username', columns='id', values='reviews_rating').fillna(0)\n",
    "    return dummy_test\n",
    "\n",
    "def predict_ratings_for_common_user(common_user_predicted_ratings, dummy_test):\n",
    "    common_user_final_rating = np.multiply(common_user_predicted_ratings, dummy_test)\n",
    "    return common_user_final_rating\n",
    "\n",
    "# Calculating the RMSE for only the products rated by user\n",
    "def normalize_ratings_minmax(common_user_final_rating):\n",
    "    X  = common_user_final_rating.copy() \n",
    "    X = X[X>0]\n",
    "    scaler = MinMaxScaler(feature_range=(1, 5))\n",
    "    scaler.fit(X)\n",
    "    y = (scaler.transform(X))\n",
    "    return X, y\n",
    "\n",
    "def calc_rmse_user_user(common):\n",
    "    common_ = common.pivot_table(index='reviews_username', columns='id', values='reviews_rating')\n",
    "    # Finding total non-NaN value\n",
    "    total_non_nan = np.count_nonzero(~np.isnan(y))\n",
    "    rmse_user_user = (sum(sum((common_ - y )**2))/total_non_nan)**0.5\n",
    "    return rmse_user_user"
   ]
  },
  {
   "cell_type": "code",
   "execution_count": 110,
   "id": "517e32b0",
   "metadata": {},
   "outputs": [
    {
     "name": "stdout",
     "output_type": "stream",
     "text": [
      "2.084841852467448\n"
     ]
    }
   ],
   "source": [
    "# Evaluate the user-based recommender system\n",
    "common, common_user_based_matrix = get_common_users(train, test)\n",
    "# df_pivot, user_correlation = df_pivot, user_correlation\n",
    "df_pivot, user_correlation = get_user_corr_test('cosine', test)\n",
    "user_correlation_df_with_indices = set_index_column_names_to_user_correlation_df(user_correlation)\n",
    "common_user_predicted_ratings = calculate_weighted_avg_test(user_correlation_df_with_indices, common_user_based_matrix)\n",
    "dummy_test = create_dummy_test(common)\n",
    "common_user_final_rating = predict_ratings_for_common_user(common_user_predicted_ratings, dummy_test)\n",
    "X, y = normalize_ratings_minmax(common_user_final_rating)\n",
    "rmse_user_user = calc_rmse_user_user(common)\n",
    "print(rmse_user_user)"
   ]
  },
  {
   "cell_type": "markdown",
   "id": "ad1d510e",
   "metadata": {},
   "source": [
    "### Item-based Collaborative Filtering"
   ]
  },
  {
   "cell_type": "code",
   "execution_count": 111,
   "id": "4d6837f7",
   "metadata": {},
   "outputs": [],
   "source": [
    "def create_dummy_train(train):\n",
    "    # Copy the train dataset into dummy_train\n",
    "    dummy_train = train.copy()\n",
    "    # Set 0 for ratings of products already rated by the user and 1 for unrated goods \n",
    "    dummy_train['reviews_rating'] = dummy_train['reviews_rating'].apply(lambda x: 0 if x>=1 else 1)\n",
    "    # Group reviews by Id\n",
    "    # Convert the dummy train dataset into matrix format.\n",
    "    dummy_train = dummy_train.pivot_table(\n",
    "        index='reviews_username',\n",
    "        columns='id',\n",
    "        values='reviews_rating'\n",
    "    ).fillna(1)\n",
    "    return dummy_train\n",
    "# Cosine Similarity\n",
    "def calculate_cosine_similarity_item_item(train):\n",
    "    # Pivot the train ratings dataset into matrix format in which columns are Products and the rows are usernames\n",
    "    df_pivot_cos = train.pivot_table(\n",
    "        index='reviews_username',\n",
    "        columns='id',\n",
    "        values='reviews_rating'\n",
    "    ).fillna(0).T\n",
    "\n",
    "    # Use cosine similarity function to compute the distance.\n",
    "    item_correlation_cos = cosine_similarity(df_pivot_cos)\n",
    "    item_correlation_cos[np.isnan(item_correlation_cos)] = 0\n",
    "    return df_pivot_cos, item_correlation_cos\n",
    "\n",
    "# Adjusted Cosine Similarity\n",
    "def calculate_adjusted_cosine_similarity_item_item(train):\n",
    "    # Create a user-review matrix for adjusted cosine similarity\n",
    "    df_pivot_adj_cos = train.pivot_table(\n",
    "    index='reviews_username',\n",
    "    columns='id',\n",
    "    values='reviews_rating'\n",
    "    ).T\n",
    "    # Normalize the rating before computing the similarity\n",
    "    # Calculate average ratings for each user\n",
    "    mean = np.nanmean(df_pivot_adj_cos, axis=1)\n",
    "    df_subtracted = (df_pivot_adj_cos.T-mean).T\n",
    "    df_subtracted = df_subtracted.astype('float16')\n",
    " \n",
    "    # Converting to float16 array to avoid Memory allocation issue\n",
    "    # Deduct the pairwise_distances from 1 to return the similarities\n",
    "    item_correlation_adj = 1 - np.float16(pairwise_distances(df_subtracted.fillna(0), metric='cosine'))\n",
    "    item_correlation_adj[np.isnan(item_correlation_adj)] = 0\n",
    "    return df_pivot_adj_cos, item_correlation_adj\n",
    "\n",
    "def calculate_similarity_train_item_item(similarity_type, user_input, train):\n",
    "    if similarity_type == 'cosine similarity':\n",
    "#     if similarity_type == 'cosine_similarity':\n",
    "        df_pivot, item_correlation = calculate_cosine_similarity_item_item(train)\n",
    "    else:\n",
    "        df_pivot, item_correlation = calculate_adjusted_cosine_similarity_item_item(train)\n",
    "    return df_pivot, item_correlation\n",
    "\n",
    "def calculate_weighted_avg_train_item_item(df_pivot, item_correlation, dummy_train):\n",
    "    # Set correlation for user_correlation < 0 to 0.\n",
    "    item_correlation[item_correlation<0]=0\n",
    "    # Calculate the weighted average of the ratings given to products (rated & not rated by the user) by the peer users\n",
    "    item_predicted_ratings = np.dot(df_pivot.fillna(0).T, item_correlation)\n",
    "    # Calculate the weighted average of the ratings given to products (NOT rated by the user) by the peer users\n",
    "    item_final_rating = np.multiply(item_predicted_ratings, dummy_train)\n",
    "    return item_final_rating\n",
    "\n",
    "def recommend_top_20_products(user_input, item_final_rating, df_recomm, train):\n",
    "    top20_recommendations = item_final_rating.loc[user_input].sort_values(ascending=False)[0:20]\n",
    "    df_top20_recommendations = pd.DataFrame({'Id': top20_recommendations.index, 'Similarity Score' : top20_recommendations})\n",
    "    df_top20_recommendations.reset_index(drop=True, inplace=True)\n",
    "    # Merge id with product name\n",
    "    top20_rec = pd.merge(df_recomm, df_top20_recommendations, left_on='id', right_on='Id', how='inner')[\n",
    "        ['Id', 'name', 'Similarity Score']].drop_duplicates()\n",
    "    top20_rec.reset_index(drop=True, inplace=True)\n",
    "    top20_rec.sort_values(by='Similarity Score', ascending=False, inplace=True)\n",
    "    return item_final_rating, top20_rec"
   ]
  },
  {
   "cell_type": "code",
   "execution_count": 112,
   "id": "1cc016f8",
   "metadata": {},
   "outputs": [],
   "source": [
    "# Run the item-based recommender system\n",
    "user_input = '00sab00'\n",
    "similarity_type = 'cosine similarity'\n",
    "dummy_train = create_dummy_train(train)\n",
    "df_pivot, item_correlation = calculate_similarity_train_item_item(similarity_type, user_input, train)\n",
    "item_final_rating = calculate_weighted_avg_train_item_item(df_pivot, item_correlation, dummy_train)"
   ]
  },
  {
   "cell_type": "code",
   "execution_count": 113,
   "id": "f9a2b688",
   "metadata": {},
   "outputs": [
    {
     "data": {
      "text/html": [
       "<div>\n",
       "<style scoped>\n",
       "    .dataframe tbody tr th:only-of-type {\n",
       "        vertical-align: middle;\n",
       "    }\n",
       "\n",
       "    .dataframe tbody tr th {\n",
       "        vertical-align: top;\n",
       "    }\n",
       "\n",
       "    .dataframe thead th {\n",
       "        text-align: right;\n",
       "    }\n",
       "</style>\n",
       "<table border=\"1\" class=\"dataframe\">\n",
       "  <thead>\n",
       "    <tr style=\"text-align: right;\">\n",
       "      <th></th>\n",
       "      <th>Id</th>\n",
       "      <th>name</th>\n",
       "      <th>Similarity Score</th>\n",
       "    </tr>\n",
       "  </thead>\n",
       "  <tbody>\n",
       "    <tr>\n",
       "      <th>19</th>\n",
       "      <td>AVpfv4TlilAPnD_xhjNS</td>\n",
       "      <td>Various - Red Hot Blue:Tribute To Cole Porter ...</td>\n",
       "      <td>0.152856</td>\n",
       "    </tr>\n",
       "    <tr>\n",
       "      <th>17</th>\n",
       "      <td>AVpfRTh1ilAPnD_xYic2</td>\n",
       "      <td>Planes: Fire Rescue (2 Discs) (includes Digita...</td>\n",
       "      <td>0.142785</td>\n",
       "    </tr>\n",
       "    <tr>\n",
       "      <th>8</th>\n",
       "      <td>AVpf0eb2LJeJML43EVSt</td>\n",
       "      <td>The Resident Evil Collection 5 Discs (blu-Ray)</td>\n",
       "      <td>0.117132</td>\n",
       "    </tr>\n",
       "    <tr>\n",
       "      <th>15</th>\n",
       "      <td>AVpfPaoqLJeJML435Xk9</td>\n",
       "      <td>Godzilla 3d Includes Digital Copy Ultraviolet ...</td>\n",
       "      <td>0.106681</td>\n",
       "    </tr>\n",
       "    <tr>\n",
       "      <th>12</th>\n",
       "      <td>AVpfM_ytilAPnD_xXIJb</td>\n",
       "      <td>Tostitos Bite Size Tortilla Chips</td>\n",
       "      <td>0.105363</td>\n",
       "    </tr>\n",
       "    <tr>\n",
       "      <th>7</th>\n",
       "      <td>AVpe6PCDLJeJML43yFQH</td>\n",
       "      <td>Wagan Smartac 80watt Inverter With Usb</td>\n",
       "      <td>0.090846</td>\n",
       "    </tr>\n",
       "    <tr>\n",
       "      <th>10</th>\n",
       "      <td>AVpf385g1cnluZ0-s0_t</td>\n",
       "      <td>Hormel Chili, No Beans</td>\n",
       "      <td>0.088184</td>\n",
       "    </tr>\n",
       "    <tr>\n",
       "      <th>2</th>\n",
       "      <td>AVpe_dxlilAPnD_xSiHI</td>\n",
       "      <td>The Seaweed Bath Co. Argan Conditioner, Smooth...</td>\n",
       "      <td>0.085371</td>\n",
       "    </tr>\n",
       "    <tr>\n",
       "      <th>5</th>\n",
       "      <td>AVpe4pnBilAPnD_xQDeb</td>\n",
       "      <td>Moom Express Pre Waxed Strips For Face &amp; Bikini</td>\n",
       "      <td>0.081719</td>\n",
       "    </tr>\n",
       "    <tr>\n",
       "      <th>1</th>\n",
       "      <td>AV1Ys0kTvKc47QAVgx1C</td>\n",
       "      <td>Meguiar's Deep Crystal Car Wash 64-Oz.</td>\n",
       "      <td>0.081066</td>\n",
       "    </tr>\n",
       "    <tr>\n",
       "      <th>13</th>\n",
       "      <td>AVpfMpZ51cnluZ0-f_L9</td>\n",
       "      <td>Chips Ahoy! Original Chocolate Chip - Cookies ...</td>\n",
       "      <td>0.079189</td>\n",
       "    </tr>\n",
       "    <tr>\n",
       "      <th>14</th>\n",
       "      <td>AVpfNc9cLJeJML434tza</td>\n",
       "      <td>Feit 60-Watt A19 Gu24 Base Led Light Bulb - So...</td>\n",
       "      <td>0.073369</td>\n",
       "    </tr>\n",
       "    <tr>\n",
       "      <th>4</th>\n",
       "      <td>AVpe31o71cnluZ0-YrSD</td>\n",
       "      <td>Dark Shadows (includes Digital Copy) (ultravio...</td>\n",
       "      <td>0.071913</td>\n",
       "    </tr>\n",
       "    <tr>\n",
       "      <th>3</th>\n",
       "      <td>AVpe_pDG1cnluZ0-bjSf</td>\n",
       "      <td>Bi-O-kleen Spray &amp; Wipe All Purpose Cleaner</td>\n",
       "      <td>0.071071</td>\n",
       "    </tr>\n",
       "    <tr>\n",
       "      <th>16</th>\n",
       "      <td>AVpfR5m0LJeJML436K3W</td>\n",
       "      <td>Jason Aldean - They Don't Know</td>\n",
       "      <td>0.071011</td>\n",
       "    </tr>\n",
       "    <tr>\n",
       "      <th>9</th>\n",
       "      <td>AVpf2tw1ilAPnD_xjflC</td>\n",
       "      <td>Red (special Edition) (dvdvideo)</td>\n",
       "      <td>0.070389</td>\n",
       "    </tr>\n",
       "    <tr>\n",
       "      <th>18</th>\n",
       "      <td>AVpfthSailAPnD_xg3ON</td>\n",
       "      <td>Musselman Apple Sauce, Cinnamon, 48oz</td>\n",
       "      <td>0.069139</td>\n",
       "    </tr>\n",
       "    <tr>\n",
       "      <th>0</th>\n",
       "      <td>AV1d76w7vKc47QAVhCqn</td>\n",
       "      <td>J.R. Watkins Hand Cream, Lemon Cream</td>\n",
       "      <td>0.068788</td>\n",
       "    </tr>\n",
       "    <tr>\n",
       "      <th>6</th>\n",
       "      <td>AVpe6FfKilAPnD_xQmHi</td>\n",
       "      <td>Chex Muddy Buddies Brownie Supreme Snack Mix</td>\n",
       "      <td>0.068526</td>\n",
       "    </tr>\n",
       "    <tr>\n",
       "      <th>11</th>\n",
       "      <td>AVpf99c6LJeJML43Gu3K</td>\n",
       "      <td>Romantic Drama: Greatest Classic Films Collect...</td>\n",
       "      <td>0.067018</td>\n",
       "    </tr>\n",
       "  </tbody>\n",
       "</table>\n",
       "</div>"
      ],
      "text/plain": [
       "                      Id                                               name   \n",
       "19  AVpfv4TlilAPnD_xhjNS  Various - Red Hot Blue:Tribute To Cole Porter ...  \\\n",
       "17  AVpfRTh1ilAPnD_xYic2  Planes: Fire Rescue (2 Discs) (includes Digita...   \n",
       "8   AVpf0eb2LJeJML43EVSt     The Resident Evil Collection 5 Discs (blu-Ray)   \n",
       "15  AVpfPaoqLJeJML435Xk9  Godzilla 3d Includes Digital Copy Ultraviolet ...   \n",
       "12  AVpfM_ytilAPnD_xXIJb                  Tostitos Bite Size Tortilla Chips   \n",
       "7   AVpe6PCDLJeJML43yFQH             Wagan Smartac 80watt Inverter With Usb   \n",
       "10  AVpf385g1cnluZ0-s0_t                             Hormel Chili, No Beans   \n",
       "2   AVpe_dxlilAPnD_xSiHI  The Seaweed Bath Co. Argan Conditioner, Smooth...   \n",
       "5   AVpe4pnBilAPnD_xQDeb    Moom Express Pre Waxed Strips For Face & Bikini   \n",
       "1   AV1Ys0kTvKc47QAVgx1C             Meguiar's Deep Crystal Car Wash 64-Oz.   \n",
       "13  AVpfMpZ51cnluZ0-f_L9  Chips Ahoy! Original Chocolate Chip - Cookies ...   \n",
       "14  AVpfNc9cLJeJML434tza  Feit 60-Watt A19 Gu24 Base Led Light Bulb - So...   \n",
       "4   AVpe31o71cnluZ0-YrSD  Dark Shadows (includes Digital Copy) (ultravio...   \n",
       "3   AVpe_pDG1cnluZ0-bjSf        Bi-O-kleen Spray & Wipe All Purpose Cleaner   \n",
       "16  AVpfR5m0LJeJML436K3W                     Jason Aldean - They Don't Know   \n",
       "9   AVpf2tw1ilAPnD_xjflC                   Red (special Edition) (dvdvideo)   \n",
       "18  AVpfthSailAPnD_xg3ON              Musselman Apple Sauce, Cinnamon, 48oz   \n",
       "0   AV1d76w7vKc47QAVhCqn               J.R. Watkins Hand Cream, Lemon Cream   \n",
       "6   AVpe6FfKilAPnD_xQmHi       Chex Muddy Buddies Brownie Supreme Snack Mix   \n",
       "11  AVpf99c6LJeJML43Gu3K  Romantic Drama: Greatest Classic Films Collect...   \n",
       "\n",
       "    Similarity Score  \n",
       "19          0.152856  \n",
       "17          0.142785  \n",
       "8           0.117132  \n",
       "15          0.106681  \n",
       "12          0.105363  \n",
       "7           0.090846  \n",
       "10          0.088184  \n",
       "2           0.085371  \n",
       "5           0.081719  \n",
       "1           0.081066  \n",
       "13          0.079189  \n",
       "14          0.073369  \n",
       "4           0.071913  \n",
       "3           0.071071  \n",
       "16          0.071011  \n",
       "9           0.070389  \n",
       "18          0.069139  \n",
       "0           0.068788  \n",
       "6           0.068526  \n",
       "11          0.067018  "
      ]
     },
     "execution_count": 113,
     "metadata": {},
     "output_type": "execute_result"
    }
   ],
   "source": [
    "_, top_20_recomm_item_df = recommend_top_20_products(user_input, item_final_rating, df_recomm, train)\n",
    "top_20_recomm_item_df"
   ]
  },
  {
   "cell_type": "markdown",
   "id": "0671e015",
   "metadata": {},
   "source": [
    "### Evaluation of the Item-based Recommendation"
   ]
  },
  {
   "cell_type": "code",
   "execution_count": 114,
   "id": "1da935e1",
   "metadata": {},
   "outputs": [],
   "source": [
    "from numpy import *\n",
    "def get_common_items(train, test):\n",
    "    # Filter the common users of test and train dataset.\n",
    "    common = test[test.id.isin(train.id)]\n",
    "    common_item_based_matrix = common.pivot_table(index='id', columns='reviews_username', values='reviews_rating')\n",
    "    return common, common_item_based_matrix\n",
    "\n",
    "def get_item_corr_test(similarity_type, test):\n",
    "    if similarity_type == 'cosine similarity':\n",
    "#     if similarity_type == 'cosine_similarity':\n",
    "        df_pivot, item_correlation_train = calculate_cosine_similarity_item_item(train)\n",
    "    else:\n",
    "        df_pivot, item_correlation_train = calculate_adjusted_cosine_similarity_item_item(train)\n",
    "    return df_pivot, item_correlation_train\n",
    "        \n",
    "def set_index_column_names_to_item_correlation_df(similarity_type, item_correlation_train, df_pivot, common):\n",
    "    # Convert the item_correlation matrix into dataframe\n",
    "    item_correlation_df = pd.DataFrame(item_correlation)\n",
    "    if similarity_type == 'cosine similarity':\n",
    "        item_correlation_df['id'] = df_pivot.index\n",
    "        item_correlation_df.set_index('id',inplace=True)\n",
    "        item_correlation_df.columns = df_pivot.index.tolist()\n",
    "    else:\n",
    "        mean = np.nanmean(df_pivot, axis=1)\n",
    "        df_subtracted = (df_pivot.T-mean).T\n",
    "        df_subtracted = df_subtracted.astype('float16')\n",
    "        item_correlation_df['id'] = df_subtracted.index\n",
    "        item_correlation_df.set_index('id',inplace=True)\n",
    "        item_correlation_df.columns = df_subtracted.index.tolist()\n",
    "        \n",
    "    item_correlation_df_1 =  item_correlation_df[item_correlation_df.index.isin(common.id.tolist())]\n",
    "    item_correlation_df_2 = item_correlation_df_1.T[item_correlation_df_1.T.index.isin(common.id.tolist())]\n",
    "    item_correlation_df_3 = item_correlation_df_2.T\n",
    "    item_correlation_df_3[item_correlation_df_3<0]=0\n",
    "    return item_correlation_df_3\n",
    "\n",
    "def calculate_item_weighted_avg_test(item_correlation_with_index, common_item_based_matrix):\n",
    "    common_item_predicted_ratings = np.dot(item_correlation_with_index, common_item_based_matrix.fillna(0))\n",
    "    return common_item_predicted_ratings\n",
    "\n",
    "# Keep only those products rated by user\n",
    "def create_dummy_test_item(common):\n",
    "    # Creating dummy test dataframe\n",
    "    dummy_test = common.copy()\n",
    "    dummy_test['reviews_rating'] = dummy_test['reviews_rating'].apply(lambda x: 1 if x>=1 else 0)\n",
    "    dummy_test = dummy_test.pivot_table(index='id', columns='reviews_username', values='reviews_rating').fillna(0)\n",
    "    return dummy_test\n",
    "\n",
    "def predict_ratings_for_common_item(common_item_predicted_ratings, dummy_test):\n",
    "    common_item_final_ratings = np.multiply(common_item_predicted_ratings, dummy_test)\n",
    "    return common_item_final_ratings\n",
    "\n",
    "# Calculating the RMSE for only the products rated by user\n",
    "def normalize_ratings_minmax(common_item_final_ratings):\n",
    "    X  = common_item_final_ratings.copy() \n",
    "    X = X[X>0]\n",
    "    scaler = MinMaxScaler(feature_range=(1, 5))\n",
    "    scaler.fit(X)\n",
    "    y_item = (scaler.transform(X))\n",
    "    return X, y_item\n",
    "\n",
    "def calc_rmse_item_item(common, y_item):\n",
    "    common_ = common.pivot_table(index='id', columns='reviews_username', values='reviews_rating')\n",
    "#     print(common_)\n",
    "    # Finding total non-NaN value\n",
    "    total_non_nan = np.count_nonzero(~np.isnan(y_item))\n",
    "#     print(total_non_nan)\n",
    "    rmse_item_item = (sum(sum((common_ - y_item)**2))/total_non_nan)**0.5\n",
    "    return rmse_item_item"
   ]
  },
  {
   "cell_type": "code",
   "execution_count": 115,
   "id": "d33d7e2b",
   "metadata": {},
   "outputs": [
    {
     "name": "stdout",
     "output_type": "stream",
     "text": [
      "3.5774128370320195\n"
     ]
    }
   ],
   "source": [
    "# Evaluate the item-based recommender system\n",
    "common, common_item_based_matrix = get_common_items(train, test)\n",
    "df_pivot, item_correlation_train = get_item_corr_test(similarity_type, test)\n",
    "# df_pivot, item_correlation_train = df_pivot, item_correlation # already calculated at training\n",
    "item_correlation_with_index = set_index_column_names_to_item_correlation_df(similarity_type, item_correlation_train, df_pivot, common)\n",
    "common_item_predicted_ratings = calculate_item_weighted_avg_test(item_correlation_with_index, common_item_based_matrix)\n",
    "dummy_test = create_dummy_test_item(common)\n",
    "common_item_final_ratings = predict_ratings_for_common_item(common_item_predicted_ratings, dummy_test)\n",
    "X_item, y_item = normalize_ratings_minmax(common_item_final_ratings)\n",
    "# print(y_item)\n",
    "rmse_item_item = calc_rmse_item_item(common, y_item)\n",
    "print(rmse_item_item)"
   ]
  },
  {
   "cell_type": "markdown",
   "id": "c95485b1",
   "metadata": {},
   "source": [
    "### Best-suited Recommendation model"
   ]
  },
  {
   "cell_type": "markdown",
   "id": "b596538a",
   "metadata": {},
   "source": [
    "- To get the best recommendation model, I will use RMSE (Root Mean Square Error) scores for both user-user and item-item based recommendation systems and do a comparison of the values.\n",
    "- The recommendation model with the least RMSE will be selected as the best recommendation model."
   ]
  },
  {
   "cell_type": "code",
   "execution_count": 116,
   "id": "79c5e509",
   "metadata": {},
   "outputs": [
    {
     "name": "stdout",
     "output_type": "stream",
     "text": [
      "Best-fit model is \u001b[1;3m'User-Based Collaborative Filtering' recommendation\u001b[0m system with an RMSE of \u001b[1;3m2.084841852467448\u001b[0m.\n"
     ]
    }
   ],
   "source": [
    "# Recommended model evaluation\n",
    "if rmse_user_user < rmse_item_item:\n",
    "    best_recommender_flag = 'User-Based Collaborative Filtering'\n",
    "    print(f\"Best-fit model is \\x1B[1;3m'User-Based Collaborative Filtering' recommendation\\x1B[0m system with an RMSE of \\x1B[1;3m{rmse_user_user}\\x1B[0m.\")\n",
    "else:\n",
    "    best_recommender_flag = 'Item-Based Collaborative Filtering'\n",
    "    print(\"Best-fit model is \\x1B[1;3m'Item-Based Collaborative Filtering'\\x1B[0m system with an RMSE of \\x1B[1;3m{rmse_item_item}\\x1B[0m.\")"
   ]
  },
  {
   "cell_type": "markdown",
   "id": "f04167a9",
   "metadata": {
    "id": "ViQ8Iq7XqaxH"
   },
   "source": [
    "## Top 20 Product recommendations to the user by the best recommendation model (user-user based recommendation system)"
   ]
  },
  {
   "cell_type": "code",
   "execution_count": 117,
   "id": "d0efce39",
   "metadata": {},
   "outputs": [
    {
     "data": {
      "text/html": [
       "<div>\n",
       "<style scoped>\n",
       "    .dataframe tbody tr th:only-of-type {\n",
       "        vertical-align: middle;\n",
       "    }\n",
       "\n",
       "    .dataframe tbody tr th {\n",
       "        vertical-align: top;\n",
       "    }\n",
       "\n",
       "    .dataframe thead th {\n",
       "        text-align: right;\n",
       "    }\n",
       "</style>\n",
       "<table border=\"1\" class=\"dataframe\">\n",
       "  <thead>\n",
       "    <tr style=\"text-align: right;\">\n",
       "      <th></th>\n",
       "      <th>Id</th>\n",
       "      <th>name</th>\n",
       "      <th>Similarity Score</th>\n",
       "    </tr>\n",
       "  </thead>\n",
       "  <tbody>\n",
       "    <tr>\n",
       "      <th>19</th>\n",
       "      <td>AVpfRTh1ilAPnD_xYic2</td>\n",
       "      <td>Planes: Fire Rescue (2 Discs) (includes Digita...</td>\n",
       "      <td>118.730925</td>\n",
       "    </tr>\n",
       "    <tr>\n",
       "      <th>5</th>\n",
       "      <td>AVpf0eb2LJeJML43EVSt</td>\n",
       "      <td>The Resident Evil Collection 5 Discs (blu-Ray)</td>\n",
       "      <td>97.317312</td>\n",
       "    </tr>\n",
       "    <tr>\n",
       "      <th>2</th>\n",
       "      <td>AVpe41TqilAPnD_xQH3d</td>\n",
       "      <td>Mike Dave Need Wedding Dates (dvd + Digital)</td>\n",
       "      <td>94.270809</td>\n",
       "    </tr>\n",
       "    <tr>\n",
       "      <th>3</th>\n",
       "      <td>AVpe59io1cnluZ0-ZgDU</td>\n",
       "      <td>My Big Fat Greek Wedding 2 (blu-Ray + Dvd + Di...</td>\n",
       "      <td>56.830009</td>\n",
       "    </tr>\n",
       "    <tr>\n",
       "      <th>8</th>\n",
       "      <td>AVpf3VOfilAPnD_xjpun</td>\n",
       "      <td>Clorox Disinfecting Wipes Value Pack Scented 1...</td>\n",
       "      <td>40.134641</td>\n",
       "    </tr>\n",
       "    <tr>\n",
       "      <th>17</th>\n",
       "      <td>AVpfPnrU1cnluZ0-g9rL</td>\n",
       "      <td>Stargate (ws) (ultimate Edition) (director's C...</td>\n",
       "      <td>27.732010</td>\n",
       "    </tr>\n",
       "    <tr>\n",
       "      <th>13</th>\n",
       "      <td>AVpfJP1C1cnluZ0-e3Xy</td>\n",
       "      <td>Clorox Disinfecting Bathroom Cleaner</td>\n",
       "      <td>25.335860</td>\n",
       "    </tr>\n",
       "    <tr>\n",
       "      <th>14</th>\n",
       "      <td>AVpfM_ytilAPnD_xXIJb</td>\n",
       "      <td>Tostitos Bite Size Tortilla Chips</td>\n",
       "      <td>24.981460</td>\n",
       "    </tr>\n",
       "    <tr>\n",
       "      <th>6</th>\n",
       "      <td>AVpf0thK1cnluZ0-r8vR</td>\n",
       "      <td>100:Complete First Season (blu-Ray)</td>\n",
       "      <td>20.649517</td>\n",
       "    </tr>\n",
       "    <tr>\n",
       "      <th>16</th>\n",
       "      <td>AVpfOIrkilAPnD_xXgDG</td>\n",
       "      <td>Alex Cross (dvdvideo)</td>\n",
       "      <td>19.060317</td>\n",
       "    </tr>\n",
       "    <tr>\n",
       "      <th>1</th>\n",
       "      <td>AVpe31o71cnluZ0-YrSD</td>\n",
       "      <td>Dark Shadows (includes Digital Copy) (ultravio...</td>\n",
       "      <td>19.018940</td>\n",
       "    </tr>\n",
       "    <tr>\n",
       "      <th>18</th>\n",
       "      <td>AVpfR5m0LJeJML436K3W</td>\n",
       "      <td>Jason Aldean - They Don't Know</td>\n",
       "      <td>17.317589</td>\n",
       "    </tr>\n",
       "    <tr>\n",
       "      <th>10</th>\n",
       "      <td>AVpf5olc1cnluZ0-tPrO</td>\n",
       "      <td>Chester's Cheese Flavored Puffcorn Snacks</td>\n",
       "      <td>16.409960</td>\n",
       "    </tr>\n",
       "    <tr>\n",
       "      <th>0</th>\n",
       "      <td>AV1YGDqsGV-KLJ3adc-O</td>\n",
       "      <td>Windex Original Glass Cleaner Refill 67.6oz (2...</td>\n",
       "      <td>15.139924</td>\n",
       "    </tr>\n",
       "    <tr>\n",
       "      <th>7</th>\n",
       "      <td>AVpf385g1cnluZ0-s0_t</td>\n",
       "      <td>Hormel Chili, No Beans</td>\n",
       "      <td>14.332761</td>\n",
       "    </tr>\n",
       "    <tr>\n",
       "      <th>12</th>\n",
       "      <td>AVpfBrUZilAPnD_xTUly</td>\n",
       "      <td>Coty Airspun Face Powder, Translucent Extra Co...</td>\n",
       "      <td>12.086860</td>\n",
       "    </tr>\n",
       "    <tr>\n",
       "      <th>4</th>\n",
       "      <td>AVpe9W4D1cnluZ0-avf0</td>\n",
       "      <td>Hoover174 Platinum Collection153 Lightweight B...</td>\n",
       "      <td>11.922010</td>\n",
       "    </tr>\n",
       "    <tr>\n",
       "      <th>11</th>\n",
       "      <td>AVpfazX31cnluZ0-kbdl</td>\n",
       "      <td>Just For Men Touch Of Gray Gray Hair Treatment...</td>\n",
       "      <td>11.635990</td>\n",
       "    </tr>\n",
       "    <tr>\n",
       "      <th>15</th>\n",
       "      <td>AVpf--o9LJeJML43G_Fq</td>\n",
       "      <td>Vaseline Intensive Care Healthy Hands Stronger...</td>\n",
       "      <td>10.028440</td>\n",
       "    </tr>\n",
       "    <tr>\n",
       "      <th>9</th>\n",
       "      <td>AVpf4oLxLJeJML43FcxC</td>\n",
       "      <td>Avery174 Ready Index Contemporary Table Of Con...</td>\n",
       "      <td>9.268542</td>\n",
       "    </tr>\n",
       "  </tbody>\n",
       "</table>\n",
       "</div>"
      ],
      "text/plain": [
       "                      Id                                               name   \n",
       "19  AVpfRTh1ilAPnD_xYic2  Planes: Fire Rescue (2 Discs) (includes Digita...  \\\n",
       "5   AVpf0eb2LJeJML43EVSt     The Resident Evil Collection 5 Discs (blu-Ray)   \n",
       "2   AVpe41TqilAPnD_xQH3d       Mike Dave Need Wedding Dates (dvd + Digital)   \n",
       "3   AVpe59io1cnluZ0-ZgDU  My Big Fat Greek Wedding 2 (blu-Ray + Dvd + Di...   \n",
       "8   AVpf3VOfilAPnD_xjpun  Clorox Disinfecting Wipes Value Pack Scented 1...   \n",
       "17  AVpfPnrU1cnluZ0-g9rL  Stargate (ws) (ultimate Edition) (director's C...   \n",
       "13  AVpfJP1C1cnluZ0-e3Xy               Clorox Disinfecting Bathroom Cleaner   \n",
       "14  AVpfM_ytilAPnD_xXIJb                  Tostitos Bite Size Tortilla Chips   \n",
       "6   AVpf0thK1cnluZ0-r8vR                100:Complete First Season (blu-Ray)   \n",
       "16  AVpfOIrkilAPnD_xXgDG                              Alex Cross (dvdvideo)   \n",
       "1   AVpe31o71cnluZ0-YrSD  Dark Shadows (includes Digital Copy) (ultravio...   \n",
       "18  AVpfR5m0LJeJML436K3W                     Jason Aldean - They Don't Know   \n",
       "10  AVpf5olc1cnluZ0-tPrO          Chester's Cheese Flavored Puffcorn Snacks   \n",
       "0   AV1YGDqsGV-KLJ3adc-O  Windex Original Glass Cleaner Refill 67.6oz (2...   \n",
       "7   AVpf385g1cnluZ0-s0_t                             Hormel Chili, No Beans   \n",
       "12  AVpfBrUZilAPnD_xTUly  Coty Airspun Face Powder, Translucent Extra Co...   \n",
       "4   AVpe9W4D1cnluZ0-avf0  Hoover174 Platinum Collection153 Lightweight B...   \n",
       "11  AVpfazX31cnluZ0-kbdl  Just For Men Touch Of Gray Gray Hair Treatment...   \n",
       "15  AVpf--o9LJeJML43G_Fq  Vaseline Intensive Care Healthy Hands Stronger...   \n",
       "9   AVpf4oLxLJeJML43FcxC  Avery174 Ready Index Contemporary Table Of Con...   \n",
       "\n",
       "    Similarity Score  \n",
       "19        118.730925  \n",
       "5          97.317312  \n",
       "2          94.270809  \n",
       "3          56.830009  \n",
       "8          40.134641  \n",
       "17         27.732010  \n",
       "13         25.335860  \n",
       "14         24.981460  \n",
       "6          20.649517  \n",
       "16         19.060317  \n",
       "1          19.018940  \n",
       "18         17.317589  \n",
       "10         16.409960  \n",
       "0          15.139924  \n",
       "7          14.332761  \n",
       "12         12.086860  \n",
       "4          11.922010  \n",
       "11         11.635990  \n",
       "15         10.028440  \n",
       "9           9.268542  "
      ]
     },
     "execution_count": 117,
     "metadata": {},
     "output_type": "execute_result"
    }
   ],
   "source": [
    "user_input = 'evrydayhustla420'\n",
    "similarity_type = 'cosine similarity'\n",
    "dummy_train = create_dummy_train(train)\n",
    "\n",
    "if best_recommender_flag == 'User-Based Collaborative Filtering':\n",
    "    df_pivot, user_correlation = calculate_similarity_scores(similarity_type, train)\n",
    "    user_final_rating = calculate_weighted_avg(user_correlation, df_pivot)\n",
    "    _, top_20_recomm_df = recommend_top_20_products(user_input, user_final_rating, df_recomm, train)\n",
    "    best_recommender_model = user_final_rating\n",
    "else:\n",
    "    df_pivot, item_correlation = calculate_similarity_train_item_item(similarity_type, user_input, train)\n",
    "    item_final_rating = calculate_weighted_avg_train_item_item(df_pivot, item_correlation, dummy_train)\n",
    "    _, top_20_recomm_df = recommend_top_20_products(user_input, item_final_rating, df_recomm, train)\n",
    "    best_recommender_model = item_final_rating\n",
    "\n",
    "top_20_recomm_df"
   ]
  },
  {
   "cell_type": "markdown",
   "id": "83bdc5c8",
   "metadata": {
    "id": "baYZuxSsrjcj"
   },
   "source": [
    "#### Save the best recommendation model"
   ]
  },
  {
   "cell_type": "code",
   "execution_count": 118,
   "id": "993ab23a",
   "metadata": {},
   "outputs": [],
   "source": [
    "best_recommendation_model = pickle.dump(best_recommender_model.astype(\n",
    "    'float32'), open('./models/best_recommendation_model.pkl', 'wb'))"
   ]
  },
  {
   "cell_type": "markdown",
   "id": "114b32ff",
   "metadata": {},
   "source": [
    "# Improving the recommendations using the sentiment analysis model"
   ]
  },
  {
   "cell_type": "markdown",
   "id": "8afe7dbe",
   "metadata": {},
   "source": [
    "> Use both the recommendation system and the sentiment analysis model to further filter out the top 5 products (based on both ratings and sentiments)"
   ]
  },
  {
   "cell_type": "markdown",
   "id": "0bb49323",
   "metadata": {},
   "source": [
    "Things to do -  \n",
    "- Predict the sentiment (positive or negative) of all the reviews in the train data set of the top 20 recommended products for a user. \n",
    "- For each of the 20 products recommended, find the percentage of positive sentiments for all the reviews of each product.\n",
    "- Filter out the top 5 products with the highest percentage of positive reviews."
   ]
  },
  {
   "cell_type": "markdown",
   "id": "bff0503a",
   "metadata": {},
   "source": [
    "Filter out the 5 best products based on the sentiments of the 20 recommended product reviews. "
   ]
  },
  {
   "cell_type": "code",
   "execution_count": 119,
   "id": "a566efc3",
   "metadata": {},
   "outputs": [],
   "source": [
    "def get_sentiment_recommendations(user):\n",
    "    '''\n",
    "    i. Get all the reviews of the top 20 products from the recommender system by this user\n",
    "    ii. Check if they are also part of the dataset used for sentiment analysis\n",
    "    iii. Transform these text into numeric using the TF-IDF created earlier\n",
    "    iv. Feed this input to the sentiment analysis model to get predictions of sentiments\n",
    "    v. For each product, get the total % of positive sentiments.\n",
    "    vi. Return the top 5 recommended products for this user\n",
    "    '''\n",
    "       \n",
    "    if (user in best_recommender_model.index):\n",
    "        # Get all the reviews of the top 20 products from the recommender system by this user\n",
    "        recommendations = list(\n",
    "            best_recommender_model.loc[user].sort_values(ascending=False)[0:20].index)\n",
    "        # Check if these records are also part of the dataset used for sentiment analysis\n",
    "        temp = df_sent[df_sent.id.isin(recommendations)]\n",
    "        # Transform these text into numeric using the TF-IDF created earlier\n",
    "        X = tfidf.transform(\n",
    "            temp[\"reviews_lemmatized\"].values.astype(str))\n",
    "        # Feed this input to the sentiment analysis model to get predictions of sentiments\n",
    "        temp[\"predicted_sentiment\"] = best_sentiment_model.predict(X)\n",
    "        temp = temp[['name', 'predicted_sentiment']]\n",
    "        # Calculate the total count of sentiments for each user\n",
    "        temp_grouped = temp.groupby('name', as_index=False).count()\n",
    "        # Now calculate the count of 'positive' sentiments for each user\n",
    "        temp_grouped[\"pos_review_count\"] = temp_grouped.name.apply(lambda x: temp[(\n",
    "            temp.name == x) & (temp.predicted_sentiment == 1)][\"predicted_sentiment\"].count())\n",
    "        # Rename 'predicted_sentiment' to 'total_review_count'\n",
    "        temp_grouped.rename(\n",
    "            columns={'predicted_sentiment': 'total_review_count'}, inplace=True)\n",
    "        # For each product, calculate the % of positive sentiments across all the sentiments of that product\n",
    "        temp_grouped['pos_sentiment_percent'] = np.round(\n",
    "            temp_grouped[\"pos_review_count\"]/temp_grouped[\"total_review_count\"]*100, 2)\n",
    "\n",
    "        return temp_grouped.sort_values('pos_sentiment_percent', ascending=False)\n",
    "    else:\n",
    "        print(f\"User name {user} doesn't exist\")"
   ]
  },
  {
   "cell_type": "code",
   "execution_count": 122,
   "id": "9a432715",
   "metadata": {
    "scrolled": true
   },
   "outputs": [
    {
     "data": {
      "text/html": [
       "<div>\n",
       "<style scoped>\n",
       "    .dataframe tbody tr th:only-of-type {\n",
       "        vertical-align: middle;\n",
       "    }\n",
       "\n",
       "    .dataframe tbody tr th {\n",
       "        vertical-align: top;\n",
       "    }\n",
       "\n",
       "    .dataframe thead th {\n",
       "        text-align: right;\n",
       "    }\n",
       "</style>\n",
       "<table border=\"1\" class=\"dataframe\">\n",
       "  <thead>\n",
       "    <tr style=\"text-align: right;\">\n",
       "      <th></th>\n",
       "      <th>name</th>\n",
       "      <th>total_review_count</th>\n",
       "      <th>pos_review_count</th>\n",
       "      <th>pos_sentiment_percent</th>\n",
       "    </tr>\n",
       "  </thead>\n",
       "  <tbody>\n",
       "    <tr>\n",
       "      <th>14</th>\n",
       "      <td>Stargate (ws) (ultimate Edition) (director's C...</td>\n",
       "      <td>186</td>\n",
       "      <td>179</td>\n",
       "      <td>96.24</td>\n",
       "    </tr>\n",
       "    <tr>\n",
       "      <th>0</th>\n",
       "      <td>100:Complete First Season (blu-Ray)</td>\n",
       "      <td>139</td>\n",
       "      <td>131</td>\n",
       "      <td>94.24</td>\n",
       "    </tr>\n",
       "    <tr>\n",
       "      <th>18</th>\n",
       "      <td>Vaseline Intensive Care Healthy Hands Stronger...</td>\n",
       "      <td>95</td>\n",
       "      <td>89</td>\n",
       "      <td>93.68</td>\n",
       "    </tr>\n",
       "    <tr>\n",
       "      <th>6</th>\n",
       "      <td>Clorox Disinfecting Bathroom Cleaner</td>\n",
       "      <td>2039</td>\n",
       "      <td>1894</td>\n",
       "      <td>92.89</td>\n",
       "    </tr>\n",
       "    <tr>\n",
       "      <th>8</th>\n",
       "      <td>Coty Airspun Face Powder, Translucent Extra Co...</td>\n",
       "      <td>158</td>\n",
       "      <td>146</td>\n",
       "      <td>92.41</td>\n",
       "    </tr>\n",
       "  </tbody>\n",
       "</table>\n",
       "</div>"
      ],
      "text/plain": [
       "                                                 name  total_review_count   \n",
       "14  Stargate (ws) (ultimate Edition) (director's C...                 186  \\\n",
       "0                 100:Complete First Season (blu-Ray)                 139   \n",
       "18  Vaseline Intensive Care Healthy Hands Stronger...                  95   \n",
       "6                Clorox Disinfecting Bathroom Cleaner                2039   \n",
       "8   Coty Airspun Face Powder, Translucent Extra Co...                 158   \n",
       "\n",
       "    pos_review_count  pos_sentiment_percent  \n",
       "14               179                  96.24  \n",
       "0                131                  94.24  \n",
       "18                89                  93.68  \n",
       "6               1894                  92.89  \n",
       "8                146                  92.41  "
      ]
     },
     "execution_count": 122,
     "metadata": {},
     "output_type": "execute_result"
    }
   ],
   "source": [
    "# Return the top 5 recommended products for this user along with the counts of total reviews, positive reviews and % of positive review\n",
    "user_input = 'charlie'\n",
    "get_sentiment_recommendations(user_input)[:5]"
   ]
  },
  {
   "cell_type": "code",
   "execution_count": 123,
   "id": "aaa85e53",
   "metadata": {
    "scrolled": false
   },
   "outputs": [
    {
     "name": "stdout",
     "output_type": "stream",
     "text": [
      "The list of top 5 recommended products for the user, 'charlie':\n",
      "\u001b[1m1 - Stargate (ws) (ultimate Edition) (director's Cut) (dvdvideo)\n",
      "2 - 100:Complete First Season (blu-Ray)\n",
      "3 - Vaseline Intensive Care Healthy Hands Stronger Nails\n",
      "4 - Clorox Disinfecting Bathroom Cleaner\n",
      "5 - Coty Airspun Face Powder, Translucent Extra Coverage\u001b[0m\n"
     ]
    }
   ],
   "source": [
    "# Print just the name of the top 5 recommended products for this user\n",
    "print(f\"The list of top 5 recommended products for the user, '{user_input}':\")\n",
    "print(\"\\033[1m\" + '\\n'.join([f'{i} - {val}' for i, val in (enumerate(\n",
    "    get_sentiment_recommendations(user_input)[:5].name, start=1))])+'\\x1B[0m')"
   ]
  },
  {
   "cell_type": "markdown",
   "id": "e320676b",
   "metadata": {},
   "source": [
    "# Deploying the end-to-end project with an UI"
   ]
  },
  {
   "cell_type": "markdown",
   "id": "0259c466",
   "metadata": {},
   "source": [
    ">Use ***Flask*** framework to build an API and publicly host it on a PaaS platform like ***Heroku***:\n",
    "    > 1. Enter any of the existing username.\n",
    "    > 2. Click [Submit] (or press ENTER) to see the top 5 recommended products for that user."
   ]
  },
  {
   "cell_type": "markdown",
   "id": "287fa9d0",
   "metadata": {},
   "source": [
    "Click this public URL here to get the top 5 recommendations: Launch the [Recommender](https://web-production-e49c2.up.railway.app/) for a user.\n",
    "\n",
    "NOTE: As *Heroku* stopped offering free tier from November 2022, I've used *Railway* to host my application."
   ]
  }
 ],
 "metadata": {
  "kernelspec": {
   "display_name": "Python 3 (ipykernel)",
   "language": "python",
   "name": "python3"
  },
  "language_info": {
   "codemirror_mode": {
    "name": "ipython",
    "version": 3
   },
   "file_extension": ".py",
   "mimetype": "text/x-python",
   "name": "python",
   "nbconvert_exporter": "python",
   "pygments_lexer": "ipython3",
   "version": "3.9.7"
  },
  "varInspector": {
   "cols": {
    "lenName": 16,
    "lenType": 16,
    "lenVar": 40
   },
   "kernels_config": {
    "python": {
     "delete_cmd_postfix": "",
     "delete_cmd_prefix": "del ",
     "library": "var_list.py",
     "varRefreshCmd": "print(var_dic_list())"
    },
    "r": {
     "delete_cmd_postfix": ") ",
     "delete_cmd_prefix": "rm(",
     "library": "var_list.r",
     "varRefreshCmd": "cat(var_dic_list()) "
    }
   },
   "types_to_exclude": [
    "module",
    "function",
    "builtin_function_or_method",
    "instance",
    "_Feature"
   ],
   "window_display": false
  }
 },
 "nbformat": 4,
 "nbformat_minor": 5
}
